{
 "cells": [
  {
   "cell_type": "code",
   "execution_count": 2,
   "metadata": {},
   "outputs": [],
   "source": [
    "import pandas as pd\n",
    "import pickle\n",
    "import numpy as np\n",
    "import datetime as dt\n",
    "import nltk, string\n",
    "import matplotlib.pyplot as plt\n",
    "import pickle\n",
    "from nltk.corpus import stopwords\n",
    "from nltk.stem import WordNetLemmatizer, PorterStemmer\n",
    "from textblob import Word\n",
    "from itertools import combinations, product\n",
    "import random\n",
    "import webbrowser"
   ]
  },
  {
   "cell_type": "code",
   "execution_count": 3,
   "metadata": {},
   "outputs": [],
   "source": [
    "from sklearn.linear_model import LinearRegression\n",
    "from sklearn.model_selection import train_test_split"
   ]
  },
  {
   "cell_type": "markdown",
   "metadata": {},
   "source": [
    "### Loading required files and tables"
   ]
  },
  {
   "cell_type": "code",
   "execution_count": null,
   "metadata": {},
   "outputs": [],
   "source": [
    "studies = pd.read_csv(\"Data/Studies.csv\",index_col=0)\n",
    "print(studies.shape)"
   ]
  },
  {
   "cell_type": "code",
   "execution_count": 4,
   "metadata": {},
   "outputs": [],
   "source": [
    "#Key word similarity matrix\n",
    "keyword_sim = pickle.load(open(\"Output/sim_mat_keyword_tfidf.pkl\",\"rb\"))\n",
    "\n",
    "#Detailed desc similarity matrix\n",
    "detailed_desc_sim = pickle.load(open(\"Output/sim_mat_d_desc_tfidf.pkl\",\"rb\"))\n",
    "\n",
    "#Official title similarity matrix\n",
    "official_tit_sim = pickle.load(open(\"Output/sim_mat_off_t_tfidf.pkl\",\"rb\"))"
   ]
  },
  {
   "cell_type": "code",
   "execution_count": 5,
   "metadata": {},
   "outputs": [],
   "source": [
    "year_list = list(range(2014,2019))"
   ]
  },
  {
   "cell_type": "code",
   "execution_count": 6,
   "metadata": {},
   "outputs": [
    {
     "name": "stdout",
     "output_type": "stream",
     "text": [
      "2014 (709, 709) (709, 709) (709, 709)\n",
      "2015 (963, 963) (963, 963) (963, 963)\n",
      "2016 (1643, 1643) (1643, 1643) (1643, 1643)\n",
      "2017 (4750, 4750) (4750, 4750) (4750, 4750)\n",
      "2018 (3419, 3419) (3419, 3419) (3419, 3419)\n"
     ]
    }
   ],
   "source": [
    "for year in year_list:\n",
    "    print(year, keyword_sim[year].shape, detailed_desc_sim[year].shape, official_tit_sim[year].shape)"
   ]
  },
  {
   "cell_type": "markdown",
   "metadata": {},
   "source": [
    "### Guaging percentage null TFIDF vectors by year and method"
   ]
  },
  {
   "cell_type": "code",
   "execution_count": 6,
   "metadata": {},
   "outputs": [],
   "source": [
    "keyword_sim_new = keyword_sim.copy()"
   ]
  },
  {
   "cell_type": "code",
   "execution_count": 7,
   "metadata": {},
   "outputs": [],
   "source": [
    "null_keyword_vecs_by_year = {year:[] for year in year_list}"
   ]
  },
  {
   "cell_type": "code",
   "execution_count": 8,
   "metadata": {},
   "outputs": [],
   "source": [
    "for year in year_list:\n",
    "    for col in keyword_sim_new[year].columns:\n",
    "        if keyword_sim_new[year][col][col]==0.0:\n",
    "            null_keyword_vecs_by_year[year].append(col)"
   ]
  },
  {
   "cell_type": "code",
   "execution_count": 9,
   "metadata": {},
   "outputs": [
    {
     "data": {
      "text/plain": [
       "[(326, 0.459802538787024),\n",
       " (510, 0.5295950155763239),\n",
       " (1046, 0.6366402921485088),\n",
       " (3351, 0.7054736842105264),\n",
       " (2501, 0.7315004387247733)]"
      ]
     },
     "execution_count": 9,
     "metadata": {},
     "output_type": "execute_result"
    }
   ],
   "source": [
    "[(len(elem), len(elem)/keyword_sim_new[key].shape[0]) for key,elem in null_keyword_vecs_by_year.items()]"
   ]
  },
  {
   "cell_type": "code",
   "execution_count": 10,
   "metadata": {},
   "outputs": [],
   "source": [
    "official_tit_sim_new = official_tit_sim.copy()"
   ]
  },
  {
   "cell_type": "code",
   "execution_count": 11,
   "metadata": {},
   "outputs": [],
   "source": [
    "null_official_tit_vecs_by_year = {year:[] for year in year_list}"
   ]
  },
  {
   "cell_type": "code",
   "execution_count": 12,
   "metadata": {},
   "outputs": [],
   "source": [
    "for year in year_list:\n",
    "    for col in official_tit_sim_new[year].columns:\n",
    "        if official_tit_sim_new[year][col][col]==0.0:\n",
    "            null_official_tit_vecs_by_year[year].append(col)"
   ]
  },
  {
   "cell_type": "code",
   "execution_count": 13,
   "metadata": {},
   "outputs": [
    {
     "data": {
      "text/plain": [
       "[(49, 0.0691114245416079),\n",
       " (68, 0.07061266874350987),\n",
       " (168, 0.10225197808886184),\n",
       " (566, 0.1191578947368421),\n",
       " (370, 0.10821877742029833)]"
      ]
     },
     "execution_count": 13,
     "metadata": {},
     "output_type": "execute_result"
    }
   ],
   "source": [
    "[(len(elem),len(elem)/official_tit_sim_new[key].shape[0]) for key,elem in null_official_tit_vecs_by_year.items()]"
   ]
  },
  {
   "cell_type": "code",
   "execution_count": 14,
   "metadata": {},
   "outputs": [],
   "source": [
    "detailed_desc_sim_new = detailed_desc_sim.copy()"
   ]
  },
  {
   "cell_type": "code",
   "execution_count": 15,
   "metadata": {},
   "outputs": [],
   "source": [
    "null_detailed_desc_vecs_by_year = {year:[] for year in year_list}"
   ]
  },
  {
   "cell_type": "code",
   "execution_count": 16,
   "metadata": {},
   "outputs": [],
   "source": [
    "for year in year_list:\n",
    "    for col in detailed_desc_sim_new[year].columns:\n",
    "        if detailed_desc_sim_new[year][col][col]==0.0:\n",
    "            null_detailed_desc_vecs_by_year[year].append(col)"
   ]
  },
  {
   "cell_type": "code",
   "execution_count": 17,
   "metadata": {},
   "outputs": [
    {
     "data": {
      "text/plain": [
       "[(234, 0.3300423131170663),\n",
       " (341, 0.3541017653167186),\n",
       " (603, 0.3670115642118077),\n",
       " (1776, 0.3738947368421053),\n",
       " (1307, 0.38227551915764846)]"
      ]
     },
     "execution_count": 17,
     "metadata": {},
     "output_type": "execute_result"
    }
   ],
   "source": [
    "[(len(elem), len(elem)/detailed_desc_sim_new[key].shape[0]) for key,elem in null_detailed_desc_vecs_by_year.items()]"
   ]
  },
  {
   "cell_type": "markdown",
   "metadata": {},
   "source": [
    "### Replacing similarities arising from null TFIDF vectors from 0.0 to NaN"
   ]
  },
  {
   "cell_type": "code",
   "execution_count": 18,
   "metadata": {},
   "outputs": [],
   "source": [
    "for year in year_list:\n",
    "    keyword_sim_new[year][null_keyword_vecs_by_year[year]] = np.NaN\n",
    "    keyword_sim_new[year] = keyword_sim_new[year].T\n",
    "    keyword_sim_new[year][null_keyword_vecs_by_year[year]] = np.NaN\n",
    "    keyword_sim_new[year]  = keyword_sim_new[year].T"
   ]
  },
  {
   "cell_type": "code",
   "execution_count": 19,
   "metadata": {},
   "outputs": [],
   "source": [
    "for year in year_list:\n",
    "    official_tit_sim_new[year][null_official_tit_vecs_by_year[year]] = np.NaN\n",
    "    official_tit_sim_new[year] = official_tit_sim_new[year].T\n",
    "    official_tit_sim_new[year][null_official_tit_vecs_by_year[year]] = np.NaN\n",
    "    official_tit_sim_new[year]  = official_tit_sim_new[year].T"
   ]
  },
  {
   "cell_type": "code",
   "execution_count": 20,
   "metadata": {},
   "outputs": [],
   "source": [
    "for year in year_list:\n",
    "    detailed_desc_sim_new[year][null_detailed_desc_vecs_by_year[year]] = np.NaN\n",
    "    detailed_desc_sim_new[year] = detailed_desc_sim_new[year].T\n",
    "    detailed_desc_sim_new[year][null_detailed_desc_vecs_by_year[year]] = np.NaN\n",
    "    detailed_desc_sim_new[year]  = detailed_desc_sim_new[year].T"
   ]
  },
  {
   "cell_type": "markdown",
   "metadata": {},
   "source": [
    "### Subtracting similarity matrices element-wise for all pairwise combinations"
   ]
  },
  {
   "cell_type": "code",
   "execution_count": 24,
   "metadata": {},
   "outputs": [],
   "source": [
    "sim_mat_list = ['keyword_sim_new',\n",
    "                'official_tit_sim_new',\n",
    "                'detailed_desc_sim_new']\n",
    "sim_mat_combs = {i:elem for i,elem in enumerate(combinations(sim_mat_list,\n",
    "                                                             2))}"
   ]
  },
  {
   "cell_type": "code",
   "execution_count": 25,
   "metadata": {},
   "outputs": [
    {
     "data": {
      "text/plain": [
       "{0: ('keyword_sim_new', 'official_tit_sim_new'),\n",
       " 1: ('keyword_sim_new', 'detailed_desc_sim_new'),\n",
       " 2: ('official_tit_sim_new', 'detailed_desc_sim_new')}"
      ]
     },
     "execution_count": 25,
     "metadata": {},
     "output_type": "execute_result"
    }
   ],
   "source": [
    "sim_mat_combs"
   ]
  },
  {
   "cell_type": "code",
   "execution_count": 26,
   "metadata": {},
   "outputs": [],
   "source": [
    "sim_mat_diffs = {}\n",
    "for key,val in sim_mat_combs.items():\n",
    "    sim_mat_diffs[key] = {year:abs(eval(val[0])[year]- eval(val[1])[year]) \\\n",
    "                          for year in year_list}"
   ]
  },
  {
   "cell_type": "markdown",
   "metadata": {},
   "source": [
    "### Defining helper functions"
   ]
  },
  {
   "cell_type": "code",
   "execution_count": 27,
   "metadata": {},
   "outputs": [],
   "source": [
    "def get_top_cols(row,threshold):\n",
    "    col_names = list(row[row>threshold].index)\n",
    "    return col_names"
   ]
  },
  {
   "cell_type": "code",
   "execution_count": 28,
   "metadata": {},
   "outputs": [],
   "source": [
    "def get_max_diff_pairs(matrix, threshold):\n",
    "    temp_arr = matrix[(matrix>threshold).any(1)]\n",
    "    max_diff_series = pd.Series(data=temp_arr.apply(lambda x: get_top_cols(x,\n",
    "                                                                           threshold),\n",
    "                                                    axis=1),\n",
    "                                 index=temp_arr.index)\n",
    "    return max_diff_series"
   ]
  },
  {
   "cell_type": "code",
   "execution_count": 34,
   "metadata": {},
   "outputs": [],
   "source": [
    "def get_tuples_and_dedup(x):\n",
    "    x['tuples'] = [elem for elem in product(x['nct_id'],x[0])]\n",
    "    return x"
   ]
  },
  {
   "cell_type": "code",
   "execution_count": 35,
   "metadata": {},
   "outputs": [],
   "source": [
    "def get_max_diff_sample(series, \n",
    "                        frac_1,\n",
    "                        frac_2,\n",
    "                        random_state=84):\n",
    "    \n",
    "    series = series.rename_axis('nct_id').reset_index()\n",
    "    series = series.groupby('nct_id').apply(lambda x: x[0].tolist()).apply(lambda x: \\\n",
    "                                                                    list(set([elem for ent in x for elem in ent])))\n",
    "    rs = np.random.RandomState(random_state)\n",
    "    idx_list = rs.choice(list(series.index),\n",
    "                          size=int(series.shape[0]*frac_1),\n",
    "                          replace=False)\n",
    "    \n",
    "    series = series.rename_axis('nct_id').reset_index()\n",
    "    series = series[series['nct_id'].isin(idx_list)]\n",
    "    series['nct_id'] = series['nct_id'].apply(lambda x: [x])\n",
    "    series = series.apply(get_tuples_and_dedup,\n",
    "                          axis=1)\n",
    "    tup_list = list(set([tuple(sorted(elem)) for ent in series['tuples'].tolist() for elem in ent]))\n",
    "    tup_list_idxs = np.array([i for i,elem in enumerate(tup_list)])\n",
    "    chosen_idxs = list(rs.choice(tup_list_idxs,\n",
    "                                  size=int(len(tup_list_idxs)*frac_2),\n",
    "                                  replace=False))\n",
    "    \n",
    "    tup_list = list(np.array(tup_list)[chosen_idxs])\n",
    "    tup_list = pd.DataFrame(data=[list(elem) for elem in tup_list],\n",
    "                            columns=['nct_id_1','nct_id_2'])\n",
    "    \n",
    "    return tup_list"
   ]
  },
  {
   "cell_type": "markdown",
   "metadata": {},
   "source": [
    "### identifying NCT ID pairs with max differences"
   ]
  },
  {
   "cell_type": "code",
   "execution_count": 47,
   "metadata": {},
   "outputs": [
    {
     "name": "stdout",
     "output_type": "stream",
     "text": [
      "(1003,)\n"
     ]
    }
   ],
   "source": [
    "temp_series = get_max_diff_pairs(matrix=sim_mat_diffs[2][2017],\n",
    "                                 threshold=0.9)\n",
    "print(temp_series.shape)"
   ]
  },
  {
   "cell_type": "code",
   "execution_count": 29,
   "metadata": {},
   "outputs": [
    {
     "name": "stdout",
     "output_type": "stream",
     "text": [
      "CPU times: user 5.06 s, sys: 280 ms, total: 5.34 s\n",
      "Wall time: 5.41 s\n"
     ]
    }
   ],
   "source": [
    "%%time\n",
    "\n",
    "max_diff_by_sim_mat_diffs = {}\n",
    "for key,val in sim_mat_diffs.items():\n",
    "    max_diff_by_sim_mat_diffs[key] = {year:get_max_diff_pairs(matrix=sim_mat_diffs[key][year],\n",
    "                                                              threshold=0.9) for year,val_2 in val.items()}"
   ]
  },
  {
   "cell_type": "code",
   "execution_count": 31,
   "metadata": {},
   "outputs": [
    {
     "name": "stdout",
     "output_type": "stream",
     "text": [
      "0 5 [(709, 709), (963, 963), (1643, 1643), (4750, 4750), (3419, 3419)]\n",
      "1 5 [(709, 709), (963, 963), (1643, 1643), (4750, 4750), (3419, 3419)]\n",
      "2 5 [(709, 709), (963, 963), (1643, 1643), (4750, 4750), (3419, 3419)]\n"
     ]
    }
   ],
   "source": [
    "for key,val in sim_mat_diffs.items():\n",
    "    print(key,len(val),[val[elem].shape for elem in val])"
   ]
  },
  {
   "cell_type": "markdown",
   "metadata": {},
   "source": [
    "### estimating fraction of high difference IDs over all IDs (per year)"
   ]
  },
  {
   "cell_type": "code",
   "execution_count": 32,
   "metadata": {},
   "outputs": [
    {
     "name": "stdout",
     "output_type": "stream",
     "text": [
      "Difference Basis: ('keyword_sim_new', 'official_tit_sim_new')\n",
      "2014 : 0.14809590973201692\n",
      "2015 : 0.17964693665628245\n",
      "2016 : 0.1898965307364577\n",
      "2017 : 0.20757894736842106\n",
      "2018 : 0.16554548113483475\n",
      "\n",
      "Difference Basis: ('keyword_sim_new', 'detailed_desc_sim_new')\n",
      "2014 : 0.06488011283497884\n",
      "2015 : 0.06334371754932502\n",
      "2016 : 0.05964698721850274\n",
      "2017 : 0.10610526315789473\n",
      "2018 : 0.09271716876279613\n",
      "\n",
      "Difference Basis: ('official_tit_sim_new', 'detailed_desc_sim_new')\n",
      "2014 : 0.07334273624823695\n",
      "2015 : 0.07268951194184839\n",
      "2016 : 0.12720632988435787\n",
      "2017 : 0.2111578947368421\n",
      "2018 : 0.16964024568587308\n",
      "\n"
     ]
    }
   ],
   "source": [
    "for key,val in max_diff_by_sim_mat_diffs.items():\n",
    "    print(\"Difference Basis:\", sim_mat_combs[key])\n",
    "    for year,val_2 in max_diff_by_sim_mat_diffs[key].items():\n",
    "        print(year,':',val_2.shape[0]/sim_mat_diffs[key][year].shape[0])\n",
    "    print(\"\")\n"
   ]
  },
  {
   "cell_type": "markdown",
   "metadata": {},
   "source": [
    "### sampling high diff IDs (per year)"
   ]
  },
  {
   "cell_type": "code",
   "execution_count": 43,
   "metadata": {},
   "outputs": [
    {
     "data": {
      "text/plain": [
       "11484"
      ]
     },
     "execution_count": 43,
     "metadata": {},
     "output_type": "execute_result"
    }
   ],
   "source": [
    "sum_mat_dims = sum([sim_mat_diffs[0][year].shape[0] for year in year_list])\n",
    "sum_mat_dims"
   ]
  },
  {
   "cell_type": "code",
   "execution_count": 44,
   "metadata": {},
   "outputs": [],
   "source": [
    "frac_2_by_year = {year:1-2*round(sim_mat_diffs[0][year].shape[0]/sum_mat_dims,3) for year in year_list}"
   ]
  },
  {
   "cell_type": "code",
   "execution_count": 45,
   "metadata": {},
   "outputs": [
    {
     "data": {
      "text/plain": [
       "{2014: 0.876, 2015: 0.832, 2016: 0.714, 2017: 0.17200000000000004, 2018: 0.404}"
      ]
     },
     "execution_count": 45,
     "metadata": {},
     "output_type": "execute_result"
    }
   ],
   "source": [
    "frac_2_by_year"
   ]
  },
  {
   "cell_type": "code",
   "execution_count": 46,
   "metadata": {},
   "outputs": [],
   "source": [
    "tup_list_by_year = {year:get_max_diff_sample(series=pd.concat(objs=[max_diff_by_sim_mat_diffs[key][year] \\\n",
    "                                                                    for key in max_diff_by_sim_mat_diffs],\n",
    "                                                              axis=0),\n",
    "                                             frac_1=0.5,\n",
    "                                             frac_2=frac_2_by_year[year]) for year in year_list}"
   ]
  },
  {
   "cell_type": "code",
   "execution_count": 47,
   "metadata": {},
   "outputs": [
    {
     "data": {
      "text/plain": [
       "[(128, 2), (200, 2), (475, 2), (1381, 2), (1468, 2)]"
      ]
     },
     "execution_count": 47,
     "metadata": {},
     "output_type": "execute_result"
    }
   ],
   "source": [
    "[val.shape for key,val in tup_list_by_year.items()]"
   ]
  },
  {
   "cell_type": "markdown",
   "metadata": {},
   "source": [
    "### generating feature matrices (from TF-iDF similarities) based on sampled high diff IDs (per year)"
   ]
  },
  {
   "cell_type": "code",
   "execution_count": 49,
   "metadata": {},
   "outputs": [],
   "source": [
    "feat_mat_by_year = {year:pd.DataFrame([[keyword_sim_new[year][elem_1][elem_2],\n",
    "                                        official_tit_sim_new[year][elem_1][elem_2],\n",
    "                                        detailed_desc_sim_new[year][elem_1][elem_2], elem_1, elem_2] for elem_1,elem_2 in zip(tup_list_by_year[year]['nct_id_1'].tolist(), \n",
    "                                                                tup_list_by_year[year]['nct_id_2'].tolist())],\n",
    "                                      columns=['_'.join(elem.split('_')[:-2])\\\n",
    "                                               for elem in sim_mat_list]+['nct_id_1',\n",
    "                                                                          'nct_id_2'])\n",
    "                                       for year in year_list}    \n",
    "\n",
    "for year in year_list:\n",
    "    feat_mat_by_year[year].index = [elem_1+'_'+elem_2 for elem_1,elem_2 in zip(feat_mat_by_year[year]['nct_id_1'].tolist(),\n",
    "                                                                              feat_mat_by_year[year]['nct_id_2'].tolist())]\n",
    "    "
   ]
  },
  {
   "cell_type": "code",
   "execution_count": 50,
   "metadata": {},
   "outputs": [],
   "source": [
    "feat_mat_by_year_wo_na = {year:feat_mat_by_year[year].dropna() for year in year_list}"
   ]
  },
  {
   "cell_type": "code",
   "execution_count": 51,
   "metadata": {},
   "outputs": [
    {
     "name": "stdout",
     "output_type": "stream",
     "text": [
      "2014\n",
      "(128, 5)\n",
      "(76, 5)\n",
      "\n",
      "2015\n",
      "(200, 5)\n",
      "(110, 5)\n",
      "\n",
      "2016\n",
      "(475, 5)\n",
      "(198, 5)\n",
      "\n",
      "2017\n",
      "(1381, 5)\n",
      "(472, 5)\n",
      "\n",
      "2018\n",
      "(1468, 5)\n",
      "(469, 5)\n",
      "\n"
     ]
    }
   ],
   "source": [
    "for year in year_list:\n",
    "    print(year)\n",
    "    print(feat_mat_by_year[year].shape)\n",
    "    print(feat_mat_by_year_wo_na[year].shape)\n",
    "    print(\"\")"
   ]
  },
  {
   "cell_type": "code",
   "execution_count": 52,
   "metadata": {},
   "outputs": [],
   "source": [
    "for year in year_list:\n",
    "    tup_list_by_year[year].index = [elem_1+'_'+elem_2 for elem_1,elem_2 in zip(tup_list_by_year[year]['nct_id_1'].tolist(),\n",
    "                                                                               tup_list_by_year[year]['nct_id_2'].tolist())]"
   ]
  },
  {
   "cell_type": "code",
   "execution_count": 53,
   "metadata": {},
   "outputs": [],
   "source": [
    "common_pairs_by_year = {year:\\\n",
    "                        list(set(feat_mat_by_year_wo_na[year].index).intersection(set(tup_list_by_year[year].index))) \\\n",
    "                        for year in year_list}"
   ]
  },
  {
   "cell_type": "code",
   "execution_count": 54,
   "metadata": {},
   "outputs": [],
   "source": [
    "for year in year_list:\n",
    "    feat_mat_by_year_wo_na[year] = feat_mat_by_year_wo_na[year].loc[common_pairs_by_year[year]]\n",
    "    tup_list_by_year[year]  =tup_list_by_year[year].loc[common_pairs_by_year[year]]"
   ]
  },
  {
   "cell_type": "code",
   "execution_count": 55,
   "metadata": {},
   "outputs": [
    {
     "name": "stdout",
     "output_type": "stream",
     "text": [
      "(76, 5) (76, 2)\n",
      "(110, 5) (110, 2)\n",
      "(198, 5) (198, 2)\n",
      "(472, 5) (472, 2)\n",
      "(469, 5) (469, 2)\n"
     ]
    }
   ],
   "source": [
    "for year in year_list:\n",
    "    print(feat_mat_by_year_wo_na[year].shape,tup_list_by_year[year].shape)"
   ]
  },
  {
   "cell_type": "code",
   "execution_count": 67,
   "metadata": {},
   "outputs": [],
   "source": [
    "for key in tup_list_by_year:\n",
    "    file_name_1 = 'Data/feat_mat_by_year_'+str(key)+'.csv'\n",
    "    file_name_2 = 'Data/tup_list_by_year_'+str(key)+'.csv'\n",
    "    feat_mat_by_year_wo_na[key].to_csv(file_name_1)\n",
    "    tup_list_by_year[key].to_csv(file_name_2)"
   ]
  },
  {
   "cell_type": "markdown",
   "metadata": {},
   "source": [
    "### Plotting Correlation Matrices for Feature Matrices (per year)"
   ]
  },
  {
   "cell_type": "code",
   "execution_count": 69,
   "metadata": {},
   "outputs": [],
   "source": [
    "#overall correlation plot\n",
    "def plot_corr(data,col_names,figsize):\n",
    "    fig = plt.figure(figsize = figsize)\n",
    "    ax = fig.add_subplot(111)\n",
    "    cax = ax.matshow(np.corrcoef(data[col_names].T), \n",
    "                     interpolation='nearest')\n",
    "    fig.colorbar(cax,fraction=0.046, pad=0.04)\n",
    "    ax.set_xticks(range(len(col_names)))\n",
    "    ax.set_yticks(range(len(col_names)))\n",
    "    ax.set_xticklabels(col_names,rotation=90)\n",
    "    ax.set_yticklabels(col_names)\n",
    "    plt.show()"
   ]
  },
  {
   "cell_type": "code",
   "execution_count": 70,
   "metadata": {},
   "outputs": [
    {
     "data": {
      "text/plain": [
       "['keyword', 'official_tit', 'detailed_desc']"
      ]
     },
     "execution_count": 70,
     "metadata": {},
     "output_type": "execute_result"
    }
   ],
   "source": [
    "col_names = ['_'.join(elem.split('_')[:-2]) for elem in sim_mat_list]\n",
    "col_names"
   ]
  },
  {
   "cell_type": "code",
   "execution_count": 71,
   "metadata": {
    "scrolled": false
   },
   "outputs": [
    {
     "data": {
      "image/png": "[encoded data removed]",
      "text/plain": [
       "<matplotlib.figure.Figure at 0x1a468e6f28>"
      ]
     },
     "metadata": {},
     "output_type": "display_data"
    },
    {
     "data": {
      "image/png": "[encoded data removed]",
      "text/plain": [
       "<matplotlib.figure.Figure at 0x1a4649c0b8>"
      ]
     },
     "metadata": {},
     "output_type": "display_data"
    },
    {
     "data": {
      "image/png": "[encoded data removed]",
      "text/plain": [
       "<matplotlib.figure.Figure at 0x1a2c409fd0>"
      ]
     },
     "metadata": {},
     "output_type": "display_data"
    },
    {
     "data": {
      "image/png": "[encoded data removed]",
      "text/plain": [
       "<matplotlib.figure.Figure at 0x1a46c8ffd0>"
      ]
     },
     "metadata": {},
     "output_type": "display_data"
    },
    {
     "data": {
      "image/png": "[encoded data removed]",
      "text/plain": [
       "<matplotlib.figure.Figure at 0x1a46c7bc50>"
      ]
     },
     "metadata": {},
     "output_type": "display_data"
    }
   ],
   "source": [
    "for year in year_list:\n",
    "    plot_corr(feat_mat_by_year_wo_na[year],col_names,figsize=(5,5))"
   ]
  },
  {
   "cell_type": "markdown",
   "metadata": {},
   "source": [
    "### Manual similarity validation"
   ]
  },
  {
   "cell_type": "code",
   "execution_count": null,
   "metadata": {},
   "outputs": [],
   "source": [
    "for idx in tup_list_by_year[2014].index[:70]:\n",
    "    print()\n",
    "    for elem in idx.split('_'):\n",
    "        print(elem)\n",
    "        webbrowser.open('https://clinicaltrials.gov/ct2/show/record/'+ elem)\n",
    "    curr_status = input(\"Please enter current NCT ID Pair Review Status:\").lower()\n",
    "    if (curr_status=='done') or (curr_status=='next'):\n",
    "        continue"
   ]
  },
  {
   "cell_type": "code",
   "execution_count": null,
   "metadata": {},
   "outputs": [],
   "source": [
    "for idx in tup_list_by_year[2015].index[:70]:\n",
    "    print()\n",
    "    for elem in idx.split('_'):\n",
    "        print(elem)\n",
    "        webbrowser.open('https://clinicaltrials.gov/ct2/show/record/'+ elem)\n",
    "    curr_status = input(\"Please enter current NCT ID Pair Review Status:\").lower()\n",
    "    if (curr_status=='done') or (curr_status=='next'):\n",
    "        continue"
   ]
  },
  {
   "cell_type": "code",
   "execution_count": null,
   "metadata": {},
   "outputs": [],
   "source": [
    "for idx in tup_list_by_year[2016].index[:70]:\n",
    "    print()\n",
    "    for elem in idx.split('_'):\n",
    "        print(elem)\n",
    "        webbrowser.open('https://clinicaltrials.gov/ct2/show/record/'+ elem)\n",
    "    curr_status = input(\"Please enter current NCT ID Pair Review Status:\").lower()\n",
    "    if (curr_status=='done') or (curr_status=='next'):\n",
    "        continue"
   ]
  },
  {
   "cell_type": "markdown",
   "metadata": {},
   "source": [
    "### Linear regression across all years"
   ]
  },
  {
   "cell_type": "code",
   "execution_count": 168,
   "metadata": {},
   "outputs": [],
   "source": [
    "# nct_ids_by_year_with_pos = pickle.load(open(\"../ids_by_year_fda_reg_with_pos.pkl\",\"rb\"))"
   ]
  },
  {
   "cell_type": "code",
   "execution_count": 170,
   "metadata": {},
   "outputs": [
    {
     "name": "stdout",
     "output_type": "stream",
     "text": [
      "2014 : 709\n",
      "2015 : 963\n",
      "2016 : 1643\n",
      "2017 : 4750\n",
      "2018 : 3419\n"
     ]
    }
   ],
   "source": [
    "for year in range(2014,2019):\n",
    "    print(year,':',len(nct_ids_by_year_with_pos[year]))"
   ]
  },
  {
   "cell_type": "markdown",
   "metadata": {},
   "source": [
    "### vertically stacking manual validation scores across all years"
   ]
  },
  {
   "cell_type": "code",
   "execution_count": 173,
   "metadata": {},
   "outputs": [],
   "source": [
    "for year in year_list:\n",
    "    tup_list_by_year_filled[year].reset_index(drop=True,\n",
    "                                              inplace=True)"
   ]
  },
  {
   "cell_type": "code",
   "execution_count": 180,
   "metadata": {},
   "outputs": [
    {
     "name": "stdout",
     "output_type": "stream",
     "text": [
      "(350, 3)\n"
     ]
    }
   ],
   "source": [
    "tup_list_by_year_filled_all = pd.concat(objs=[tup_list_by_year_filled[year] for year in year_list],\n",
    "                                        axis=0).reset_index(drop=True)\n",
    "print(tup_list_by_year_filled_all.shape)"
   ]
  },
  {
   "cell_type": "code",
   "execution_count": 182,
   "metadata": {},
   "outputs": [
    {
     "name": "stdout",
     "output_type": "stream",
     "text": [
      "(700, 3) (700, 3)\n"
     ]
    }
   ],
   "source": [
    "tup_list_by_year_filled_all_rev = tup_list_by_year_filled_all.copy()\n",
    "tup_list_by_year_filled_all_rev.columns = ['nct_id_2','nct_id_1','manual_score']\n",
    "\n",
    "tup_list_by_year_filled_concat = pd.concat(objs=[tup_list_by_year_filled_all,tup_list_by_year_filled_all_rev],\n",
    "                                           axis=0)\n",
    "\n",
    "tup_list_by_year_filled_avg = tup_list_by_year_filled_concat.groupby(['nct_id_1','nct_id_2'])['manual_score']\\\n",
    ".mean().reset_index()\n",
    "\n",
    "print(tup_list_by_year_filled_concat.shape, tup_list_by_year_filled_avg.shape)"
   ]
  },
  {
   "cell_type": "markdown",
   "metadata": {},
   "source": [
    "### generating manual validation matrices for each year"
   ]
  },
  {
   "cell_type": "code",
   "execution_count": 186,
   "metadata": {},
   "outputs": [],
   "source": [
    "def manualValidationMatrix(labels, index):\n",
    "    shape = (len(index),len(index))\n",
    "    validationMatrix = -np.ones(shape)\n",
    "    \n",
    "    for _, row in labels.iterrows():\n",
    "        try:\n",
    "            validationMatrix[index[row['nct_id_1']]][index[row['nct_id_2']]] = row['manual_score']\n",
    "        except:\n",
    "            None\n",
    "            \n",
    "    return validationMatrix"
   ]
  },
  {
   "cell_type": "code",
   "execution_count": 187,
   "metadata": {},
   "outputs": [
    {
     "name": "stdout",
     "output_type": "stream",
     "text": [
      "(709, 709) (963, 963) (1643, 1643) (4750, 4750) (3419, 3419)\n",
      "CPU times: user 397 ms, sys: 144 ms, total: 540 ms\n",
      "Wall time: 673 ms\n"
     ]
    }
   ],
   "source": [
    "%%time\n",
    "\n",
    "validationMatrix_2014 = manualValidationMatrix(tup_list_by_year_filled_avg, \n",
    "                                               nct_ids_by_year_with_pos[2014])\n",
    "validationMatrix_2015 = manualValidationMatrix(tup_list_by_year_filled_avg, \n",
    "                                               nct_ids_by_year_with_pos[2015])\n",
    "validationMatrix_2016 = manualValidationMatrix(tup_list_by_year_filled_avg, \n",
    "                                               nct_ids_by_year_with_pos[2016])\n",
    "validationMatrix_2017 = manualValidationMatrix(tup_list_by_year_filled_avg, \n",
    "                                               nct_ids_by_year_with_pos[2017])\n",
    "validationMatrix_2018 = manualValidationMatrix(tup_list_by_year_filled_avg, \n",
    "                                               nct_ids_by_year_with_pos[2018])\n",
    "\n",
    "print(validationMatrix_2014.shape, \n",
    "      validationMatrix_2015.shape, \n",
    "      validationMatrix_2016.shape, \n",
    "      validationMatrix_2017.shape, \n",
    "      validationMatrix_2018.shape)"
   ]
  },
  {
   "cell_type": "markdown",
   "metadata": {},
   "source": [
    "### stack and ravel validation matrices"
   ]
  },
  {
   "cell_type": "code",
   "execution_count": 192,
   "metadata": {},
   "outputs": [
    {
     "name": "stdout",
     "output_type": "stream",
     "text": [
      "[0.  0.8 0.2 0.1 0.  0.2 0.2 0.  0.1 0.1] 700\n"
     ]
    }
   ],
   "source": [
    "validationMatrix_ravel = np.hstack([np.ravel(validationMatrix_2014),\n",
    "                                    np.ravel(validationMatrix_2015),\n",
    "                                    np.ravel(validationMatrix_2016),\n",
    "                                    np.ravel(validationMatrix_2017),\n",
    "                                    np.ravel(validationMatrix_2018)])\n",
    "\n",
    "validated_indices = np.where(validationMatrix_ravel > -1)\n",
    "\n",
    "print(validationMatrix_ravel[validated_indices][:10], len(validationMatrix_ravel[validated_indices]))"
   ]
  },
  {
   "cell_type": "code",
   "execution_count": 200,
   "metadata": {},
   "outputs": [],
   "source": [
    "def modelCovariatePrep(model, index_list):\n",
    "    for year in range(2014,2019):\n",
    "        if year == 2014:\n",
    "            model_ravel = np.ravel(model[year])\n",
    "        else:\n",
    "            model_ravel = np.hstack([model_ravel,\n",
    "                                     np.ravel(model[year])])\n",
    "\n",
    "    return model_ravel, model_ravel[index_list]"
   ]
  },
  {
   "cell_type": "code",
   "execution_count": 201,
   "metadata": {},
   "outputs": [
    {
     "name": "stdout",
     "output_type": "stream",
     "text": [
      "(700,) (700,) (700,)\n",
      "CPU times: user 880 ms, sys: 1.74 s, total: 2.62 s\n",
      "Wall time: 3.13 s\n"
     ]
    }
   ],
   "source": [
    "%%time\n",
    "\n",
    "pred_keyword, X_keyword = modelCovariatePrep(keyword_sim,\n",
    "                                             validated_indices)\n",
    "\n",
    "pred_off_title, X_off_title = modelCovariatePrep(official_tit_sim,\n",
    "                                                 validated_indices)\n",
    "\n",
    "pred_detailed_desc, X_detailed_desc = modelCovariatePrep(detailed_desc_sim,\n",
    "                                                         validated_indices)\n",
    "\n",
    "print(X_keyword.shape, X_off_title.shape, X_detailed_desc.shape)"
   ]
  },
  {
   "cell_type": "markdown",
   "metadata": {},
   "source": [
    "### fit regression"
   ]
  },
  {
   "cell_type": "code",
   "execution_count": 206,
   "metadata": {},
   "outputs": [
    {
     "data": {
      "text/plain": [
       "LinearRegression(copy_X=True, fit_intercept=False, n_jobs=1, normalize=False)"
      ]
     },
     "execution_count": 206,
     "metadata": {},
     "output_type": "execute_result"
    }
   ],
   "source": [
    "X = np.vstack([X_keyword,\n",
    "               X_off_title,\n",
    "               X_detailed_desc\n",
    "              ]).T\n",
    "\n",
    "y = validationMatrix_ravel[validated_indices]\n",
    "\n",
    "reg = LinearRegression(fit_intercept=False)\n",
    "reg.fit(X, y)"
   ]
  },
  {
   "cell_type": "code",
   "execution_count": 207,
   "metadata": {},
   "outputs": [
    {
     "data": {
      "text/plain": [
       "array([0.13160499, 0.1260861 , 0.2228721 ])"
      ]
     },
     "execution_count": 207,
     "metadata": {},
     "output_type": "execute_result"
    }
   ],
   "source": [
    "reg.coef_"
   ]
  },
  {
   "cell_type": "markdown",
   "metadata": {},
   "source": [
    "### finalize similarity matrices"
   ]
  },
  {
   "cell_type": "code",
   "execution_count": 211,
   "metadata": {},
   "outputs": [
    {
     "name": "stdout",
     "output_type": "stream",
     "text": [
      "(38381560, 3)\n"
     ]
    }
   ],
   "source": [
    "X_pred = np.vstack([pred_keyword,\n",
    "                    pred_off_title,\n",
    "                    pred_detailed_desc\n",
    "                  ]).T\n",
    "print(X_pred.shape)"
   ]
  },
  {
   "cell_type": "code",
   "execution_count": 212,
   "metadata": {},
   "outputs": [],
   "source": [
    "def makePredictions(reg, X, index):\n",
    "    y_pred = reg.predict(X)\n",
    "    \n",
    "    # Find position in ravelled y_pred where each years matrix starts\n",
    "    indices_2014 = [0,len(index[2014])**2]\n",
    "    indices_2015 = [indices_2014[1], indices_2014[1] + len(index[2015])**2]\n",
    "    indices_2016 = [indices_2015[1], indices_2015[1] + len(index[2016])**2]\n",
    "    indices_2017 = [indices_2016[1], indices_2016[1] + len(index[2017])**2]\n",
    "    indices_2018 = [indices_2017[1], indices_2017[1] + len(index[2018])**2]\n",
    "    \n",
    "    # Extract year portion of ravelled y_pred. Reshape and clip to [0,1]\n",
    "    y_pred_2014 = np.clip(np.reshape(y_pred[indices_2014[0]:indices_2014[1]],\n",
    "                                     (len(index[2014]),len(index[2014]))),\n",
    "                          0,\n",
    "                          1)\n",
    "    y_pred_2015 = np.clip(np.reshape(y_pred[indices_2015[0]:indices_2015[1]],\n",
    "                                     (len(index[2015]),len(index[2015]))),\n",
    "                          0,\n",
    "                          1)\n",
    "    y_pred_2016 = np.clip(np.reshape(y_pred[indices_2016[0]:indices_2016[1]],\n",
    "                                     (len(index[2016]),len(index[2016]))),\n",
    "                          0,\n",
    "                          1)\n",
    "    y_pred_2017 = np.clip(np.reshape(y_pred[indices_2017[0]:indices_2017[1]],\n",
    "                                     (len(index[2017]),len(index[2017]))),\n",
    "                          0,\n",
    "                          1)\n",
    "    y_pred_2018 = np.clip(np.reshape(y_pred[indices_2018[0]:indices_2018[1]],\n",
    "                                     (len(index[2018]),len(index[2018]))),\n",
    "                          0,\n",
    "                          1)\n",
    "    \n",
    "    return y_pred_2014, y_pred_2015, y_pred_2016, y_pred_2017, y_pred_2018"
   ]
  },
  {
   "cell_type": "code",
   "execution_count": 213,
   "metadata": {},
   "outputs": [
    {
     "name": "stdout",
     "output_type": "stream",
     "text": [
      "CPU times: user 922 ms, sys: 1.01 s, total: 1.93 s\n",
      "Wall time: 2.07 s\n"
     ]
    }
   ],
   "source": [
    "%%time\n",
    "\n",
    "sim_2014, sim_2015, sim_2016, sim_2017, sim_2018 = makePredictions(reg, \n",
    "                                                                   X_pred, \n",
    "                                                                   nct_ids_by_year_with_pos)"
   ]
  },
  {
   "cell_type": "code",
   "execution_count": 214,
   "metadata": {},
   "outputs": [
    {
     "name": "stdout",
     "output_type": "stream",
     "text": [
      "(709, 709) (963, 963) (1643, 1643) (4750, 4750) (3419, 3419)\n"
     ]
    }
   ],
   "source": [
    "print(sim_2014.shape, \n",
    "      sim_2015.shape, \n",
    "      sim_2016.shape, \n",
    "      sim_2017.shape, \n",
    "      sim_2018.shape)"
   ]
  },
  {
   "cell_type": "code",
   "execution_count": 220,
   "metadata": {},
   "outputs": [],
   "source": [
    "# np.save('Output/sim_2014.npy',sim_2014)\n",
    "# np.save('Output/sim_2015.npy',sim_2015)\n",
    "# np.save('Output/sim_2016.npy',sim_2016)\n",
    "# np.save('Output/sim_2017.npy',sim_2017)\n",
    "# np.save('Output/sim_2018.npy',sim_2018)"
   ]
  }
 ],
 "metadata": {
  "kernelspec": {
   "display_name": "Python 3",
   "language": "python",
   "name": "python3"
  },
  "language_info": {
   "codemirror_mode": {
    "name": "ipython",
    "version": 3
   },
   "file_extension": ".py",
   "mimetype": "text/x-python",
   "name": "python",
   "nbconvert_exporter": "python",
   "pygments_lexer": "ipython3",
   "version": "3.6.4"
  }
 },
 "nbformat": 4,
 "nbformat_minor": 2
}
