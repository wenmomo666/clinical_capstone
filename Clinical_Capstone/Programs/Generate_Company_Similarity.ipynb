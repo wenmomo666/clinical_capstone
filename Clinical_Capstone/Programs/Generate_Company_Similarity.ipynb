{
 "cells": [
  {
   "cell_type": "code",
   "execution_count": 1,
   "metadata": {},
   "outputs": [],
   "source": [
    "import pandas as pd\n",
    "import glob\n",
    "import numpy as np\n",
    "from tqdm import tqdm\n",
    "import os\n",
    "import datetime as dt\n",
    "import nltk\n",
    "import string\n",
    "import matplotlib.pyplot as plt\n",
    "import pickle\n",
    "from nltk.corpus import stopwords\n",
    "from nltk.stem import PorterStemmer\n",
    "from textblob import Word"
   ]
  },
  {
   "cell_type": "code",
   "execution_count": 95,
   "metadata": {},
   "outputs": [],
   "source": [
    "from sklearn.feature_extraction.text import TfidfVectorizer\n",
    "from sklearn.metrics.pairwise import cosine_similarity\n",
    "from itertools import product"
   ]
  },
  {
   "cell_type": "markdown",
   "metadata": {},
   "source": [
    "### reading required files"
   ]
  },
  {
   "cell_type": "code",
   "execution_count": 5,
   "metadata": {},
   "outputs": [
    {
     "data": {
      "text/plain": [
       "(450665, 5)"
      ]
     },
     "execution_count": 5,
     "metadata": {},
     "output_type": "execute_result"
    }
   ],
   "source": [
    "sponsors = pd.read_csv(\"../Data/Sponsors.csv\",index_col=0)\n",
    "ids_by_year = pickle.load(open(\"../Data/ids_by_year_fda_reg_with_pos.pkl\", \"rb\"))\n",
    "sponsors.shape"
   ]
  },
  {
   "cell_type": "code",
   "execution_count": 82,
   "metadata": {},
   "outputs": [],
   "source": [
    "ids_by_year_rev = {year:{val:key for key,val in ids_by_year[year].items()} for year in ids_by_year}"
   ]
  },
  {
   "cell_type": "code",
   "execution_count": 24,
   "metadata": {},
   "outputs": [
    {
     "data": {
      "text/plain": [
       "(4401, 4)"
      ]
     },
     "execution_count": 24,
     "metadata": {},
     "output_type": "execute_result"
    }
   ],
   "source": [
    "sponser_new_names = pd.read_csv('../Data/sponsor2new_name.csv')\n",
    "sponser_new_names.shape"
   ]
  },
  {
   "cell_type": "code",
   "execution_count": 38,
   "metadata": {},
   "outputs": [
    {
     "data": {
      "text/plain": [
       "4401"
      ]
     },
     "execution_count": 38,
     "metadata": {},
     "output_type": "execute_result"
    }
   ],
   "source": [
    "sponsor_old_2_new = sponser_new_names.set_index('Previous name')['Current name'].to_dict()\n",
    "len(sponsor_old_2_new)"
   ]
  },
  {
   "cell_type": "code",
   "execution_count": 27,
   "metadata": {},
   "outputs": [
    {
     "data": {
      "text/plain": [
       "11484"
      ]
     },
     "execution_count": 27,
     "metadata": {},
     "output_type": "execute_result"
    }
   ],
   "source": [
    "nct_id_2_sponsor = pickle.load(open(\"../Data/nct_id_2_sponsor.pkl\",\"rb\"))\n",
    "len(nct_id_2_sponsor)"
   ]
  },
  {
   "cell_type": "markdown",
   "metadata": {},
   "source": [
    "### working with primary sponsors"
   ]
  },
  {
   "cell_type": "code",
   "execution_count": 37,
   "metadata": {},
   "outputs": [
    {
     "data": {
      "text/plain": [
       "2779"
      ]
     },
     "execution_count": 37,
     "metadata": {},
     "output_type": "execute_result"
    }
   ],
   "source": [
    "len(set(nct_id_2_sponsor_wo_date.values()).intersection(set(sponser_new_names['Previous name'].tolist())))"
   ]
  },
  {
   "cell_type": "code",
   "execution_count": 30,
   "metadata": {},
   "outputs": [],
   "source": [
    "nct_id_2_sponsor_wo_date = {key:val[0] for key,val in nct_id_2_sponsor.items()}"
   ]
  },
  {
   "cell_type": "code",
   "execution_count": 39,
   "metadata": {},
   "outputs": [],
   "source": [
    "nct_id_2_sponsor_wo_date = {key:sponsor_old_2_new[val] for key,val in nct_id_2_sponsor_wo_date.items()}"
   ]
  },
  {
   "cell_type": "code",
   "execution_count": 48,
   "metadata": {},
   "outputs": [
    {
     "data": {
      "text/plain": [
       "2753"
      ]
     },
     "execution_count": 48,
     "metadata": {},
     "output_type": "execute_result"
    }
   ],
   "source": [
    "unique_sponsors = sorted(list(set(nct_id_2_sponsor_wo_date.values())))\n",
    "len(unique_sponsors)"
   ]
  },
  {
   "cell_type": "markdown",
   "metadata": {},
   "source": [
    "### sponsor_2_nct_ids by year"
   ]
  },
  {
   "cell_type": "code",
   "execution_count": 62,
   "metadata": {},
   "outputs": [
    {
     "data": {
      "text/plain": [
       "[2014, 2015, 2016, 2017, 2018]"
      ]
     },
     "execution_count": 62,
     "metadata": {},
     "output_type": "execute_result"
    }
   ],
   "source": [
    "year_list = list(range(2014,2019))\n",
    "year_list"
   ]
  },
  {
   "cell_type": "code",
   "execution_count": 64,
   "metadata": {},
   "outputs": [],
   "source": [
    "nct_ids_by_year = {year:list(ids_by_year[year].keys()) for year in year_list}"
   ]
  },
  {
   "cell_type": "code",
   "execution_count": 65,
   "metadata": {},
   "outputs": [
    {
     "data": {
      "text/plain": [
       "[(2014, 709), (2015, 963), (2016, 1643), (2017, 4750), (2018, 3419)]"
      ]
     },
     "execution_count": 65,
     "metadata": {},
     "output_type": "execute_result"
    }
   ],
   "source": [
    "[(key,len(val)) for key,val in nct_ids_by_year.items()]"
   ]
  },
  {
   "cell_type": "code",
   "execution_count": 67,
   "metadata": {},
   "outputs": [],
   "source": [
    "nct_id_2_sponsor_by_year = {year:{nct_id:nct_id_2_sponsor_wo_date[nct_id] for nct_id in nct_ids_by_year[year]} for year in year_list}\n"
   ]
  },
  {
   "cell_type": "code",
   "execution_count": 70,
   "metadata": {},
   "outputs": [
    {
     "name": "stdout",
     "output_type": "stream",
     "text": [
      "CPU times: user 2.09 s, sys: 7.92 ms, total: 2.1 s\n",
      "Wall time: 2.11 s\n"
     ]
    }
   ],
   "source": [
    "%%time\n",
    "sponsor_2_nct_ids_by_year = {year:{spons:[key for key,val in nct_id_2_sponsor_by_year[year].items() if val==spons] for spons in nct_id_2_sponsor_by_year[year].values()} for year in year_list}\n"
   ]
  },
  {
   "cell_type": "code",
   "execution_count": 71,
   "metadata": {},
   "outputs": [
    {
     "data": {
      "text/plain": [
       "[(2014, 245), (2015, 327), (2016, 540), (2017, 1644), (2018, 1329)]"
      ]
     },
     "execution_count": 71,
     "metadata": {},
     "output_type": "execute_result"
    }
   ],
   "source": [
    "[(key,len(val)) for key,val in sponsor_2_nct_ids_by_year.items()]"
   ]
  },
  {
   "cell_type": "code",
   "execution_count": 78,
   "metadata": {},
   "outputs": [],
   "source": [
    "sponsor_by_year_with_pos = {year:{elem:i for i,elem in enumerate(sorted(list(sponsor_2_nct_ids_by_year[year].keys())))} for year in year_list}\n",
    "sponsor_by_year_with_pos_rev = {year:{i:elem for i,elem in enumerate(sorted(list(sponsor_2_nct_ids_by_year[year].keys())))} for year in year_list}\n"
   ]
  },
  {
   "cell_type": "code",
   "execution_count": 115,
   "metadata": {},
   "outputs": [],
   "source": [
    "# pickle.dump(sponsor_2_nct_ids_by_year,\n",
    "#             open(\"../Data/sponsor_2_nct_ids_by_year.pkl\",\"wb\"),\n",
    "#             protocol=2)\n",
    "\n",
    "# pickle.dump(sponsor_by_year_with_pos,\n",
    "#             open(\"../Data/sponsor_by_year_with_pos.pkl\",\"wb\"),\n",
    "#             protocol=2)"
   ]
  },
  {
   "cell_type": "markdown",
   "metadata": {},
   "source": [
    "### loading final text model"
   ]
  },
  {
   "cell_type": "code",
   "execution_count": 6,
   "metadata": {},
   "outputs": [],
   "source": [
    "# final_text_models = pickle.load(open(\"../Output/final_text_model.pkl\",\n",
    "#                                      \"rb\"))"
   ]
  },
  {
   "cell_type": "code",
   "execution_count": 10,
   "metadata": {},
   "outputs": [],
   "source": [
    "for year in final_text_models:\n",
    "    final_text_models[year] = final_text_models[year].todense()"
   ]
  },
  {
   "cell_type": "markdown",
   "metadata": {},
   "source": [
    "### company level similarity matrix generation"
   ]
  },
  {
   "cell_type": "code",
   "execution_count": 106,
   "metadata": {},
   "outputs": [
    {
     "data": {
      "text/plain": [
       "[(2014, (245, 245)),\n",
       " (2015, (327, 327)),\n",
       " (2016, (540, 540)),\n",
       " (2017, (1644, 1644)),\n",
       " (2018, (1329, 1329))]"
      ]
     },
     "execution_count": 106,
     "metadata": {},
     "output_type": "execute_result"
    }
   ],
   "source": [
    "company_sim_mat_by_year = {year:np.zeros((len(sponsor_by_year_with_pos_rev[year]),\n",
    "                                         len(sponsor_by_year_with_pos_rev[year]))) for year in year_list}\n",
    "\n",
    "[(year,company_sim_mat_by_year[year].shape) for year in year_list]"
   ]
  },
  {
   "cell_type": "code",
   "execution_count": 107,
   "metadata": {},
   "outputs": [],
   "source": [
    "#setting diagonal to 1\n",
    "for year in year_list:\n",
    "    for i in range(company_sim_mat_by_year[year].shape[0]):\n",
    "        company_sim_mat_by_year[year][i,i]=1"
   ]
  },
  {
   "cell_type": "code",
   "execution_count": 111,
   "metadata": {},
   "outputs": [
    {
     "name": "stdout",
     "output_type": "stream",
     "text": [
      "CPU times: user 1min 1s, sys: 605 ms, total: 1min 2s\n",
      "Wall time: 1min 2s\n",
      "Compiler : 187 ms\n"
     ]
    }
   ],
   "source": [
    "%%time\n",
    "\n",
    "#filling in non-diagonal elements\n",
    "\n",
    "for year in year_list:\n",
    "    for i in range(len(sponsor_by_year_with_pos_rev[year])):\n",
    "        for j in range(i):\n",
    "            spons_a, spons_b = sponsor_by_year_with_pos_rev[year][i], sponsor_by_year_with_pos_rev[year][j]\n",
    "            nct_id_tup_list = [elem for elem in product(sponsor_2_nct_ids_by_year[year][spons_a], \n",
    "                                                        sponsor_2_nct_ids_by_year[year][spons_b])]\n",
    "            avg_trial_sim = np.mean([final_text_models[year][ids_by_year[year][elem[0]],\n",
    "                                                             ids_by_year[year][elem[1]]] for elem in nct_id_tup_list])\n",
    "            company_sim_mat_by_year[year][i,j] = avg_trial_sim\n",
    "            company_sim_mat_by_year[year][j,i] = avg_trial_sim"
   ]
  },
  {
   "cell_type": "code",
   "execution_count": 114,
   "metadata": {},
   "outputs": [],
   "source": [
    "# pickle.dump(company_sim_mat_by_year,\n",
    "#             open(\"../Output/final_text_company_similarity_model.pkl\",\"wb\"),\n",
    "#             protocol=2)"
   ]
  }
 ],
 "metadata": {
  "kernelspec": {
   "display_name": "Python 3",
   "language": "python",
   "name": "python3"
  },
  "language_info": {
   "codemirror_mode": {
    "name": "ipython",
    "version": 3
   },
   "file_extension": ".py",
   "mimetype": "text/x-python",
   "name": "python",
   "nbconvert_exporter": "python",
   "pygments_lexer": "ipython3",
   "version": "3.6.4"
  }
 },
 "nbformat": 4,
 "nbformat_minor": 2
}
