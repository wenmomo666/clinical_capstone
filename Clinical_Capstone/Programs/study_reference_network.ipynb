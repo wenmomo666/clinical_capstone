{
 "cells": [
  {
   "cell_type": "markdown",
   "metadata": {
    "toc": true
   },
   "source": [
    "<h1>Table of Contents<span class=\"tocSkip\"></span></h1>\n",
    "<div class=\"toc\"><ul class=\"toc-item\"><li><span><a href=\"#Limit-to-drug-studies-as-of-2010\" data-toc-modified-id=\"Limit-to-drug-studies-as-of-2010-1\"><span class=\"toc-item-num\">1&nbsp;&nbsp;</span>Limit to drug studies as of 2010</a></span></li><li><span><a href=\"#Import-study-reference\" data-toc-modified-id=\"Import-study-reference-2\"><span class=\"toc-item-num\">2&nbsp;&nbsp;</span>Import study reference</a></span></li><li><span><a href=\"#Remove-references-with-only-one-reference-in-the-corpus\" data-toc-modified-id=\"Remove-references-with-only-one-reference-in-the-corpus-3\"><span class=\"toc-item-num\">3&nbsp;&nbsp;</span>Remove references with only one reference in the corpus</a></span></li><li><span><a href=\"#Encode-study-nct_id-and-pmid's\" data-toc-modified-id=\"Encode-study-nct_id-and-pmid's-4\"><span class=\"toc-item-num\">4&nbsp;&nbsp;</span>Encode study nct_id and pmid's</a></span></li><li><span><a href=\"#Generate-adjacency-matrix-of-nct_id-and-pmid\" data-toc-modified-id=\"Generate-adjacency-matrix-of-nct_id-and-pmid-5\"><span class=\"toc-item-num\">5&nbsp;&nbsp;</span>Generate adjacency matrix of nct_id and pmid</a></span></li></ul></div>"
   ]
  },
  {
   "cell_type": "markdown",
   "metadata": {},
   "source": [
    "## Limit to drug studies as of 2010"
   ]
  },
  {
   "cell_type": "code",
   "execution_count": 7,
   "metadata": {
    "ExecuteTime": {
     "end_time": "2018-10-03T18:25:48.148505Z",
     "start_time": "2018-10-03T18:25:27.833486Z"
    }
   },
   "outputs": [],
   "source": [
    "studies = pd.read_sql('select * from studies', con=conn)"
   ]
  },
  {
   "cell_type": "code",
   "execution_count": 16,
   "metadata": {
    "ExecuteTime": {
     "end_time": "2018-10-03T18:27:40.723666Z",
     "start_time": "2018-10-03T18:27:40.634343Z"
    }
   },
   "outputs": [],
   "source": [
    "lim_regulated_drug = studies['is_fda_regulated_drug']==True\n",
    "lim_year = pd.to_datetime(studies['start_date']).dt.year>=2010\n",
    "\n",
    "drug_studies = studies[lim_regulated_drug & lim_year]"
   ]
  },
  {
   "cell_type": "markdown",
   "metadata": {},
   "source": [
    "## Import study reference"
   ]
  },
  {
   "cell_type": "code",
   "execution_count": 51,
   "metadata": {
    "ExecuteTime": {
     "end_time": "2018-10-03T18:41:08.055357Z",
     "start_time": "2018-10-03T18:41:08.050603Z"
    }
   },
   "outputs": [],
   "source": [
    "import json\n",
    "import pandas as pd\n",
    "import psycopg2\n",
    "\n",
    "from datetime import datetime\n",
    "import matplotlib.pyplot as plt\n",
    "\n",
    "import numpy as np"
   ]
  },
  {
   "cell_type": "code",
   "execution_count": 2,
   "metadata": {
    "ExecuteTime": {
     "end_time": "2018-10-03T18:24:06.087734Z",
     "start_time": "2018-10-03T18:24:05.969709Z"
    }
   },
   "outputs": [],
   "source": [
    "with open('config.json') as f:\n",
    "    conf = json.load(f)\n",
    "conn_str = \"host={} dbname={} port={} user={} password={}\".format(conf['host'],\n",
    "                                                                  conf['database'],\n",
    "                                                                  conf['port'],\n",
    "                                                                  conf['user'],\n",
    "                                                                  conf['passw'])\n",
    "conn = psycopg2.connect(conn_str)"
   ]
  },
  {
   "cell_type": "code",
   "execution_count": 44,
   "metadata": {
    "ExecuteTime": {
     "end_time": "2018-10-03T18:39:33.897189Z",
     "start_time": "2018-10-03T18:39:27.296699Z"
    }
   },
   "outputs": [],
   "source": [
    "study_references = pd.read_sql('select * from study_references', con=conn)"
   ]
  },
  {
   "cell_type": "markdown",
   "metadata": {},
   "source": [
    "## Remove references with only one reference in the corpus"
   ]
  },
  {
   "cell_type": "code",
   "execution_count": 49,
   "metadata": {
    "ExecuteTime": {
     "end_time": "2018-10-03T18:40:53.184388Z",
     "start_time": "2018-10-03T18:40:52.296600Z"
    }
   },
   "outputs": [
    {
     "data": {
      "text/plain": [
       "(112897, 6)"
      ]
     },
     "execution_count": 49,
     "metadata": {},
     "output_type": "execute_result"
    }
   ],
   "source": [
    "# Count number of citations listed in corpus\n",
    "citation_counts = pd.DataFrame(study_references.groupby('pmid').size()).reset_index()\n",
    "citation_counts.columns = ['pmid', 'citation_counts']\n",
    "\n",
    "# Keep citations with more than one reference\n",
    "multi_citations = citation_counts[citation_counts['citation_counts']>1]\n",
    "\n",
    "# Keep studies that share a citation with another study\n",
    "study_references_lim=study_references.merge(multi_citations,on='pmid')"
   ]
  },
  {
   "cell_type": "markdown",
   "metadata": {},
   "source": [
    "## Encode study nct_id and pmid's"
   ]
  },
  {
   "cell_type": "code",
   "execution_count": 83,
   "metadata": {
    "ExecuteTime": {
     "end_time": "2018-10-03T18:54:44.324709Z",
     "start_time": "2018-10-03T18:54:44.232657Z"
    }
   },
   "outputs": [],
   "source": [
    "study_list = study_references_lim.nct_id.unique()\n",
    "reference_list = study_references_lim.pmid.unique()\n",
    "\n",
    "reverse_study_list = {study: int(i) for i, study in enumerate(study_list)}\n",
    "reverse_reference_list = {ref: int(i) for i, ref in enumerate(reference_list)}"
   ]
  },
  {
   "cell_type": "markdown",
   "metadata": {},
   "source": [
    "## Generate adjacency matrix of nct_id and pmid"
   ]
  },
  {
   "cell_type": "code",
   "execution_count": 87,
   "metadata": {
    "ExecuteTime": {
     "end_time": "2018-10-03T18:55:41.068919Z",
     "start_time": "2018-10-03T18:55:33.320116Z"
    }
   },
   "outputs": [],
   "source": [
    "results = np.zeros((study_references_lim.shape[0],multi_citations.shape[0]))\n",
    "\n",
    "for _, row in study_references_lim.iterrows():\n",
    "    results[reverse_study_list[row['nct_id']],reverse_reference_list[row['pmid']]]=1"
   ]
  },
  {
   "cell_type": "code",
   "execution_count": 86,
   "metadata": {
    "ExecuteTime": {
     "end_time": "2018-10-03T18:55:15.965578Z",
     "start_time": "2018-10-03T18:55:15.961546Z"
    }
   },
   "outputs": [
    {
     "data": {
      "text/plain": [
       "(112897, 42038)"
      ]
     },
     "execution_count": 86,
     "metadata": {},
     "output_type": "execute_result"
    }
   ],
   "source": [
    "results.shape"
   ]
  },
  {
   "cell_type": "code",
   "execution_count": null,
   "metadata": {},
   "outputs": [],
   "source": []
  }
 ],
 "metadata": {
  "kernelspec": {
   "display_name": "Python 3",
   "language": "python",
   "name": "python3"
  },
  "language_info": {
   "codemirror_mode": {
    "name": "ipython",
    "version": 3
   },
   "file_extension": ".py",
   "mimetype": "text/x-python",
   "name": "python",
   "nbconvert_exporter": "python",
   "pygments_lexer": "ipython3",
   "version": "3.6.0"
  },
  "latex_envs": {
   "LaTeX_envs_menu_present": true,
   "autoclose": false,
   "autocomplete": true,
   "bibliofile": "biblio.bib",
   "cite_by": "apalike",
   "current_citInitial": 1,
   "eqLabelWithNumbers": true,
   "eqNumInitial": 1,
   "hotkeys": {
    "equation": "Ctrl-E",
    "itemize": "Ctrl-I"
   },
   "labels_anchors": false,
   "latex_user_defs": false,
   "report_style_numbering": false,
   "user_envs_cfg": false
  },
  "toc": {
   "base_numbering": 1,
   "nav_menu": {},
   "number_sections": true,
   "sideBar": true,
   "skip_h1_title": false,
   "title_cell": "Table of Contents",
   "title_sidebar": "Contents",
   "toc_cell": true,
   "toc_position": {},
   "toc_section_display": true,
   "toc_window_display": false
  }
 },
 "nbformat": 4,
 "nbformat_minor": 2
}
