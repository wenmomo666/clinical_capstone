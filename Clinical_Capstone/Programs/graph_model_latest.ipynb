{
 "cells": [
  {
   "cell_type": "markdown",
   "metadata": {},
   "source": [
    "### Guideline\n",
    "\n",
    "* nct2doctors\n",
    "* nct2citations\n",
    "* nct2conditions\n",
    "* cit2conditions\n",
    "\n",
    "* nct2intenventions\n",
    "* cit2intenventions\n",
    "\n",
    "* nct2sponsors\n",
    "* doctor2affiliations"
   ]
  },
  {
   "cell_type": "markdown",
   "metadata": {},
   "source": [
    "### Prepare data"
   ]
  },
  {
   "cell_type": "code",
   "execution_count": 1,
   "metadata": {},
   "outputs": [],
   "source": [
    "from graph_model_utils import *\n",
    "import networkx as nx"
   ]
  },
  {
   "cell_type": "code",
   "execution_count": 3,
   "metadata": {},
   "outputs": [],
   "source": [
    "nct2doctors, doctor2affiliations = get_nct2doctors_doctor2affiliation(False, './data/Facility_Investigators.csv')\n",
    "nct2citations = get_nct2citations('./data/Study_References.csv')\n",
    "nct2conditions = get_nct2conditions('./data/Browse_Conditions.csv')\n",
    "all_conditions = get_all_conditions('./data/Browse_Conditions.csv')\n",
    "all_citations = get_all_citations('./data/Study_References.csv')\n",
    "cit2conditions = get_cit2conditions(all_citations, all_conditions, step=5000)\n",
    "#nct2sponsors = get_nct2sponsors('./data/Sponsors.csv')"
   ]
  },
  {
   "cell_type": "markdown",
   "metadata": {},
   "source": [
    "### Build graph"
   ]
  },
  {
   "cell_type": "code",
   "execution_count": 4,
   "metadata": {},
   "outputs": [],
   "source": [
    "def build_graph(nct2doctors=False, nct2citations=False, nct2conditions=False, cit2conditions=False, \n",
    "                nct2interventions=False, cit2interventions=False, nct2sponsors=False, doctor2affiliation=False, ):\n",
    "    G = nx.Graph()\n",
    "    if nct2doctors:\n",
    "        for nct, doctors in nct2doctors.items():\n",
    "            G.add_node(nct, category='NCT')\n",
    "            for doctor in doctors:\n",
    "                G.add_node(doctor, category='DOC')\n",
    "                G.add_edge(nct, doctor, weight=1)\n",
    "    if nct2citations:\n",
    "        for nct, citations in nct2citations.items():\n",
    "            G.add_node(nct, category='NCT')\n",
    "            for citation in citations:\n",
    "                G.add_node(citation, category='CIT')\n",
    "                G.add_edge(nct, citation, weight=1)\n",
    "    if nct2conditions:\n",
    "        for nct, conditions in nct2conditions.items():\n",
    "            G.add_node(nct, category='NCT')\n",
    "            for condition in conditions:\n",
    "                G.add_node(condition, category='DIS')\n",
    "                G.add_edge(nct, condition, weight=1)        \n",
    "    if cit2conditions:\n",
    "        for cit, conditions in cit2conditions.items():\n",
    "            G.add_node(cit, category='CIT')\n",
    "            for condition in conditions:\n",
    "                G.add_node(condition, category='DIS')\n",
    "                G.add_edge(cit, condition, weight=1) \n",
    "                \n",
    "                \n",
    "    if nct2sponsors:\n",
    "        for nct, sponsors in nct2sponsors.items():\n",
    "            G.add_node(nct, category='NCT')\n",
    "            for sponsor in sponsors:\n",
    "                G.add_node(sponsor, category='COM')\n",
    "                G.add_edge(nct, sponsor, weight=1)\n",
    "\n",
    "    if doctor2affiliation:\n",
    "        for doctor, affiliations in doctor2affiliation.items():\n",
    "            G.add_node(doctor, category='DOC')\n",
    "            for affiliation in affiliations:\n",
    "                G.add_node(affiliation, category='COM')\n",
    "                G.add_edge(doctor, affiliation, weight=1)\n",
    "\n",
    "    return G"
   ]
  },
  {
   "cell_type": "code",
   "execution_count": 5,
   "metadata": {},
   "outputs": [],
   "source": [
    "G = build_graph(nct2doctors, nct2citations, nct2conditions, cit2conditions, False, False, False, False)"
   ]
  },
  {
   "cell_type": "code",
   "execution_count": 6,
   "metadata": {},
   "outputs": [
    {
     "data": {
      "text/plain": [
       "650504"
      ]
     },
     "execution_count": 6,
     "metadata": {},
     "output_type": "execute_result"
    }
   ],
   "source": [
    "len(G.nodes())"
   ]
  },
  {
   "cell_type": "code",
   "execution_count": 7,
   "metadata": {},
   "outputs": [
    {
     "data": {
      "text/plain": [
       "1014377"
      ]
     },
     "execution_count": 7,
     "metadata": {},
     "output_type": "execute_result"
    }
   ],
   "source": [
    "len(G.edges())"
   ]
  },
  {
   "cell_type": "code",
   "execution_count": 8,
   "metadata": {},
   "outputs": [],
   "source": [
    "count = {'NCT':0, 'DIS':0, 'CIT':0, 'DOC':0}\n",
    "for node in G.nodes():\n",
    "    category = G.nodes[node]['category']\n",
    "    count[category] += 1"
   ]
  },
  {
   "cell_type": "code",
   "execution_count": 9,
   "metadata": {},
   "outputs": [
    {
     "data": {
      "text/plain": [
       "{'NCT': 243658, 'DIS': 3875, 'CIT': 288917, 'DOC': 114054}"
      ]
     },
     "execution_count": 9,
     "metadata": {},
     "output_type": "execute_result"
    }
   ],
   "source": [
    "count"
   ]
  },
  {
   "cell_type": "markdown",
   "metadata": {},
   "source": [
    "### Find similar trials"
   ]
  },
  {
   "cell_type": "code",
   "execution_count": 10,
   "metadata": {},
   "outputs": [],
   "source": [
    "def filter_neighbors(graph, node, category):\n",
    "    filtered_neighbors = set()\n",
    "    for unit in graph[node]:\n",
    "        if graph.nodes[unit]['category'] == category:\n",
    "            filtered_neighbors.add(unit)\n",
    "    return filtered_neighbors\n",
    "\n",
    "def disjoint(a, b):\n",
    "    c = set()\n",
    "    c.update(a)\n",
    "    c.update(b)\n",
    "    return True if len(c) - len(a) - len(b) == 0 else False"
   ]
  },
  {
   "cell_type": "code",
   "execution_count": 11,
   "metadata": {},
   "outputs": [],
   "source": [
    "def find_similar_units(graph, node, n_step, category):\n",
    "    assert node in graph\n",
    "    res, visited = set(), set()\n",
    "    queue = [node]\n",
    "    while n_step > 0:\n",
    "        new_queue = []\n",
    "        for unit in queue:\n",
    "            visited.add(node)\n",
    "            for item in graph[unit]:\n",
    "                if item not in visited:\n",
    "                    visited.add(item)\n",
    "                    new_queue.append(item)\n",
    "        queue = new_queue\n",
    "        n_step -= 1\n",
    "    \n",
    "    for unit in visited:\n",
    "        if G.nodes[unit]['category'] == category: #and \\\n",
    "        #disjoint(filter_neighbors(G, node, 'COM'), filter_neighbors(G, unit, 'COM')) :\n",
    "            res.add(unit)\n",
    "    return res"
   ]
  },
  {
   "cell_type": "code",
   "execution_count": 27,
   "metadata": {},
   "outputs": [],
   "source": [
    "step2 = find_similar_units(G,'NCT03662698', 2, 'NCT')\n",
    "step3 = find_similar_units(G,'NCT03662698', 4, 'NCT')"
   ]
  },
  {
   "cell_type": "code",
   "execution_count": 20,
   "metadata": {},
   "outputs": [
    {
     "data": {
      "text/plain": [
       "{'head and neck neoplasms'}"
      ]
     },
     "execution_count": 20,
     "metadata": {},
     "output_type": "execute_result"
    }
   ],
   "source": [
    "nct2conditions['NCT03662698']"
   ]
  },
  {
   "cell_type": "code",
   "execution_count": 21,
   "metadata": {},
   "outputs": [
    {
     "data": {
      "text/plain": [
       "{'carcinoma', 'carcinoma, squamous cell', 'head and neck neoplasms'}"
      ]
     },
     "execution_count": 21,
     "metadata": {},
     "output_type": "execute_result"
    }
   ],
   "source": [
    "nct2conditions['NCT03389477']"
   ]
  },
  {
   "cell_type": "code",
   "execution_count": null,
   "metadata": {},
   "outputs": [],
   "source": []
  }
 ],
 "metadata": {
  "kernelspec": {
   "display_name": "Python 3",
   "language": "python",
   "name": "python3"
  },
  "language_info": {
   "codemirror_mode": {
    "name": "ipython",
    "version": 3
   },
   "file_extension": ".py",
   "mimetype": "text/x-python",
   "name": "python",
   "nbconvert_exporter": "python",
   "pygments_lexer": "ipython3",
   "version": "3.7.0"
  }
 },
 "nbformat": 4,
 "nbformat_minor": 2
}
