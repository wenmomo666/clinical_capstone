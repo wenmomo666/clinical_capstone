{
 "cells": [
  {
   "cell_type": "markdown",
   "metadata": {
    "toc": true
   },
   "source": [
    "<h1>Table of Contents<span class=\"tocSkip\"></span></h1>\n",
    "<div class=\"toc\"><ul class=\"toc-item\"><li><span><a href=\"#Prepare-configurations-for-importing-data\" data-toc-modified-id=\"Prepare-configurations-for-importing-data-1\"><span class=\"toc-item-num\">1&nbsp;&nbsp;</span>Prepare configurations for importing data</a></span></li><li><span><a href=\"#Import-studies-and-limit-to-drugs-/-2018\" data-toc-modified-id=\"Import-studies-and-limit-to-drugs-/-2018-2\"><span class=\"toc-item-num\">2&nbsp;&nbsp;</span>Import studies and limit to drugs / 2018</a></span></li><li><span><a href=\"#Import-browse-trial---MeSH-terms\" data-toc-modified-id=\"Import-browse-trial---MeSH-terms-3\"><span class=\"toc-item-num\">3&nbsp;&nbsp;</span>Import browse trial - MeSH terms</a></span></li><li><span><a href=\"#Cartesian-join-trials-with-MeSH-information-for-comparisons\" data-toc-modified-id=\"Cartesian-join-trials-with-MeSH-information-for-comparisons-4\"><span class=\"toc-item-num\">4&nbsp;&nbsp;</span>Cartesian join trials with MeSH information for comparisons</a></span></li><li><span><a href=\"#Import-MeSH-hierarchy\" data-toc-modified-id=\"Import-MeSH-hierarchy-5\"><span class=\"toc-item-num\">5&nbsp;&nbsp;</span>Import MeSH hierarchy</a></span></li><li><span><a href=\"#Identify-which-conditions-and-interventions-are-not-in-the-hierarchy\" data-toc-modified-id=\"Identify-which-conditions-and-interventions-are-not-in-the-hierarchy-6\"><span class=\"toc-item-num\">6&nbsp;&nbsp;</span>Identify which conditions and interventions are not in the hierarchy</a></span></li><li><span><a href=\"#Custom-Hierarchy-similarity-measure\" data-toc-modified-id=\"Custom-Hierarchy-similarity-measure-7\"><span class=\"toc-item-num\">7&nbsp;&nbsp;</span>Custom Hierarchy similarity measure</a></span></li><li><span><a href=\"#Loop-over-similarities-and-fill-in-matrix\" data-toc-modified-id=\"Loop-over-similarities-and-fill-in-matrix-8\"><span class=\"toc-item-num\">8&nbsp;&nbsp;</span>Loop over similarities and fill in matrix</a></span></li><li><span><a href=\"#Sanity-check-results\" data-toc-modified-id=\"Sanity-check-results-9\"><span class=\"toc-item-num\">9&nbsp;&nbsp;</span>Sanity check results</a></span></li></ul></div>"
   ]
  },
  {
   "cell_type": "markdown",
   "metadata": {},
   "source": [
    "## Prepare configurations for importing data"
   ]
  },
  {
   "cell_type": "code",
   "execution_count": 20,
   "metadata": {
    "ExecuteTime": {
     "end_time": "2018-10-10T19:33:43.048326Z",
     "start_time": "2018-10-10T19:33:43.038029Z"
    }
   },
   "outputs": [],
   "source": [
    "import json\n",
    "import pandas as pd\n",
    "import psycopg2\n",
    "import numpy as np\n",
    "from sklearn.preprocessing import normalize\n",
    "from tqdm import tqdm_notebook\n",
    "import re\n",
    "\n",
    "from datetime import datetime\n",
    "import matplotlib.pyplot as plt\n",
    "from scipy import sparse\n",
    "\n",
    "import ipywidgets as widgets\n",
    "\n",
    "pd.options.mode.chained_assignment = None"
   ]
  },
  {
   "cell_type": "code",
   "execution_count": 2,
   "metadata": {
    "ExecuteTime": {
     "end_time": "2018-10-10T19:27:14.563572Z",
     "start_time": "2018-10-10T19:27:14.402342Z"
    }
   },
   "outputs": [],
   "source": [
    "with open('config.json') as f:\n",
    "    conf = json.load(f)\n",
    "conn_str = \"host={} dbname={} port={} user={} password={}\".format(conf['host'],\n",
    "                                                                  conf['database'],\n",
    "                                                                  conf['port'],\n",
    "                                                                  conf['user'],\n",
    "                                                                  conf['passw'])\n",
    "conn = psycopg2.connect(conn_str)"
   ]
  },
  {
   "cell_type": "markdown",
   "metadata": {},
   "source": [
    "## Import studies and limit to drugs / 2018"
   ]
  },
  {
   "cell_type": "code",
   "execution_count": 3,
   "metadata": {
    "ExecuteTime": {
     "end_time": "2018-10-10T19:27:36.681598Z",
     "start_time": "2018-10-10T19:27:15.170795Z"
    }
   },
   "outputs": [],
   "source": [
    "studies = pd.read_sql('select * from studies', con=conn)"
   ]
  },
  {
   "cell_type": "code",
   "execution_count": 4,
   "metadata": {
    "ExecuteTime": {
     "end_time": "2018-10-10T19:27:36.777248Z",
     "start_time": "2018-10-10T19:27:36.683501Z"
    }
   },
   "outputs": [],
   "source": [
    "studies_drugs = studies[studies['is_fda_regulated_drug']==True]\n",
    "studies_drugs['start_year'] = pd.to_datetime(studies_drugs['start_date']).dt.year"
   ]
  },
  {
   "cell_type": "code",
   "execution_count": 5,
   "metadata": {
    "ExecuteTime": {
     "end_time": "2018-10-10T19:27:36.787210Z",
     "start_time": "2018-10-10T19:27:36.779335Z"
    }
   },
   "outputs": [],
   "source": [
    "# Create indices for each nct_id\n",
    "def create_year_index(year):\n",
    "    yearlim=studies_drugs['start_year']==year\n",
    "    \n",
    "    study_index = {v:k for k,v in enumerate(studies_drugs[yearlim]['nct_id'])}\n",
    "    study_index_rev = {k:v for k,v in enumerate(studies_drugs[yearlim]['nct_id'])}\n",
    "    \n",
    "    return study_index, study_index_rev"
   ]
  },
  {
   "cell_type": "code",
   "execution_count": 6,
   "metadata": {
    "ExecuteTime": {
     "end_time": "2018-10-10T19:27:36.846367Z",
     "start_time": "2018-10-10T19:27:36.789082Z"
    }
   },
   "outputs": [],
   "source": [
    "study_index_2018, study_index_rev_2018 = create_year_index(2018)\n",
    "study_index_2017, study_index_rev_2017 = create_year_index(2017)\n",
    "study_index_2016, study_index_rev_2016 = create_year_index(2016)\n",
    "study_index_2015, study_index_rev_2015 = create_year_index(2015)"
   ]
  },
  {
   "cell_type": "markdown",
   "metadata": {},
   "source": [
    "## Import browse trial - MeSH terms"
   ]
  },
  {
   "cell_type": "code",
   "execution_count": 7,
   "metadata": {
    "ExecuteTime": {
     "end_time": "2018-10-10T19:27:40.271265Z",
     "start_time": "2018-10-10T19:27:36.848231Z"
    }
   },
   "outputs": [],
   "source": [
    "browse_conditions = pd.read_sql('select * from browse_conditions', con=conn)\n",
    "browse_interventions = pd.read_sql('select * from browse_interventions', con=conn)"
   ]
  },
  {
   "cell_type": "markdown",
   "metadata": {},
   "source": [
    "## Cartesian join trials with MeSH information for comparisons"
   ]
  },
  {
   "cell_type": "code",
   "execution_count": 8,
   "metadata": {
    "ExecuteTime": {
     "end_time": "2018-10-10T19:27:40.323994Z",
     "start_time": "2018-10-10T19:27:40.273655Z"
    }
   },
   "outputs": [],
   "source": [
    "def rootTerm(x):\n",
    "    try:\n",
    "        return terms[x][:3]\n",
    "    except:\n",
    "        return None\n",
    "        \n",
    "\n",
    "def preprocess_xjoin(df_mesh,year):\n",
    "    # Limit trials to specific year\n",
    "    yearlim=studies_drugs['start_year']==year\n",
    "    \n",
    "    # Merge MeSH numbers onto dataframe\n",
    "    df_mesh_year = df_mesh.merge(studies_drugs[yearlim],on=['nct_id'])[['nct_id','downcase_mesh_term']]\n",
    "    df_mesh_year['root_mesh_number']=df_mesh_year['downcase_mesh_term'].apply(lambda x: rootTerm(x))\n",
    "    \n",
    "    # Perform a full trial*trial cartesian join\n",
    "    df_mesh_year['key']=1\n",
    "    df_mesh_year_xjoin = pd.merge(df_mesh_year, df_mesh_year,on='key')\n",
    "\n",
    "\n",
    "    # Keep trials that have at least one root of hierarchy in common or they are the same term\n",
    "    rootdiff_lim = (df_mesh_year_xjoin['root_mesh_number_x']==df_mesh_year_xjoin['root_mesh_number_y'])&(df_mesh_year_xjoin['root_mesh_number_x']!=None)\n",
    "    sameterm_lim = df_mesh_year_xjoin['downcase_mesh_term_x']==df_mesh_year_xjoin['downcase_mesh_term_y']\n",
    "\n",
    "    \n",
    "    # Remove trials that compare with themselves\n",
    "    nctid_lim = df_mesh_year_xjoin['nct_id_x'] != df_mesh_year_xjoin['nct_id_y']\n",
    "\n",
    "    df_mesh_year_xjoin=df_mesh_year_xjoin[nctid_lim & (rootdiff_lim | sameterm_lim)]\n",
    "    \n",
    "    return df_mesh_year, df_mesh_year_xjoin\n"
   ]
  },
  {
   "cell_type": "code",
   "execution_count": 9,
   "metadata": {
    "ExecuteTime": {
     "end_time": "2018-10-10T19:29:03.232642Z",
     "start_time": "2018-10-10T19:27:40.326096Z"
    }
   },
   "outputs": [],
   "source": [
    "browse_conditions_2018, browse_conditions_2018_xjoin = preprocess_xjoin(browse_conditions, 2018)"
   ]
  },
  {
   "cell_type": "code",
   "execution_count": 10,
   "metadata": {
    "ExecuteTime": {
     "end_time": "2018-10-10T19:30:05.672001Z",
     "start_time": "2018-10-10T19:29:03.247344Z"
    }
   },
   "outputs": [],
   "source": [
    "browse_conditions_2017, browse_conditions_2017_xjoin = preprocess_xjoin(browse_conditions, 2017)"
   ]
  },
  {
   "cell_type": "code",
   "execution_count": 11,
   "metadata": {
    "ExecuteTime": {
     "end_time": "2018-10-10T19:30:09.102789Z",
     "start_time": "2018-10-10T19:30:05.684403Z"
    }
   },
   "outputs": [],
   "source": [
    "browse_conditions_2016, browse_conditions_2016_xjoin = preprocess_xjoin(browse_conditions, 2016)"
   ]
  },
  {
   "cell_type": "code",
   "execution_count": 12,
   "metadata": {
    "ExecuteTime": {
     "end_time": "2018-10-10T19:30:11.324217Z",
     "start_time": "2018-10-10T19:30:09.105130Z"
    }
   },
   "outputs": [],
   "source": [
    "browse_conditions_2015, browse_conditions_2015_xjoin = preprocess_xjoin(browse_conditions, 2015)"
   ]
  },
  {
   "cell_type": "code",
   "execution_count": 13,
   "metadata": {
    "ExecuteTime": {
     "end_time": "2018-10-10T19:30:48.735003Z",
     "start_time": "2018-10-10T19:30:11.332761Z"
    }
   },
   "outputs": [],
   "source": [
    "browse_interventions_2018, browse_interventions_2018_xjoin = preprocess_xjoin(browse_interventions, 2018)"
   ]
  },
  {
   "cell_type": "code",
   "execution_count": 14,
   "metadata": {
    "ExecuteTime": {
     "end_time": "2018-10-10T19:31:28.474640Z",
     "start_time": "2018-10-10T19:30:48.737844Z"
    }
   },
   "outputs": [],
   "source": [
    "browse_interventions_2017, browse_interventions_2017_xjoin = preprocess_xjoin(browse_interventions, 2017)"
   ]
  },
  {
   "cell_type": "code",
   "execution_count": 15,
   "metadata": {
    "ExecuteTime": {
     "end_time": "2018-10-10T19:31:31.220748Z",
     "start_time": "2018-10-10T19:31:28.477415Z"
    }
   },
   "outputs": [],
   "source": [
    "browse_interventions_2016, browse_interventions_2016_xjoin = preprocess_xjoin(browse_interventions, 2016)"
   ]
  },
  {
   "cell_type": "code",
   "execution_count": 16,
   "metadata": {
    "ExecuteTime": {
     "end_time": "2018-10-10T19:31:33.041831Z",
     "start_time": "2018-10-10T19:31:31.226219Z"
    }
   },
   "outputs": [],
   "source": [
    "browse_interventions_2015, browse_interventions_2015_xjoin = preprocess_xjoin(browse_interventions, 2015)"
   ]
  },
  {
   "cell_type": "code",
   "execution_count": 17,
   "metadata": {
    "ExecuteTime": {
     "end_time": "2018-10-10T19:33:29.339920Z",
     "start_time": "2018-10-10T19:33:29.320713Z"
    }
   },
   "outputs": [
    {
     "name": "stdout",
     "output_type": "stream",
     "text": [
      "Number of 2018 conditions: 439,018\n",
      "Number of 2017 conditions: 399,194\n",
      "Number of 2016 conditions: 31,624\n",
      "Number of 2015 conditions: 23,604\n",
      "\n",
      "Number of 2018 interventions: 425,152\n",
      "Number of 2017 interventions: 388,362\n",
      "Number of 2016 interventions: 30,974\n",
      "Number of 2015 interventions: 17,264\n"
     ]
    }
   ],
   "source": [
    "print(\"Number of 2018 conditions: {0:,}\".format(browse_conditions_2018_xjoin.shape[0]))\n",
    "print(\"Number of 2017 conditions: {0:,}\".format(browse_conditions_2017_xjoin.shape[0]))\n",
    "print(\"Number of 2016 conditions: {0:,}\".format(browse_conditions_2016_xjoin.shape[0]))\n",
    "print(\"Number of 2015 conditions: {0:,}\".format(browse_conditions_2015_xjoin.shape[0]))\n",
    "print(\"\\nNumber of 2018 interventions: {0:,}\".format(browse_interventions_2018_xjoin.shape[0]))\n",
    "print(\"Number of 2017 interventions: {0:,}\".format(browse_interventions_2017_xjoin.shape[0]))\n",
    "print(\"Number of 2016 interventions: {0:,}\".format(browse_interventions_2016_xjoin.shape[0]))\n",
    "print(\"Number of 2015 interventions: {0:,}\".format(browse_interventions_2015_xjoin.shape[0]))"
   ]
  },
  {
   "cell_type": "markdown",
   "metadata": {},
   "source": [
    "## Import MeSH hierarchy"
   ]
  },
  {
   "cell_type": "code",
   "execution_count": 18,
   "metadata": {
    "ExecuteTime": {
     "end_time": "2018-10-10T19:33:32.898850Z",
     "start_time": "2018-10-10T19:33:32.584277Z"
    }
   },
   "outputs": [],
   "source": [
    "meshFile = 'd2018.bin'\n",
    "with open(meshFile, mode='rb') as file:\n",
    "    mesh = file.readlines()"
   ]
  },
  {
   "cell_type": "code",
   "execution_count": 21,
   "metadata": {
    "ExecuteTime": {
     "end_time": "2018-10-10T19:33:47.489914Z",
     "start_time": "2018-10-10T19:33:45.892375Z"
    }
   },
   "outputs": [],
   "source": [
    "numbers=dict()\n",
    "terms=dict()\n",
    "\n",
    "for line in mesh:\n",
    "    meshTerm = re.search(b'MH = (.+)$', line)\n",
    "    if meshTerm:\n",
    "        term = meshTerm.group(1).lower()\n",
    "\n",
    "    meshNumber = re.search(b'MN = (.+)$', line)\n",
    "    if meshNumber:\n",
    "        number = meshNumber.group(1)\n",
    "        \n",
    "        numbers[number.decode('utf-8')] = term.decode('utf-8')\n",
    "        \n",
    "        # If term has more than one number, concatenate separated by space\n",
    "        if term in terms:\n",
    "            terms[term.decode('utf-8')] = terms[term.decode('utf-8')] + ' ' + number.decode('utf-8')\n",
    "        else:\n",
    "            terms[term.decode('utf-8')] = number.decode('utf-8')"
   ]
  },
  {
   "cell_type": "code",
   "execution_count": 22,
   "metadata": {
    "ExecuteTime": {
     "end_time": "2018-10-10T19:33:48.815699Z",
     "start_time": "2018-10-10T19:33:48.794171Z"
    }
   },
   "outputs": [],
   "source": [
    "df_terms = pd.DataFrame.from_dict(terms, orient='index').reset_index()\n",
    "df_terms.columns=['term','number']"
   ]
  },
  {
   "cell_type": "markdown",
   "metadata": {},
   "source": [
    "## Identify which conditions and interventions are not in the hierarchy"
   ]
  },
  {
   "cell_type": "code",
   "execution_count": 23,
   "metadata": {
    "ExecuteTime": {
     "end_time": "2018-10-10T19:33:51.892155Z",
     "start_time": "2018-10-10T19:33:51.385703Z"
    }
   },
   "outputs": [
    {
     "name": "stdout",
     "output_type": "stream",
     "text": [
      "BROWSE CONDITIONS\n",
      "2016 set()\n",
      "2017 {'metabolic syndrome x'}\n",
      "2018 {'metabolic syndrome x'}\n"
     ]
    }
   ],
   "source": [
    "def find_missing_terms(df,year):\n",
    "    yearlim=yearlim=studies_drugs['start_year']==year\n",
    "    df_set = set(df.merge(studies_drugs[yearlim],on=['nct_id'])['downcase_mesh_term'])\n",
    "    terms_set = set(terms.keys())\n",
    "    return df_set-terms_set\n",
    "\n",
    "\n",
    "print(\"BROWSE CONDITIONS\")\n",
    "for yr in range(2016,2019):\n",
    "    print(\"{} {}\".format(yr,find_missing_terms(browse_conditions,yr)))\n",
    "    \n",
    "# print(\"\\nBROWSE INTERVENTIONS\")\n",
    "# for yr in range(2018,2019):\n",
    "#     print(\"{} {}\".format(yr,find_missing_terms(browse_interventions,yr)))"
   ]
  },
  {
   "cell_type": "markdown",
   "metadata": {},
   "source": [
    "## Custom Hierarchy similarity measure"
   ]
  },
  {
   "cell_type": "code",
   "execution_count": 59,
   "metadata": {
    "ExecuteTime": {
     "end_time": "2018-10-10T19:46:25.256783Z",
     "start_time": "2018-10-10T19:46:25.242339Z"
    }
   },
   "outputs": [],
   "source": [
    "def hierarchy_sim(term, compare):\n",
    "    num_branches = (len(term)+1)//4\n",
    "    num_compare_branches = (len(compare)+1)//4\n",
    "    iterations = min(num_branches,num_compare_branches)\n",
    "    \n",
    "    if num_branches*num_compare_branches == 0:\n",
    "        return 0\n",
    "    \n",
    "    if term==compare:\n",
    "        return max(num_branches,num_compare_branches)\n",
    "\n",
    "    for i in range(1,iterations+1):\n",
    "        if term[:i*4-1]!=compare[:i*4-1]:\n",
    "            return (i-1)\n",
    "    \n",
    "    return iterations"
   ]
  },
  {
   "cell_type": "markdown",
   "metadata": {},
   "source": [
    "## Loop over similarities and fill in matrix"
   ]
  },
  {
   "cell_type": "code",
   "execution_count": 60,
   "metadata": {
    "ExecuteTime": {
     "end_time": "2018-10-10T19:46:26.502687Z",
     "start_time": "2018-10-10T19:46:26.487753Z"
    }
   },
   "outputs": [],
   "source": [
    "def loopComparison(df,study_index):\n",
    "    comparison = sparse.lil_matrix((len(study_index),len(study_index)))\n",
    "\n",
    "    for index, row in df.iterrows():\n",
    "        nct_id_indx = study_index[row['nct_id_x']]\n",
    "        nct_id_compare_indx = study_index[row['nct_id_y']]\n",
    "\n",
    "        term=row['downcase_mesh_term_x']\n",
    "        term_compare=row['downcase_mesh_term_y']\n",
    "\n",
    "        if nct_id_indx != nct_id_compare_indx:\n",
    "            comparison[nct_id_indx,nct_id_compare_indx] += hierarchy_sim(term, term_compare)\n",
    "\n",
    "    # Normalize matrix row-wise\n",
    "    return normalize(comparison.tocsr(), norm='max', axis=1)"
   ]
  },
  {
   "cell_type": "code",
   "execution_count": null,
   "metadata": {
    "ExecuteTime": {
     "start_time": "2018-10-10T19:46:29.095Z"
    }
   },
   "outputs": [],
   "source": [
    "condition_comparison_2018=loopComparison(browse_conditions_2018_xjoin,study_index_2018)"
   ]
  },
  {
   "cell_type": "code",
   "execution_count": null,
   "metadata": {
    "ExecuteTime": {
     "start_time": "2018-10-10T19:46:30.218Z"
    }
   },
   "outputs": [],
   "source": [
    "condition_comparison_2017=loopComparison(browse_conditions_2017_xjoin,study_index_2017)"
   ]
  },
  {
   "cell_type": "code",
   "execution_count": null,
   "metadata": {
    "ExecuteTime": {
     "start_time": "2018-10-10T19:46:30.570Z"
    }
   },
   "outputs": [],
   "source": [
    "condition_comparison_2016=loopComparison(browse_conditions_2016_xjoin,study_index_2016)"
   ]
  },
  {
   "cell_type": "code",
   "execution_count": null,
   "metadata": {
    "ExecuteTime": {
     "start_time": "2018-10-10T19:46:30.881Z"
    }
   },
   "outputs": [],
   "source": [
    "condition_comparison_2015=loopComparison(browse_conditions_2015_xjoin,study_index_2015)"
   ]
  },
  {
   "cell_type": "code",
   "execution_count": null,
   "metadata": {
    "ExecuteTime": {
     "start_time": "2018-10-10T19:46:31.250Z"
    }
   },
   "outputs": [],
   "source": [
    "intervention_comparison_2018=loopComparison(browse_interventions_2018_xjoin,study_index_2018)"
   ]
  },
  {
   "cell_type": "code",
   "execution_count": null,
   "metadata": {
    "ExecuteTime": {
     "start_time": "2018-10-10T19:46:31.837Z"
    }
   },
   "outputs": [],
   "source": [
    "intervention_comparison_2017=loopComparison(browse_interventions_2017_xjoin,study_index_2017)"
   ]
  },
  {
   "cell_type": "code",
   "execution_count": null,
   "metadata": {
    "ExecuteTime": {
     "start_time": "2018-10-10T19:46:32.221Z"
    }
   },
   "outputs": [],
   "source": [
    "intervention_comparison_2016=loopComparison(browse_interventions_2016_xjoin,study_index_2016)"
   ]
  },
  {
   "cell_type": "code",
   "execution_count": null,
   "metadata": {
    "ExecuteTime": {
     "start_time": "2018-10-10T19:46:32.522Z"
    }
   },
   "outputs": [],
   "source": [
    "intervention_comparison_2015=loopComparison(browse_interventions_2015_xjoin,study_index_2015)"
   ]
  },
  {
   "cell_type": "markdown",
   "metadata": {},
   "source": [
    "## Sanity check results"
   ]
  },
  {
   "cell_type": "code",
   "execution_count": 32,
   "metadata": {
    "ExecuteTime": {
     "end_time": "2018-10-10T19:37:06.555321Z",
     "start_time": "2018-10-10T19:37:06.544683Z"
    }
   },
   "outputs": [],
   "source": [
    "def returnTopSim(df,study_index,study_index_rev,nct_id, n=10):\n",
    "    index = study_index[nct_id]\n",
    "    list = [(v, k) for k, v in enumerate(df[index].toarray().flatten())]\n",
    "    list.sort(reverse=True)\n",
    "    \n",
    "    topn = []\n",
    "     \n",
    "    for i in list[:n]:\n",
    "        topn.append((study_index_rev[i[1]],i[0]))\n",
    "    return topn"
   ]
  },
  {
   "cell_type": "code",
   "execution_count": 35,
   "metadata": {
    "ExecuteTime": {
     "end_time": "2018-10-10T19:37:24.818707Z",
     "start_time": "2018-10-10T19:37:24.798050Z"
    }
   },
   "outputs": [
    {
     "data": {
      "text/plain": [
       "[('NCT03538028', 1.0),\n",
       " ('NCT03517488', 0.6391752577319587),\n",
       " ('NCT03319459', 0.5051546391752577),\n",
       " ('NCT03694249', 0.4845360824742268),\n",
       " ('NCT03590054', 0.4742268041237113),\n",
       " ('NCT03454451', 0.44329896907216493),\n",
       " ('NCT03236935', 0.422680412371134),\n",
       " ('NCT03633110', 0.422680412371134),\n",
       " ('NCT03602079', 0.38144329896907214),\n",
       " ('NCT03621982', 0.3711340206185567),\n",
       " ('NCT03509012', 0.36082474226804123),\n",
       " ('NCT03435640', 0.36082474226804123),\n",
       " ('NCT03552718', 0.32989690721649484),\n",
       " ('NCT03409458', 0.31958762886597936),\n",
       " ('NCT03576131', 0.30927835051546393),\n",
       " ('NCT03485209', 0.29896907216494845),\n",
       " ('NCT03474497', 0.29896907216494845),\n",
       " ('NCT03502330', 0.27835051546391754),\n",
       " ('NCT03549000', 0.25773195876288657),\n",
       " ('NCT03265080', 0.23711340206185566)]"
      ]
     },
     "execution_count": 35,
     "metadata": {},
     "output_type": "execute_result"
    }
   ],
   "source": [
    "returnTopSim(condition_comparison_2018,study_index_2018,study_index_rev_2018,'NCT03652077',20)"
   ]
  },
  {
   "cell_type": "code",
   "execution_count": 36,
   "metadata": {
    "ExecuteTime": {
     "end_time": "2018-10-10T19:37:31.114438Z",
     "start_time": "2018-10-10T19:37:31.102489Z"
    }
   },
   "outputs": [],
   "source": [
    "def print_terms(df,nct_id1,nct_id2):\n",
    "    print(f\"{nct_id1}:\")\n",
    "    for i in df.loc[df['nct_id']==nct_id1]['downcase_mesh_term']:\n",
    "        try:\n",
    "            print(f\"{i}: {terms[i]}\")\n",
    "        except:\n",
    "            print(f\"{i}: N/A\")\n",
    "\n",
    "    print(f\"\\n{nct_id2}:\")\n",
    "    for i in df.loc[browse_conditions_2018['nct_id']==nct_id2]['downcase_mesh_term']:\n",
    "        try:\n",
    "            print(f\"{i}: {terms[i]}\")\n",
    "        except:\n",
    "            print(f\"{i}: N/A\")"
   ]
  },
  {
   "cell_type": "code",
   "execution_count": 38,
   "metadata": {
    "ExecuteTime": {
     "end_time": "2018-10-10T19:37:41.233677Z",
     "start_time": "2018-10-10T19:37:41.224161Z"
    }
   },
   "outputs": [
    {
     "name": "stdout",
     "output_type": "stream",
     "text": [
      "NCT03652077:\n",
      "immunoglobulins: D12.776.377.715.548\n",
      "\n",
      "NCT03538028:\n",
      "bupivacaine: D03.383.621.758.323\n",
      "ropivacaine: N/A\n",
      "antibodies: D12.776.377.715.548.114\n",
      "immunoglobulins: D12.776.377.715.548\n",
      "antibodies, monoclonal: D12.776.377.715.548.114.224\n",
      "rifampin: D04.345.295.750.700\n",
      "rifapentine: N/A\n",
      "isoniazid: D03.383.725.394.582\n",
      "rifamycins: D04.345.295.750\n",
      "rifamycin sv: N/A\n",
      "pharmaceutical solutions: D27.720.752\n",
      "cantharidin: D03.633.100.127.125\n",
      "antibodies, monoclonal: D12.776.377.715.548.114.224\n",
      "antibodies: D12.776.377.715.548.114\n",
      "antibodies, monoclonal: D12.776.377.715.548.114.224\n",
      "daratumumab: N/A\n",
      "celecoxib: D03.383.129.539.160\n",
      "diclofenac: D02.241.223.601.210\n",
      "indomethacin: D03.633.100.473.420\n",
      "meloxicam: N/A\n",
      "anti-inflammatory agents: D27.505.954.158\n"
     ]
    }
   ],
   "source": [
    "print_terms(browse_interventions_2018,'NCT03652077','NCT03538028')"
   ]
  },
  {
   "cell_type": "code",
   "execution_count": 58,
   "metadata": {
    "ExecuteTime": {
     "end_time": "2018-10-10T19:44:41.195434Z",
     "start_time": "2018-10-10T19:44:37.036745Z"
    }
   },
   "outputs": [
    {
     "data": {
      "text/plain": [
       "<matplotlib.image.AxesImage at 0x140803c18>"
      ]
     },
     "execution_count": 58,
     "metadata": {},
     "output_type": "execute_result"
    },
    {
     "data": {
      "image/png": "[encoded data removed]",
      "text/plain": [
       "<matplotlib.figure.Figure at 0x1408033c8>"
      ]
     },
     "metadata": {},
     "output_type": "display_data"
    }
   ],
   "source": [
    "import matplotlib.pyplot as plt\n",
    " \n",
    "fig, ax = plt.subplots(figsize=(20,20))\n",
    "plt.imshow(condition_comparison_2018.todense(), interpolation='none')"
   ]
  },
  {
   "cell_type": "code",
   "execution_count": null,
   "metadata": {},
   "outputs": [],
   "source": []
  }
 ],
 "metadata": {
  "kernelspec": {
   "display_name": "Python 3",
   "language": "python",
   "name": "python3"
  },
  "language_info": {
   "codemirror_mode": {
    "name": "ipython",
    "version": 3
   },
   "file_extension": ".py",
   "mimetype": "text/x-python",
   "name": "python",
   "nbconvert_exporter": "python",
   "pygments_lexer": "ipython3",
   "version": "3.6.0"
  },
  "latex_envs": {
   "LaTeX_envs_menu_present": true,
   "autoclose": false,
   "autocomplete": true,
   "bibliofile": "biblio.bib",
   "cite_by": "apalike",
   "current_citInitial": 1,
   "eqLabelWithNumbers": true,
   "eqNumInitial": 1,
   "hotkeys": {
    "equation": "Ctrl-E",
    "itemize": "Ctrl-I"
   },
   "labels_anchors": false,
   "latex_user_defs": false,
   "report_style_numbering": false,
   "user_envs_cfg": false
  },
  "toc": {
   "base_numbering": 1,
   "nav_menu": {},
   "number_sections": true,
   "sideBar": true,
   "skip_h1_title": false,
   "title_cell": "Table of Contents",
   "title_sidebar": "Contents",
   "toc_cell": true,
   "toc_position": {},
   "toc_section_display": true,
   "toc_window_display": false
  }
 },
 "nbformat": 4,
 "nbformat_minor": 2
}
