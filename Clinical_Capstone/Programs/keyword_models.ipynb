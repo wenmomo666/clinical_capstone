{
 "cells": [
  {
   "cell_type": "markdown",
   "metadata": {
    "toc": true
   },
   "source": [
    "<h1>Table of Contents<span class=\"tocSkip\"></span></h1>\n",
    "<div class=\"toc\"><ul class=\"toc-item\"><li><span><a href=\"#Preparation\" data-toc-modified-id=\"Preparation-1\"><span class=\"toc-item-num\">1&nbsp;&nbsp;</span>Preparation</a></span><ul class=\"toc-item\"><li><span><a href=\"#Import-packages\" data-toc-modified-id=\"Import-packages-1.1\"><span class=\"toc-item-num\">1.1&nbsp;&nbsp;</span>Import packages</a></span></li><li><span><a href=\"#Import-ACCT-credentials\" data-toc-modified-id=\"Import-ACCT-credentials-1.2\"><span class=\"toc-item-num\">1.2&nbsp;&nbsp;</span>Import ACCT credentials</a></span></li><li><span><a href=\"#Import-dictionary\" data-toc-modified-id=\"Import-dictionary-1.3\"><span class=\"toc-item-num\">1.3&nbsp;&nbsp;</span>Import dictionary</a></span></li><li><span><a href=\"#Build-Similarity-Matrix-Function\" data-toc-modified-id=\"Build-Similarity-Matrix-Function-1.4\"><span class=\"toc-item-num\">1.4&nbsp;&nbsp;</span>Build Similarity Matrix Function</a></span></li><li><span><a href=\"#Import-MeSH-Hierarchy\" data-toc-modified-id=\"Import-MeSH-Hierarchy-1.5\"><span class=\"toc-item-num\">1.5&nbsp;&nbsp;</span>Import MeSH Hierarchy</a></span></li></ul></li><li><span><a href=\"#Models\" data-toc-modified-id=\"Models-2\"><span class=\"toc-item-num\">2&nbsp;&nbsp;</span>Models</a></span><ul class=\"toc-item\"><li><span><a href=\"#Model-1---Keyword-Match---Browse-Conditions\" data-toc-modified-id=\"Model-1---Keyword-Match---Browse-Conditions-2.1\"><span class=\"toc-item-num\">2.1&nbsp;&nbsp;</span>Model 1 - Keyword Match - Browse Conditions</a></span></li><li><span><a href=\"#Model-1---Keyword-Match---Browse-Interventions\" data-toc-modified-id=\"Model-1---Keyword-Match---Browse-Interventions-2.2\"><span class=\"toc-item-num\">2.2&nbsp;&nbsp;</span>Model 1 - Keyword Match - Browse Interventions</a></span></li><li><span><a href=\"#Model-2---Model-Hierarchy---Browse-Conditions\" data-toc-modified-id=\"Model-2---Model-Hierarchy---Browse-Conditions-2.3\"><span class=\"toc-item-num\">2.3&nbsp;&nbsp;</span>Model 2 - Model Hierarchy - Browse Conditions</a></span></li><li><span><a href=\"#Model-2---Model-Hierarchy---Browse-Interventions\" data-toc-modified-id=\"Model-2---Model-Hierarchy---Browse-Interventions-2.4\"><span class=\"toc-item-num\">2.4&nbsp;&nbsp;</span>Model 2 - Model Hierarchy - Browse Interventions</a></span></li><li><span><a href=\"#Model-3---Keyword-Jaccard-Similarity---Browse-Conditions\" data-toc-modified-id=\"Model-3---Keyword-Jaccard-Similarity---Browse-Conditions-2.5\"><span class=\"toc-item-num\">2.5&nbsp;&nbsp;</span>Model 3 - Keyword Jaccard Similarity - Browse Conditions</a></span></li><li><span><a href=\"#Model-3---Keyword-Jaccard-Similarity---Browse-Interventions\" data-toc-modified-id=\"Model-3---Keyword-Jaccard-Similarity---Browse-Interventions-2.6\"><span class=\"toc-item-num\">2.6&nbsp;&nbsp;</span>Model 3 - Keyword Jaccard Similarity - Browse Interventions</a></span></li><li><span><a href=\"#Model-4---Hierarchy-Jaccard-Similarity---Browse-Conditions\" data-toc-modified-id=\"Model-4---Hierarchy-Jaccard-Similarity---Browse-Conditions-2.7\"><span class=\"toc-item-num\">2.7&nbsp;&nbsp;</span>Model 4 - Hierarchy Jaccard Similarity - Browse Conditions</a></span></li><li><span><a href=\"#Model-4---Hierarchy-Jaccard-Similarity---Browse-Interventions\" data-toc-modified-id=\"Model-4---Hierarchy-Jaccard-Similarity---Browse-Interventions-2.8\"><span class=\"toc-item-num\">2.8&nbsp;&nbsp;</span>Model 4 - Hierarchy Jaccard Similarity - Browse Interventions</a></span></li></ul></li><li><span><a href=\"#Save-Model-Results\" data-toc-modified-id=\"Save-Model-Results-3\"><span class=\"toc-item-num\">3&nbsp;&nbsp;</span>Save Model Results</a></span></li><li><span><a href=\"#Review-Model-Results\" data-toc-modified-id=\"Review-Model-Results-4\"><span class=\"toc-item-num\">4&nbsp;&nbsp;</span>Review Model Results</a></span><ul class=\"toc-item\"><li><span><a href=\"#In-Aggregate\" data-toc-modified-id=\"In-Aggregate-4.1\"><span class=\"toc-item-num\">4.1&nbsp;&nbsp;</span>In Aggregate</a></span></li><li><span><a href=\"#M1-Conditions-over-M1-Interventions\" data-toc-modified-id=\"M1-Conditions-over-M1-Interventions-4.2\"><span class=\"toc-item-num\">4.2&nbsp;&nbsp;</span>M1 Conditions over M1 Interventions</a></span></li><li><span><a href=\"#M1-Interventions-over-M1-Conditions\" data-toc-modified-id=\"M1-Interventions-over-M1-Conditions-4.3\"><span class=\"toc-item-num\">4.3&nbsp;&nbsp;</span>M1 Interventions over M1 Conditions</a></span></li><li><span><a href=\"#M2-Conditions-over-M1-Conditions\" data-toc-modified-id=\"M2-Conditions-over-M1-Conditions-4.4\"><span class=\"toc-item-num\">4.4&nbsp;&nbsp;</span>M2 Conditions over M1 Conditions</a></span></li><li><span><a href=\"#M3-Conditions\" data-toc-modified-id=\"M3-Conditions-4.5\"><span class=\"toc-item-num\">4.5&nbsp;&nbsp;</span>M3 Conditions</a></span></li><li><span><a href=\"#M4-Conditions\" data-toc-modified-id=\"M4-Conditions-4.6\"><span class=\"toc-item-num\">4.6&nbsp;&nbsp;</span>M4 Conditions</a></span></li><li><span><a href=\"#M3-Interventions\" data-toc-modified-id=\"M3-Interventions-4.7\"><span class=\"toc-item-num\">4.7&nbsp;&nbsp;</span>M3 Interventions</a></span></li><li><span><a href=\"#M4-Interventions\" data-toc-modified-id=\"M4-Interventions-4.8\"><span class=\"toc-item-num\">4.8&nbsp;&nbsp;</span>M4 Interventions</a></span></li></ul></li><li><span><a href=\"#Find-Model-Weights-from-Manual-Validation\" data-toc-modified-id=\"Find-Model-Weights-from-Manual-Validation-5\"><span class=\"toc-item-num\">5&nbsp;&nbsp;</span>Find Model Weights from Manual Validation</a></span><ul class=\"toc-item\"><li><span><a href=\"#Import-validation-scores\" data-toc-modified-id=\"Import-validation-scores-5.1\"><span class=\"toc-item-num\">5.1&nbsp;&nbsp;</span>Import validation scores</a></span></li><li><span><a href=\"#Generate-validation-matrices\" data-toc-modified-id=\"Generate-validation-matrices-5.2\"><span class=\"toc-item-num\">5.2&nbsp;&nbsp;</span>Generate validation matrices</a></span></li><li><span><a href=\"#Stack-and-ravel-validation-matrices\" data-toc-modified-id=\"Stack-and-ravel-validation-matrices-5.3\"><span class=\"toc-item-num\">5.3&nbsp;&nbsp;</span>Stack and ravel validation matrices</a></span></li><li><span><a href=\"#Fit-regression\" data-toc-modified-id=\"Fit-regression-5.4\"><span class=\"toc-item-num\">5.4&nbsp;&nbsp;</span>Fit regression</a></span></li><li><span><a href=\"#Finalize-similarity-matrices\" data-toc-modified-id=\"Finalize-similarity-matrices-5.5\"><span class=\"toc-item-num\">5.5&nbsp;&nbsp;</span>Finalize similarity matrices</a></span></li></ul></li></ul></div>"
   ]
  },
  {
   "cell_type": "markdown",
   "metadata": {},
   "source": [
    "## Preparation"
   ]
  },
  {
   "cell_type": "markdown",
   "metadata": {},
   "source": [
    "### Import packages"
   ]
  },
  {
   "cell_type": "code",
   "execution_count": 1,
   "metadata": {
    "ExecuteTime": {
     "end_time": "2018-11-19T13:19:13.088127Z",
     "start_time": "2018-11-19T13:19:09.835391Z"
    }
   },
   "outputs": [],
   "source": [
    "import json\n",
    "import pandas as pd\n",
    "import psycopg2\n",
    "import numpy as np\n",
    "from sklearn.preprocessing import normalize\n",
    "from tqdm import tqdm_notebook\n",
    "import re\n",
    "import pickle\n",
    "\n",
    "from datetime import datetime\n",
    "import matplotlib.pyplot as plt\n",
    "from scipy import sparse\n",
    "\n",
    "from scipy.sparse import csr_matrix\n",
    "\n",
    "import ipywidgets as widgets\n",
    "\n",
    "pd.options.mode.chained_assignment = None"
   ]
  },
  {
   "cell_type": "markdown",
   "metadata": {},
   "source": [
    "### Import ACCT credentials"
   ]
  },
  {
   "cell_type": "code",
   "execution_count": 2,
   "metadata": {
    "ExecuteTime": {
     "end_time": "2018-11-19T13:19:13.379926Z",
     "start_time": "2018-11-19T13:19:13.089954Z"
    }
   },
   "outputs": [],
   "source": [
    "with open('config.json') as f:\n",
    "    conf = json.load(f)\n",
    "conn_str = \"host={} dbname={} port={} user={} password={}\".format(conf['host'],\n",
    "                                                                  conf['database'],\n",
    "                                                                  conf['port'],\n",
    "                                                                  conf['user'],\n",
    "                                                                  conf['passw'])\n",
    "conn = psycopg2.connect(conn_str)"
   ]
  },
  {
   "cell_type": "markdown",
   "metadata": {},
   "source": [
    "### Import dictionary"
   ]
  },
  {
   "cell_type": "code",
   "execution_count": 3,
   "metadata": {
    "ExecuteTime": {
     "end_time": "2018-11-19T13:19:13.390636Z",
     "start_time": "2018-11-19T13:19:13.381530Z"
    }
   },
   "outputs": [],
   "source": [
    "import pickle\n",
    "with open('ids_by_year_fda_reg_with_pos.pkl', 'rb') as f:\n",
    "    year_ids = pickle.load(f)"
   ]
  },
  {
   "cell_type": "code",
   "execution_count": 4,
   "metadata": {
    "ExecuteTime": {
     "end_time": "2018-11-19T13:19:13.396368Z",
     "start_time": "2018-11-19T13:19:13.392237Z"
    }
   },
   "outputs": [],
   "source": [
    "years_ids_rev = {}\n",
    "for year in year_ids:\n",
    "    years_ids_rev[year] = {v: k for k, v in year_ids[year].items()}"
   ]
  },
  {
   "cell_type": "code",
   "execution_count": 5,
   "metadata": {
    "ExecuteTime": {
     "end_time": "2018-11-19T13:19:13.404378Z",
     "start_time": "2018-11-19T13:19:13.398450Z"
    }
   },
   "outputs": [
    {
     "data": {
      "text/plain": [
       "3419"
      ]
     },
     "execution_count": 5,
     "metadata": {},
     "output_type": "execute_result"
    }
   ],
   "source": [
    "len(years_ids_rev[2018])"
   ]
  },
  {
   "cell_type": "markdown",
   "metadata": {},
   "source": [
    "### Build Similarity Matrix Function"
   ]
  },
  {
   "cell_type": "code",
   "execution_count": 6,
   "metadata": {
    "ExecuteTime": {
     "end_time": "2018-11-19T13:19:13.429795Z",
     "start_time": "2018-11-19T13:19:13.406057Z"
    }
   },
   "outputs": [],
   "source": [
    "def sim_equality(df,index,year):\n",
    "    index = index[year]\n",
    "    ids = pd.DataFrame([key for key in index.keys()],columns=['nct_id'])\n",
    "    df = df.merge(ids,on=['nct_id'])  \n",
    "    \n",
    "    df['key']=1\n",
    "    df_xjoin = pd.merge(df,df,on=['key','downcase_mesh_term'])\n",
    "    df_xjoin = df_xjoin.loc[(df_xjoin.nct_id_x!=df_xjoin.nct_id_y)]\n",
    "    \n",
    "    df_term_counts = pd.DataFrame(df_xjoin.groupby(['nct_id_x','nct_id_y']).size()).reset_index()\n",
    "    df_term_counts.columns = ['nct_id_x','nct_id_y','data']\n",
    "\n",
    "    rows = df_term_counts.nct_id_x.apply(lambda x: index[x])\n",
    "    cols = df_term_counts.nct_id_y.apply(lambda x: index[x])\n",
    "    data = df_term_counts.data\n",
    "\n",
    "    comparison = sparse.csr_matrix((data, (rows,cols)))\n",
    "\n",
    "    return normalize(comparison, norm='max', axis=1)"
   ]
  },
  {
   "cell_type": "code",
   "execution_count": 7,
   "metadata": {
    "ExecuteTime": {
     "end_time": "2018-11-19T13:19:13.482001Z",
     "start_time": "2018-11-19T13:19:13.432818Z"
    }
   },
   "outputs": [],
   "source": [
    "def jaccard_calc(set1,set2):\n",
    "    intersection = len(set1.union(set2))\n",
    "    union = len(set1.intersection(set2))\n",
    "    return union/intersection\n",
    "    \n",
    "\n",
    "def sim_jaccard(df,index,year):\n",
    "    index = index[year]\n",
    "    ids = pd.DataFrame([key for key in index.keys()],columns=['nct_id'])\n",
    "    df = df.merge(ids,on=['nct_id'])\n",
    "    df['key']=1\n",
    "    \n",
    "    df_xjoin_lim = pd.merge(df,df,on=['key','downcase_mesh_term'])[['nct_id_x','nct_id_y']].drop_duplicates()\n",
    "    df_xjoin_lim = df_xjoin_lim.loc[(df_xjoin_lim.nct_id_x!=df_xjoin_lim.nct_id_y)]\n",
    "    \n",
    "    df = pd.DataFrame(df.groupby('nct_id')['downcase_mesh_term'].apply(set).reset_index(),\n",
    "                      columns=[\"nct_id\",\"downcase_mesh_term\"])\n",
    "    \n",
    "    df['key']=1\n",
    "\n",
    "    df_xjoin = pd.merge(df,df,on=['key'])\n",
    "    df_xjoin = df_xjoin.merge(df_xjoin_lim,on=['nct_id_x','nct_id_y'],how='inner')\n",
    "    df_xjoin['data'] = df_xjoin.apply(lambda x: jaccard_calc(x['downcase_mesh_term_x'],x['downcase_mesh_term_y']), axis=1)\n",
    "    \n",
    "    rows = df_xjoin.loc[(df_xjoin.data>0)].nct_id_x.apply(lambda x: index[x])\n",
    "    cols = df_xjoin.loc[(df_xjoin.data>0)].nct_id_y.apply(lambda x: index[x])\n",
    "    data = df_xjoin.loc[(df_xjoin.data>0)].data\n",
    "    \n",
    "    comparison = sparse.csr_matrix((data, (rows,cols)))\n",
    "    \n",
    "    return comparison"
   ]
  },
  {
   "cell_type": "code",
   "execution_count": 40,
   "metadata": {
    "ExecuteTime": {
     "end_time": "2018-11-19T13:59:58.731101Z",
     "start_time": "2018-11-19T13:59:58.706395Z"
    }
   },
   "outputs": [],
   "source": [
    "def sim_jaccard_prep(df,index,year):\n",
    "    index = index[year]\n",
    "    ids = pd.DataFrame([key for key in index.keys()],columns=['nct_id'])\n",
    "    df = df.merge(ids,on=['nct_id'])\n",
    "    df['key']=1\n",
    "    \n",
    "    df_xjoin_lim = pd.merge(df,df,on=['key','downcase_mesh_term'])[['nct_id_x','nct_id_y']].drop_duplicates()\n",
    "    df_xjoin_lim = df_xjoin_lim.loc[(df_xjoin_lim.nct_id_x!=df_xjoin_lim.nct_id_y)]\n",
    "    \n",
    "    df = pd.DataFrame(df.groupby('nct_id')['downcase_mesh_term'].apply(set).reset_index(),\n",
    "                      columns=[\"nct_id\",\"downcase_mesh_term\"])\n",
    "    \n",
    "    df['key']=1\n",
    "\n",
    "    df_xjoin = pd.merge(df,df,on=['key'])\n",
    "    df_xjoin = df_xjoin.merge(df_xjoin_lim,on=['nct_id_x','nct_id_y'],how='inner')\n",
    "    \n",
    "    return df_xjoin"
   ]
  },
  {
   "cell_type": "markdown",
   "metadata": {},
   "source": [
    "### Import MeSH Hierarchy"
   ]
  },
  {
   "cell_type": "code",
   "execution_count": 8,
   "metadata": {
    "ExecuteTime": {
     "end_time": "2018-11-19T13:19:14.183555Z",
     "start_time": "2018-11-19T13:19:14.070964Z"
    }
   },
   "outputs": [],
   "source": [
    "meshFile = 'd2018.bin'\n",
    "with open(meshFile, mode='rb') as file:\n",
    "    mesh = file.readlines()"
   ]
  },
  {
   "cell_type": "code",
   "execution_count": 9,
   "metadata": {
    "ExecuteTime": {
     "end_time": "2018-11-19T13:19:15.875198Z",
     "start_time": "2018-11-19T13:19:14.470990Z"
    }
   },
   "outputs": [],
   "source": [
    "numbers=dict()\n",
    "terms=dict()\n",
    "\n",
    "for line in mesh:\n",
    "    meshTerm = re.search(b'MH = (.+)$', line)\n",
    "    if meshTerm:\n",
    "        term = meshTerm.group(1).lower()\n",
    "\n",
    "    meshNumber = re.search(b'MN = (.+)$', line)\n",
    "    if meshNumber:\n",
    "        number = meshNumber.group(1)\n",
    "        \n",
    "        numbers[number.decode('utf-8')] = term.decode('utf-8')\n",
    "        \n",
    "        # If term has more than one number, concatenate separated by space\n",
    "        if term in terms:\n",
    "            terms[term.decode('utf-8')] = terms[term.decode('utf-8')] + ' ' + number.decode('utf-8')\n",
    "        else:\n",
    "            terms[term.decode('utf-8')] = number.decode('utf-8')"
   ]
  },
  {
   "cell_type": "code",
   "execution_count": 10,
   "metadata": {
    "ExecuteTime": {
     "end_time": "2018-11-19T13:19:15.929004Z",
     "start_time": "2018-11-19T13:19:15.876699Z"
    }
   },
   "outputs": [
    {
     "data": {
      "text/html": [
       "<div>\n",
       "<style>\n",
       "    .dataframe thead tr:only-child th {\n",
       "        text-align: right;\n",
       "    }\n",
       "\n",
       "    .dataframe thead th {\n",
       "        text-align: left;\n",
       "    }\n",
       "\n",
       "    .dataframe tbody tr th {\n",
       "        vertical-align: top;\n",
       "    }\n",
       "</style>\n",
       "<table border=\"1\" class=\"dataframe\">\n",
       "  <thead>\n",
       "    <tr style=\"text-align: right;\">\n",
       "      <th></th>\n",
       "      <th>term</th>\n",
       "      <th>number</th>\n",
       "    </tr>\n",
       "  </thead>\n",
       "  <tbody>\n",
       "    <tr>\n",
       "      <th>0</th>\n",
       "      <td>calcimycin</td>\n",
       "      <td>D03.633.100.221.173</td>\n",
       "    </tr>\n",
       "    <tr>\n",
       "      <th>1</th>\n",
       "      <td>temefos</td>\n",
       "      <td>D02.886.300.692.800</td>\n",
       "    </tr>\n",
       "    <tr>\n",
       "      <th>2</th>\n",
       "      <td>abattoirs</td>\n",
       "      <td>J03.540.020</td>\n",
       "    </tr>\n",
       "    <tr>\n",
       "      <th>3</th>\n",
       "      <td>abbreviations as topic</td>\n",
       "      <td>L01.559.598.400.556.131</td>\n",
       "    </tr>\n",
       "    <tr>\n",
       "      <th>4</th>\n",
       "      <td>abdomen</td>\n",
       "      <td>A01.923.047</td>\n",
       "    </tr>\n",
       "  </tbody>\n",
       "</table>\n",
       "</div>"
      ],
      "text/plain": [
       "                     term                   number\n",
       "0              calcimycin      D03.633.100.221.173\n",
       "1                 temefos      D02.886.300.692.800\n",
       "2               abattoirs              J03.540.020\n",
       "3  abbreviations as topic  L01.559.598.400.556.131\n",
       "4                 abdomen              A01.923.047"
      ]
     },
     "execution_count": 10,
     "metadata": {},
     "output_type": "execute_result"
    }
   ],
   "source": [
    "df_terms = pd.DataFrame.from_dict(terms, orient='index').reset_index()\n",
    "df_terms.columns=['term','number']\n",
    "\n",
    "df_terms.head()"
   ]
  },
  {
   "cell_type": "code",
   "execution_count": 11,
   "metadata": {
    "ExecuteTime": {
     "end_time": "2018-11-19T13:19:16.303889Z",
     "start_time": "2018-11-19T13:19:15.930607Z"
    }
   },
   "outputs": [
    {
     "data": {
      "text/html": [
       "<div>\n",
       "<style>\n",
       "    .dataframe thead tr:only-child th {\n",
       "        text-align: right;\n",
       "    }\n",
       "\n",
       "    .dataframe thead th {\n",
       "        text-align: left;\n",
       "    }\n",
       "\n",
       "    .dataframe tbody tr th {\n",
       "        vertical-align: top;\n",
       "    }\n",
       "</style>\n",
       "<table border=\"1\" class=\"dataframe\">\n",
       "  <thead>\n",
       "    <tr style=\"text-align: right;\">\n",
       "      <th></th>\n",
       "      <th>downcase_mesh_term</th>\n",
       "      <th>parent_term</th>\n",
       "    </tr>\n",
       "  </thead>\n",
       "  <tbody>\n",
       "    <tr>\n",
       "      <th>0</th>\n",
       "      <td>calcimycin</td>\n",
       "      <td>heterocyclic compounds</td>\n",
       "    </tr>\n",
       "    <tr>\n",
       "      <th>1</th>\n",
       "      <td>calcimycin</td>\n",
       "      <td>heterocyclic compounds, fused-ring</td>\n",
       "    </tr>\n",
       "    <tr>\n",
       "      <th>2</th>\n",
       "      <td>calcimycin</td>\n",
       "      <td>heterocyclic compounds, 2-ring</td>\n",
       "    </tr>\n",
       "    <tr>\n",
       "      <th>3</th>\n",
       "      <td>calcimycin</td>\n",
       "      <td>benzoxazoles</td>\n",
       "    </tr>\n",
       "    <tr>\n",
       "      <th>4</th>\n",
       "      <td>calcimycin</td>\n",
       "      <td>calcimycin</td>\n",
       "    </tr>\n",
       "  </tbody>\n",
       "</table>\n",
       "</div>"
      ],
      "text/plain": [
       "  downcase_mesh_term                         parent_term\n",
       "0         calcimycin              heterocyclic compounds\n",
       "1         calcimycin  heterocyclic compounds, fused-ring\n",
       "2         calcimycin      heterocyclic compounds, 2-ring\n",
       "3         calcimycin                        benzoxazoles\n",
       "4         calcimycin                          calcimycin"
      ]
     },
     "execution_count": 11,
     "metadata": {},
     "output_type": "execute_result"
    }
   ],
   "source": [
    "dict_parent_terms = {'downcase_mesh_term': [], 'parent_term': []}\n",
    "\n",
    "for id in numbers.keys():\n",
    "    for i in range(len(id.split(\".\"))):\n",
    "        dict_parent_terms['downcase_mesh_term'].append(numbers[id])\n",
    "        dict_parent_terms['parent_term'].append(numbers[id[:i*4+3]])\n",
    "\n",
    "df_parent_terms = pd.DataFrame.from_dict(dict_parent_terms).drop_duplicates()\n",
    "df_parent_terms.head()"
   ]
  },
  {
   "cell_type": "markdown",
   "metadata": {},
   "source": [
    "## Models"
   ]
  },
  {
   "cell_type": "markdown",
   "metadata": {
    "ExecuteTime": {
     "end_time": "2018-10-26T19:38:59.326907Z",
     "start_time": "2018-10-26T19:38:59.322882Z"
    }
   },
   "source": [
    "### Model 1 - Keyword Match - Browse Conditions"
   ]
  },
  {
   "cell_type": "code",
   "execution_count": 12,
   "metadata": {
    "ExecuteTime": {
     "end_time": "2018-11-19T13:19:22.883419Z",
     "start_time": "2018-11-19T13:19:16.359085Z"
    }
   },
   "outputs": [],
   "source": [
    "browse_conditions = pd.read_sql('select * from browse_conditions', con=conn)"
   ]
  },
  {
   "cell_type": "code",
   "execution_count": 13,
   "metadata": {
    "ExecuteTime": {
     "end_time": "2018-11-19T13:19:24.554859Z",
     "start_time": "2018-11-19T13:19:22.885442Z"
    }
   },
   "outputs": [],
   "source": [
    "m1_conditions_2014 = sim_equality(browse_conditions, year_ids, 2014)\n",
    "m1_conditions_2015 = sim_equality(browse_conditions, year_ids, 2015)\n",
    "m1_conditions_2016 = sim_equality(browse_conditions, year_ids, 2016)\n",
    "m1_conditions_2017 = sim_equality(browse_conditions, year_ids, 2017)\n",
    "m1_conditions_2018 = sim_equality(browse_conditions, year_ids, 2018)"
   ]
  },
  {
   "cell_type": "markdown",
   "metadata": {},
   "source": [
    "### Model 1 - Keyword Match - Browse Interventions"
   ]
  },
  {
   "cell_type": "code",
   "execution_count": 14,
   "metadata": {
    "ExecuteTime": {
     "end_time": "2018-11-19T13:19:28.005345Z",
     "start_time": "2018-11-19T13:19:24.556540Z"
    }
   },
   "outputs": [],
   "source": [
    "browse_interventions = pd.read_sql('select * from browse_interventions', con=conn)"
   ]
  },
  {
   "cell_type": "code",
   "execution_count": 15,
   "metadata": {
    "ExecuteTime": {
     "end_time": "2018-11-19T13:19:29.421250Z",
     "start_time": "2018-11-19T13:19:28.007293Z"
    }
   },
   "outputs": [],
   "source": [
    "m1_interventions_2014 = sim_equality(browse_interventions, year_ids, 2014)\n",
    "m1_interventions_2015 = sim_equality(browse_interventions, year_ids, 2015)\n",
    "m1_interventions_2016 = sim_equality(browse_interventions, year_ids, 2016)\n",
    "m1_interventions_2017 = sim_equality(browse_interventions, year_ids, 2017)\n",
    "m1_interventions_2018 = sim_equality(browse_interventions, year_ids, 2018)"
   ]
  },
  {
   "cell_type": "markdown",
   "metadata": {},
   "source": [
    "### Model 2 - Model Hierarchy - Browse Conditions"
   ]
  },
  {
   "cell_type": "code",
   "execution_count": 16,
   "metadata": {
    "ExecuteTime": {
     "end_time": "2018-11-19T13:19:30.345632Z",
     "start_time": "2018-11-19T13:19:29.422930Z"
    }
   },
   "outputs": [],
   "source": [
    "browse_conditions_parents = browse_conditions.merge(df_parent_terms, on=['downcase_mesh_term'],how='left')\n",
    "browse_conditions_parents.drop(['downcase_mesh_term'], axis=1, inplace=True)\n",
    "browse_conditions_parents.columns = ['id', 'nct_id', 'mesh_term', 'downcase_mesh_term']"
   ]
  },
  {
   "cell_type": "code",
   "execution_count": 17,
   "metadata": {
    "ExecuteTime": {
     "end_time": "2018-11-19T13:20:36.186456Z",
     "start_time": "2018-11-19T13:19:30.348108Z"
    }
   },
   "outputs": [],
   "source": [
    "m2_conditions_2014 = sim_equality(browse_conditions_parents, year_ids, 2014)\n",
    "m2_conditions_2015 = sim_equality(browse_conditions_parents, year_ids, 2015)\n",
    "m2_conditions_2016 = sim_equality(browse_conditions_parents, year_ids, 2016)\n",
    "m2_conditions_2017 = sim_equality(browse_conditions_parents, year_ids, 2017)\n",
    "m2_conditions_2018 = sim_equality(browse_conditions_parents, year_ids, 2018)"
   ]
  },
  {
   "cell_type": "markdown",
   "metadata": {},
   "source": [
    "### Model 2 - Model Hierarchy - Browse Interventions"
   ]
  },
  {
   "cell_type": "code",
   "execution_count": 18,
   "metadata": {
    "ExecuteTime": {
     "end_time": "2018-11-19T13:20:36.755829Z",
     "start_time": "2018-11-19T13:20:36.188390Z"
    }
   },
   "outputs": [],
   "source": [
    "browse_interventions_parents = browse_interventions.merge(df_parent_terms, on=['downcase_mesh_term'],how='left')\n",
    "browse_interventions_parents.drop(['downcase_mesh_term'], axis=1, inplace=True)\n",
    "browse_interventions_parents.columns = ['id', 'nct_id', 'mesh_term', 'downcase_mesh_term']"
   ]
  },
  {
   "cell_type": "code",
   "execution_count": 19,
   "metadata": {
    "ExecuteTime": {
     "end_time": "2018-11-19T13:21:19.261351Z",
     "start_time": "2018-11-19T13:20:36.757602Z"
    }
   },
   "outputs": [],
   "source": [
    "m2_interventions_2014 = sim_equality(browse_interventions_parents, year_ids, 2014)\n",
    "m2_interventions_2015 = sim_equality(browse_interventions_parents, year_ids, 2015)\n",
    "m2_interventions_2016 = sim_equality(browse_interventions_parents, year_ids, 2016)\n",
    "m2_interventions_2017 = sim_equality(browse_interventions_parents, year_ids, 2017)\n",
    "m2_interventions_2018 = sim_equality(browse_interventions_parents, year_ids, 2018)"
   ]
  },
  {
   "cell_type": "markdown",
   "metadata": {},
   "source": [
    "### Model 3 - Keyword Jaccard Similarity - Browse Conditions"
   ]
  },
  {
   "cell_type": "code",
   "execution_count": 20,
   "metadata": {
    "ExecuteTime": {
     "end_time": "2018-11-19T13:21:45.668277Z",
     "start_time": "2018-11-19T13:21:19.263085Z"
    }
   },
   "outputs": [],
   "source": [
    "m3_conditions_2014 = sim_jaccard(browse_conditions, year_ids, 2014)\n",
    "m3_conditions_2015 = sim_jaccard(browse_conditions, year_ids, 2015)\n",
    "m3_conditions_2016 = sim_jaccard(browse_conditions, year_ids, 2016)\n",
    "m3_conditions_2017 = sim_jaccard(browse_conditions, year_ids, 2017)\n",
    "m3_conditions_2018 = sim_jaccard(browse_conditions, year_ids, 2018)"
   ]
  },
  {
   "cell_type": "markdown",
   "metadata": {},
   "source": [
    "### Model 3 - Keyword Jaccard Similarity - Browse Interventions"
   ]
  },
  {
   "cell_type": "code",
   "execution_count": 21,
   "metadata": {
    "ExecuteTime": {
     "end_time": "2018-11-19T13:22:09.532554Z",
     "start_time": "2018-11-19T13:21:45.671362Z"
    }
   },
   "outputs": [],
   "source": [
    "m3_interventions_2014 = sim_jaccard(browse_interventions, year_ids, 2014)\n",
    "m3_interventions_2015 = sim_jaccard(browse_interventions, year_ids, 2015)\n",
    "m3_interventions_2016 = sim_jaccard(browse_interventions, year_ids, 2016)\n",
    "m3_interventions_2017 = sim_jaccard(browse_interventions, year_ids, 2017)\n",
    "m3_interventions_2018 = sim_jaccard(browse_interventions, year_ids, 2018)"
   ]
  },
  {
   "cell_type": "markdown",
   "metadata": {},
   "source": [
    "### Model 4 - Hierarchy Jaccard Similarity - Browse Conditions"
   ]
  },
  {
   "cell_type": "code",
   "execution_count": 22,
   "metadata": {
    "ExecuteTime": {
     "end_time": "2018-11-19T13:26:50.527920Z",
     "start_time": "2018-11-19T13:22:09.535013Z"
    }
   },
   "outputs": [],
   "source": [
    "m4_conditions_2014 = sim_jaccard(browse_conditions_parents, year_ids, 2014)\n",
    "m4_conditions_2015 = sim_jaccard(browse_conditions_parents, year_ids, 2015)\n",
    "m4_conditions_2016 = sim_jaccard(browse_conditions_parents, year_ids, 2016)\n",
    "m4_conditions_2017 = sim_jaccard(browse_conditions_parents, year_ids, 2017)\n",
    "m4_conditions_2018 = sim_jaccard(browse_conditions_parents, year_ids, 2018)"
   ]
  },
  {
   "cell_type": "markdown",
   "metadata": {},
   "source": [
    "### Model 4 - Hierarchy Jaccard Similarity - Browse Interventions"
   ]
  },
  {
   "cell_type": "code",
   "execution_count": 23,
   "metadata": {
    "ExecuteTime": {
     "end_time": "2018-11-19T13:31:27.528062Z",
     "start_time": "2018-11-19T13:26:50.529663Z"
    }
   },
   "outputs": [],
   "source": [
    "m4_interventions_2014 = sim_jaccard(browse_interventions_parents, year_ids, 2014)\n",
    "m4_interventions_2015 = sim_jaccard(browse_interventions_parents, year_ids, 2015)\n",
    "m4_interventions_2016 = sim_jaccard(browse_interventions_parents, year_ids, 2016)\n",
    "m4_interventions_2017 = sim_jaccard(browse_interventions_parents, year_ids, 2017)\n",
    "m4_interventions_2018 = sim_jaccard(browse_interventions_parents, year_ids, 2018)"
   ]
  },
  {
   "cell_type": "markdown",
   "metadata": {},
   "source": [
    "## Save Model Results"
   ]
  },
  {
   "cell_type": "code",
   "execution_count": 61,
   "metadata": {
    "ExecuteTime": {
     "end_time": "2018-10-31T18:38:53.576051Z",
     "start_time": "2018-10-31T18:38:22.808971Z"
    }
   },
   "outputs": [
    {
     "name": "stdout",
     "output_type": "stream",
     "text": [
      "m1_conditions_2014 saved.\n",
      "m1_conditions_2015 saved.\n",
      "m1_conditions_2016 saved.\n",
      "m1_conditions_2017 saved.\n",
      "m1_conditions_2018 saved.\n",
      "m1_interventions_2014 saved.\n",
      "m1_interventions_2015 saved.\n",
      "m1_interventions_2016 saved.\n",
      "m1_interventions_2017 saved.\n",
      "m1_interventions_2018 saved.\n",
      "m2_conditions_2014 saved.\n",
      "m2_conditions_2015 saved.\n",
      "m2_conditions_2016 saved.\n",
      "m2_conditions_2017 saved.\n",
      "m2_conditions_2018 saved.\n",
      "m2_interventions_2014 saved.\n",
      "m2_interventions_2015 saved.\n",
      "m2_interventions_2016 saved.\n",
      "m2_interventions_2017 saved.\n",
      "m2_interventions_2018 saved.\n",
      "m3_conditions_2014 saved.\n",
      "m3_conditions_2015 saved.\n",
      "m3_conditions_2016 saved.\n",
      "m3_conditions_2017 saved.\n",
      "m3_conditions_2018 saved.\n",
      "m3_interventions_2014 saved.\n",
      "m3_interventions_2015 saved.\n",
      "m3_interventions_2016 saved.\n",
      "m3_interventions_2017 saved.\n",
      "m3_interventions_2018 saved.\n",
      "m4_conditions_2014 saved.\n",
      "m4_conditions_2015 saved.\n",
      "m4_conditions_2016 saved.\n",
      "m4_conditions_2017 saved.\n",
      "m4_conditions_2018 saved.\n",
      "m4_interventions_2014 saved.\n",
      "m4_interventions_2015 saved.\n",
      "m4_interventions_2016 saved.\n",
      "m4_interventions_2017 saved.\n",
      "m4_interventions_2018 saved.\n"
     ]
    }
   ],
   "source": [
    "import scipy.sparse\n",
    "import os\n",
    "\n",
    "dir = os.getcwd()[:-9]\n",
    "\n",
    "def saveResults(model):\n",
    "    scipy.sparse.save_npz(f'{dir}/Output/Keyword Models/{model}.npz', eval(model))\n",
    "    print(f'{model} saved.')\n",
    "\n",
    "    \n",
    "for model in range(1,5):\n",
    "    for type in ['conditions','interventions']:\n",
    "        for year in range(2014,2019):\n",
    "            saveResults(f\"m{model}_{type}_{year}\")"
   ]
  },
  {
   "cell_type": "markdown",
   "metadata": {},
   "source": [
    "## Review Model Results"
   ]
  },
  {
   "cell_type": "code",
   "execution_count": 24,
   "metadata": {
    "ExecuteTime": {
     "end_time": "2018-11-19T13:31:27.533290Z",
     "start_time": "2018-11-19T13:31:27.529901Z"
    }
   },
   "outputs": [],
   "source": [
    "def printurls(id1,id2):\n",
    "    print(\"https://clinicaltrials.gov/ct2/show/record/{}\".format(id1))\n",
    "    print(\"https://clinicaltrials.gov/ct2/show/record/{}\".format(id2))"
   ]
  },
  {
   "cell_type": "code",
   "execution_count": 25,
   "metadata": {
    "ExecuteTime": {
     "end_time": "2018-11-19T13:31:27.745913Z",
     "start_time": "2018-11-19T13:31:27.535050Z"
    }
   },
   "outputs": [],
   "source": [
    "aggregate_2018 = m1_interventions_2018 + \\\n",
    "                m2_interventions_2018 + \\\n",
    "                m3_interventions_2018 + \\\n",
    "                m4_interventions_2018 + \\\n",
    "                m1_conditions_2018 + \\\n",
    "                m2_conditions_2018 + \\\n",
    "                m3_conditions_2018 + \\\n",
    "                m4_conditions_2018"
   ]
  },
  {
   "cell_type": "code",
   "execution_count": 49,
   "metadata": {
    "ExecuteTime": {
     "end_time": "2018-11-19T14:04:28.751115Z",
     "start_time": "2018-11-19T14:04:28.742224Z"
    }
   },
   "outputs": [],
   "source": [
    "import random\n",
    "\n",
    "def topRandomRow(matrix, year, n):\n",
    "    id_list = np.random.choice(matrix.shape[0], n)\n",
    "    argmax = np.ravel(matrix.argmax(axis=1))\n",
    "    \n",
    "    for nct_id in id_list:\n",
    "        print(\"Similarity: {}\".format(matrix[nct_id,argmax[nct_id]]))\n",
    "        printurls(years_ids_rev[year][nct_id],years_ids_rev[year][argmax[nct_id]])\n",
    "        print(\"*\"*54)"
   ]
  },
  {
   "cell_type": "code",
   "execution_count": 29,
   "metadata": {
    "ExecuteTime": {
     "end_time": "2018-11-19T13:49:22.818152Z",
     "start_time": "2018-11-19T13:49:22.718864Z"
    }
   },
   "outputs": [
    {
     "name": "stdout",
     "output_type": "stream",
     "text": [
      "******************************************************\n",
      "\n",
      "Random Choice: https://clinicaltrials.gov/ct2/show/record/NCT03567291\n",
      "\n",
      "Top 1: https://clinicaltrials.gov/ct2/show/record/NCT03444038\n",
      "Top 2: https://clinicaltrials.gov/ct2/show/record/NCT03571256\n",
      "Top 3: https://clinicaltrials.gov/ct2/show/record/NCT03530293\n",
      "Top 4: https://clinicaltrials.gov/ct2/show/record/NCT03452943\n",
      "Top 5: https://clinicaltrials.gov/ct2/show/record/NCT03651726\n",
      "Top 6: https://clinicaltrials.gov/ct2/show/record/NCT03661983\n",
      "Top 7: https://clinicaltrials.gov/ct2/show/record/NCT03658135\n",
      "Top 8: https://clinicaltrials.gov/ct2/show/record/NCT03440814\n",
      "Top 9: https://clinicaltrials.gov/ct2/show/record/NCT03479476\n",
      "Top 10: https://clinicaltrials.gov/ct2/show/record/NCT03650452\n",
      "******************************************************\n",
      "\n",
      "Random Choice: https://clinicaltrials.gov/ct2/show/record/NCT03581500\n",
      "\n",
      "Top 1: https://clinicaltrials.gov/ct2/show/record/NCT03412396\n",
      "Top 2: https://clinicaltrials.gov/ct2/show/record/NCT03541850\n",
      "Top 3: https://clinicaltrials.gov/ct2/show/record/NCT03535675\n",
      "Top 4: https://clinicaltrials.gov/ct2/show/record/NCT03456843\n",
      "Top 5: https://clinicaltrials.gov/ct2/show/record/NCT03503344\n",
      "Top 6: https://clinicaltrials.gov/ct2/show/record/NCT03570476\n",
      "Top 7: https://clinicaltrials.gov/ct2/show/record/NCT03516812\n",
      "Top 8: https://clinicaltrials.gov/ct2/show/record/NCT03436654\n",
      "Top 9: https://clinicaltrials.gov/ct2/show/record/NCT03570827\n",
      "Top 10: https://clinicaltrials.gov/ct2/show/record/NCT03456804\n",
      "******************************************************\n",
      "\n",
      "Random Choice: https://clinicaltrials.gov/ct2/show/record/NCT03656575\n",
      "\n",
      "Top 1: https://clinicaltrials.gov/ct2/show/record/NCT03661996\n",
      "Top 2: https://clinicaltrials.gov/ct2/show/record/NCT03472677\n",
      "Top 3: https://clinicaltrials.gov/ct2/show/record/NCT03441607\n",
      "Top 4: https://clinicaltrials.gov/ct2/show/record/NCT03491761\n",
      "Top 5: https://clinicaltrials.gov/ct2/show/record/NCT03513016\n",
      "Top 6: https://clinicaltrials.gov/ct2/show/record/NCT03576508\n",
      "Top 7: https://clinicaltrials.gov/ct2/show/record/NCT03570554\n",
      "Top 8: https://clinicaltrials.gov/ct2/show/record/NCT03485157\n",
      "Top 9: https://clinicaltrials.gov/ct2/show/record/NCT03477487\n",
      "Top 10: https://clinicaltrials.gov/ct2/show/record/NCT03660943\n",
      "******************************************************\n",
      "\n",
      "Random Choice: https://clinicaltrials.gov/ct2/show/record/NCT03479476\n",
      "\n",
      "Top 1: https://clinicaltrials.gov/ct2/show/record/NCT03486626\n",
      "Top 2: https://clinicaltrials.gov/ct2/show/record/NCT03451006\n",
      "Top 3: https://clinicaltrials.gov/ct2/show/record/NCT03603912\n",
      "Top 4: https://clinicaltrials.gov/ct2/show/record/NCT03617458\n",
      "Top 5: https://clinicaltrials.gov/ct2/show/record/NCT03593707\n",
      "Top 6: https://clinicaltrials.gov/ct2/show/record/NCT03570632\n",
      "Top 7: https://clinicaltrials.gov/ct2/show/record/NCT03477162\n",
      "Top 8: https://clinicaltrials.gov/ct2/show/record/NCT03467763\n",
      "Top 9: https://clinicaltrials.gov/ct2/show/record/NCT03445702\n",
      "Top 10: https://clinicaltrials.gov/ct2/show/record/NCT03604419\n",
      "******************************************************\n",
      "\n",
      "Random Choice: https://clinicaltrials.gov/ct2/show/record/NCT03559868\n",
      "\n",
      "Top 1: https://clinicaltrials.gov/ct2/show/record/NCT03407144\n",
      "Top 2: https://clinicaltrials.gov/ct2/show/record/NCT03532022\n",
      "Top 3: https://clinicaltrials.gov/ct2/show/record/NCT03401541\n",
      "Top 4: https://clinicaltrials.gov/ct2/show/record/NCT03576716\n",
      "Top 5: https://clinicaltrials.gov/ct2/show/record/NCT03584516\n",
      "Top 6: https://clinicaltrials.gov/ct2/show/record/NCT03661645\n",
      "Top 7: https://clinicaltrials.gov/ct2/show/record/NCT03644667\n",
      "Top 8: https://clinicaltrials.gov/ct2/show/record/NCT03660046\n",
      "Top 9: https://clinicaltrials.gov/ct2/show/record/NCT03610685\n",
      "Top 10: https://clinicaltrials.gov/ct2/show/record/NCT03596723\n",
      "******************************************************\n",
      "\n",
      "Random Choice: https://clinicaltrials.gov/ct2/show/record/NCT03615508\n",
      "\n",
      "Top 1: https://clinicaltrials.gov/ct2/show/record/NCT03638726\n",
      "Top 2: https://clinicaltrials.gov/ct2/show/record/NCT03529487\n",
      "Top 3: https://clinicaltrials.gov/ct2/show/record/NCT03502135\n",
      "Top 4: https://clinicaltrials.gov/ct2/show/record/NCT03415243\n",
      "Top 5: https://clinicaltrials.gov/ct2/show/record/NCT03592121\n",
      "Top 6: https://clinicaltrials.gov/ct2/show/record/NCT03560362\n",
      "Top 7: https://clinicaltrials.gov/ct2/show/record/NCT03511118\n",
      "Top 8: https://clinicaltrials.gov/ct2/show/record/NCT03658135\n",
      "Top 9: https://clinicaltrials.gov/ct2/show/record/NCT03513757\n",
      "Top 10: https://clinicaltrials.gov/ct2/show/record/NCT03545516\n",
      "******************************************************\n",
      "\n",
      "Random Choice: https://clinicaltrials.gov/ct2/show/record/NCT03550794\n",
      "\n",
      "Top 1: https://clinicaltrials.gov/ct2/show/record/NCT03592277\n",
      "Top 2: https://clinicaltrials.gov/ct2/show/record/NCT03422159\n",
      "Top 3: https://clinicaltrials.gov/ct2/show/record/NCT03450707\n",
      "Top 4: https://clinicaltrials.gov/ct2/show/record/NCT03509350\n",
      "Top 5: https://clinicaltrials.gov/ct2/show/record/NCT03623529\n",
      "Top 6: https://clinicaltrials.gov/ct2/show/record/NCT03608514\n",
      "Top 7: https://clinicaltrials.gov/ct2/show/record/NCT03568383\n",
      "Top 8: https://clinicaltrials.gov/ct2/show/record/NCT03401398\n",
      "Top 9: https://clinicaltrials.gov/ct2/show/record/NCT03615378\n",
      "Top 10: https://clinicaltrials.gov/ct2/show/record/NCT03401541\n",
      "******************************************************\n",
      "\n",
      "Random Choice: https://clinicaltrials.gov/ct2/show/record/NCT03408587\n",
      "\n",
      "Top 1: https://clinicaltrials.gov/ct2/show/record/NCT03445533\n",
      "Top 2: https://clinicaltrials.gov/ct2/show/record/NCT03484923\n",
      "Top 3: https://clinicaltrials.gov/ct2/show/record/NCT03425461\n",
      "Top 4: https://clinicaltrials.gov/ct2/show/record/NCT03580382\n",
      "Top 5: https://clinicaltrials.gov/ct2/show/record/NCT03635983\n",
      "Top 6: https://clinicaltrials.gov/ct2/show/record/NCT03528408\n",
      "Top 7: https://clinicaltrials.gov/ct2/show/record/NCT03405155\n",
      "Top 8: https://clinicaltrials.gov/ct2/show/record/NCT03618641\n",
      "Top 9: https://clinicaltrials.gov/ct2/show/record/NCT03646617\n",
      "Top 10: https://clinicaltrials.gov/ct2/show/record/NCT03470922\n",
      "******************************************************\n",
      "\n",
      "Random Choice: https://clinicaltrials.gov/ct2/show/record/NCT03572062\n",
      "\n",
      "Top 1: https://clinicaltrials.gov/ct2/show/record/NCT03529773\n",
      "Top 2: https://clinicaltrials.gov/ct2/show/record/NCT03519373\n",
      "Top 3: https://clinicaltrials.gov/ct2/show/record/NCT03541499\n",
      "Top 4: https://clinicaltrials.gov/ct2/show/record/NCT03614975\n",
      "Top 5: https://clinicaltrials.gov/ct2/show/record/NCT03453801\n",
      "Top 6: https://clinicaltrials.gov/ct2/show/record/NCT03564444\n",
      "Top 7: https://clinicaltrials.gov/ct2/show/record/NCT03658629\n",
      "Top 8: https://clinicaltrials.gov/ct2/show/record/NCT03553940\n",
      "Top 9: https://clinicaltrials.gov/ct2/show/record/NCT03599739\n",
      "Top 10: https://clinicaltrials.gov/ct2/show/record/NCT03546192\n",
      "******************************************************\n",
      "\n",
      "Random Choice: https://clinicaltrials.gov/ct2/show/record/NCT03549234\n",
      "\n",
      "Top 1: https://clinicaltrials.gov/ct2/show/record/NCT03395353\n",
      "Top 2: https://clinicaltrials.gov/ct2/show/record/NCT03555851\n",
      "Top 3: https://clinicaltrials.gov/ct2/show/record/NCT03555968\n",
      "Top 4: https://clinicaltrials.gov/ct2/show/record/NCT03556007\n",
      "Top 5: https://clinicaltrials.gov/ct2/show/record/NCT03556137\n",
      "Top 6: https://clinicaltrials.gov/ct2/show/record/NCT03556202\n",
      "Top 7: https://clinicaltrials.gov/ct2/show/record/NCT03556228\n",
      "Top 8: https://clinicaltrials.gov/ct2/show/record/NCT03556332\n",
      "Top 9: https://clinicaltrials.gov/ct2/show/record/NCT03556358\n",
      "Top 10: https://clinicaltrials.gov/ct2/show/record/NCT03556384\n",
      "******************************************************\n",
      "\n",
      "Random Choice: https://clinicaltrials.gov/ct2/show/record/NCT03395392\n",
      "\n",
      "Top 1: https://clinicaltrials.gov/ct2/show/record/NCT03402152\n",
      "Top 2: https://clinicaltrials.gov/ct2/show/record/NCT03396601\n",
      "Top 3: https://clinicaltrials.gov/ct2/show/record/NCT03627195\n",
      "Top 4: https://clinicaltrials.gov/ct2/show/record/NCT03539887\n",
      "Top 5: https://clinicaltrials.gov/ct2/show/record/NCT03567681\n",
      "Top 6: https://clinicaltrials.gov/ct2/show/record/NCT03522545\n",
      "Top 7: https://clinicaltrials.gov/ct2/show/record/NCT03434041\n",
      "Top 8: https://clinicaltrials.gov/ct2/show/record/NCT03538691\n",
      "Top 9: https://clinicaltrials.gov/ct2/show/record/NCT03557931\n",
      "Top 10: https://clinicaltrials.gov/ct2/show/record/NCT03642964\n",
      "******************************************************\n",
      "\n",
      "Random Choice: https://clinicaltrials.gov/ct2/show/record/NCT03479203\n",
      "\n",
      "Top 1: https://clinicaltrials.gov/ct2/show/record/NCT03395353\n",
      "Top 2: https://clinicaltrials.gov/ct2/show/record/NCT03555851\n",
      "Top 3: https://clinicaltrials.gov/ct2/show/record/NCT03555968\n",
      "Top 4: https://clinicaltrials.gov/ct2/show/record/NCT03556007\n",
      "Top 5: https://clinicaltrials.gov/ct2/show/record/NCT03556137\n",
      "Top 6: https://clinicaltrials.gov/ct2/show/record/NCT03556202\n",
      "Top 7: https://clinicaltrials.gov/ct2/show/record/NCT03556228\n",
      "Top 8: https://clinicaltrials.gov/ct2/show/record/NCT03556332\n",
      "Top 9: https://clinicaltrials.gov/ct2/show/record/NCT03556358\n",
      "Top 10: https://clinicaltrials.gov/ct2/show/record/NCT03556384\n",
      "******************************************************\n",
      "\n",
      "Random Choice: https://clinicaltrials.gov/ct2/show/record/NCT03644667\n",
      "\n",
      "Top 1: https://clinicaltrials.gov/ct2/show/record/NCT03584516\n",
      "Top 2: https://clinicaltrials.gov/ct2/show/record/NCT03532022\n",
      "Top 3: https://clinicaltrials.gov/ct2/show/record/NCT03596723\n",
      "Top 4: https://clinicaltrials.gov/ct2/show/record/NCT03610685\n",
      "Top 5: https://clinicaltrials.gov/ct2/show/record/NCT03661645\n",
      "Top 6: https://clinicaltrials.gov/ct2/show/record/NCT03407144\n",
      "Top 7: https://clinicaltrials.gov/ct2/show/record/NCT03529929\n",
      "Top 8: https://clinicaltrials.gov/ct2/show/record/NCT03479502\n",
      "Top 9: https://clinicaltrials.gov/ct2/show/record/NCT03578276\n",
      "Top 10: https://clinicaltrials.gov/ct2/show/record/NCT03511625\n",
      "******************************************************\n",
      "\n",
      "Random Choice: https://clinicaltrials.gov/ct2/show/record/NCT03521934\n",
      "\n",
      "Top 1: https://clinicaltrials.gov/ct2/show/record/NCT03560323\n",
      "Top 2: https://clinicaltrials.gov/ct2/show/record/NCT03492580\n",
      "Top 3: https://clinicaltrials.gov/ct2/show/record/NCT03566511\n",
      "Top 4: https://clinicaltrials.gov/ct2/show/record/NCT03540758\n",
      "Top 5: https://clinicaltrials.gov/ct2/show/record/NCT03467932\n",
      "Top 6: https://clinicaltrials.gov/ct2/show/record/NCT03660553\n",
      "Top 7: https://clinicaltrials.gov/ct2/show/record/NCT03567824\n",
      "Top 8: https://clinicaltrials.gov/ct2/show/record/NCT03670641\n",
      "Top 9: https://clinicaltrials.gov/ct2/show/record/NCT03417076\n",
      "Top 10: https://clinicaltrials.gov/ct2/show/record/NCT03617081\n",
      "******************************************************\n",
      "\n",
      "Random Choice: https://clinicaltrials.gov/ct2/show/record/NCT03572257\n",
      "\n",
      "Top 1: https://clinicaltrials.gov/ct2/show/record/NCT03489551\n",
      "Top 2: https://clinicaltrials.gov/ct2/show/record/NCT03655847\n",
      "Top 3: https://clinicaltrials.gov/ct2/show/record/NCT03557931\n",
      "Top 4: https://clinicaltrials.gov/ct2/show/record/NCT03658135\n",
      "Top 5: https://clinicaltrials.gov/ct2/show/record/NCT03560232\n",
      "Top 6: https://clinicaltrials.gov/ct2/show/record/NCT03472872\n",
      "Top 7: https://clinicaltrials.gov/ct2/show/record/NCT03513549\n",
      "Top 8: https://clinicaltrials.gov/ct2/show/record/NCT03660488\n",
      "Top 9: https://clinicaltrials.gov/ct2/show/record/NCT03393520\n",
      "Top 10: https://clinicaltrials.gov/ct2/show/record/NCT03446001\n",
      "******************************************************\n",
      "\n",
      "Random Choice: https://clinicaltrials.gov/ct2/show/record/NCT03415997\n",
      "\n",
      "Top 1: https://clinicaltrials.gov/ct2/show/record/NCT03522168\n",
      "Top 2: https://clinicaltrials.gov/ct2/show/record/NCT03552107\n",
      "Top 3: https://clinicaltrials.gov/ct2/show/record/NCT03509545\n",
      "Top 4: https://clinicaltrials.gov/ct2/show/record/NCT03411902\n",
      "Top 5: https://clinicaltrials.gov/ct2/show/record/NCT03480022\n",
      "Top 6: https://clinicaltrials.gov/ct2/show/record/NCT03620773\n",
      "Top 7: https://clinicaltrials.gov/ct2/show/record/NCT03661879\n",
      "Top 8: https://clinicaltrials.gov/ct2/show/record/NCT03479892\n",
      "Top 9: https://clinicaltrials.gov/ct2/show/record/NCT03600480\n",
      "Top 10: https://clinicaltrials.gov/ct2/show/record/NCT03574584\n",
      "******************************************************\n",
      "\n",
      "Random Choice: https://clinicaltrials.gov/ct2/show/record/NCT03665038\n",
      "\n",
      "Top 1: https://clinicaltrials.gov/ct2/show/record/NCT03460756\n",
      "Top 2: https://clinicaltrials.gov/ct2/show/record/NCT03557684\n",
      "Top 3: https://clinicaltrials.gov/ct2/show/record/NCT03433651\n",
      "Top 4: https://clinicaltrials.gov/ct2/show/record/NCT03489304\n",
      "Top 5: https://clinicaltrials.gov/ct2/show/record/NCT03573349\n",
      "Top 6: https://clinicaltrials.gov/ct2/show/record/NCT03432221\n",
      "Top 7: https://clinicaltrials.gov/ct2/show/record/NCT03543410\n",
      "Top 8: https://clinicaltrials.gov/ct2/show/record/NCT03645096\n",
      "Top 9: https://clinicaltrials.gov/ct2/show/record/NCT03505905\n",
      "Top 10: https://clinicaltrials.gov/ct2/show/record/NCT03606395\n",
      "******************************************************\n",
      "\n",
      "Random Choice: https://clinicaltrials.gov/ct2/show/record/NCT03575325\n",
      "\n",
      "Top 1: https://clinicaltrials.gov/ct2/show/record/NCT03571321\n",
      "Top 2: https://clinicaltrials.gov/ct2/show/record/NCT03488225\n",
      "Top 3: https://clinicaltrials.gov/ct2/show/record/NCT03515200\n",
      "Top 4: https://clinicaltrials.gov/ct2/show/record/NCT03629171\n",
      "Top 5: https://clinicaltrials.gov/ct2/show/record/NCT03672539\n",
      "Top 6: https://clinicaltrials.gov/ct2/show/record/NCT03512197\n",
      "Top 7: https://clinicaltrials.gov/ct2/show/record/NCT03568994\n",
      "Top 8: https://clinicaltrials.gov/ct2/show/record/NCT03518112\n",
      "Top 9: https://clinicaltrials.gov/ct2/show/record/NCT03519984\n",
      "Top 10: https://clinicaltrials.gov/ct2/show/record/NCT03573700\n",
      "******************************************************\n",
      "\n",
      "Random Choice: https://clinicaltrials.gov/ct2/show/record/NCT03540030\n",
      "\n",
      "Top 1: https://clinicaltrials.gov/ct2/show/record/NCT03570554\n",
      "Top 2: https://clinicaltrials.gov/ct2/show/record/NCT03472469\n",
      "Top 3: https://clinicaltrials.gov/ct2/show/record/NCT03576508\n",
      "Top 4: https://clinicaltrials.gov/ct2/show/record/NCT03472677\n",
      "Top 5: https://clinicaltrials.gov/ct2/show/record/NCT03534102\n",
      "Top 6: https://clinicaltrials.gov/ct2/show/record/NCT03661996\n",
      "Top 7: https://clinicaltrials.gov/ct2/show/record/NCT03653416\n",
      "Top 8: https://clinicaltrials.gov/ct2/show/record/NCT03429049\n",
      "Top 9: https://clinicaltrials.gov/ct2/show/record/NCT03528369\n",
      "Top 10: https://clinicaltrials.gov/ct2/show/record/NCT03660943\n",
      "******************************************************\n",
      "\n",
      "Random Choice: https://clinicaltrials.gov/ct2/show/record/NCT03643887\n",
      "\n",
      "Top 1: https://clinicaltrials.gov/ct2/show/record/NCT03395353\n",
      "Top 2: https://clinicaltrials.gov/ct2/show/record/NCT03555851\n",
      "Top 3: https://clinicaltrials.gov/ct2/show/record/NCT03555968\n",
      "Top 4: https://clinicaltrials.gov/ct2/show/record/NCT03556007\n",
      "Top 5: https://clinicaltrials.gov/ct2/show/record/NCT03556137\n",
      "Top 6: https://clinicaltrials.gov/ct2/show/record/NCT03556202\n",
      "Top 7: https://clinicaltrials.gov/ct2/show/record/NCT03556228\n",
      "Top 8: https://clinicaltrials.gov/ct2/show/record/NCT03556332\n",
      "Top 9: https://clinicaltrials.gov/ct2/show/record/NCT03556358\n",
      "Top 10: https://clinicaltrials.gov/ct2/show/record/NCT03556384\n",
      "******************************************************\n"
     ]
    }
   ],
   "source": [
    "\n",
    "input_matrix = np.array(aggregate_2018.todense())\n",
    "\n",
    "import random\n",
    "def randomValidation(matrix, id_lookup, year, num_ids=20, top_k=3):\n",
    "\n",
    "    # Select n random nct_ids\n",
    "    id_list = np.random.choice(matrix.shape[0], num_ids)\n",
    "    print(\"*\"*54)\n",
    "    \n",
    "    # Loop over each random ID\n",
    "    for nct_id in id_list:\n",
    "        print(\"\\nRandom Choice: https://clinicaltrials.gov/ct2/show/record/{}\\n\".format(id_lookup[year][nct_id]))\n",
    "\n",
    "        # Select the top 4 \n",
    "        top_list = np.array(matrix[nct_id,].argsort()[::-1][:top_k])\n",
    "        \n",
    "        # Loop over top 3\n",
    "        for i in range(len(top_list)):\n",
    "            print(\"Top {}: https://clinicaltrials.gov/ct2/show/record/{}\".format(i+1,id_lookup[year][top_list[i]]))\n",
    "\n",
    "        print(\"*\"*54)\n",
    "    \n",
    "randomValidation(input_matrix, years_ids_rev, 2018, num_ids=20, top_k=10)"
   ]
  },
  {
   "cell_type": "markdown",
   "metadata": {},
   "source": [
    "### In Aggregate"
   ]
  },
  {
   "cell_type": "code",
   "execution_count": 50,
   "metadata": {
    "ExecuteTime": {
     "end_time": "2018-11-19T14:04:36.514875Z",
     "start_time": "2018-11-19T14:04:36.473617Z"
    }
   },
   "outputs": [
    {
     "name": "stdout",
     "output_type": "stream",
     "text": [
      "Similarity: 3.3\n",
      "https://clinicaltrials.gov/ct2/show/record/NCT03619213\n",
      "https://clinicaltrials.gov/ct2/show/record/NCT03634969\n",
      "******************************************************\n",
      "Similarity: 3.166666666666667\n",
      "https://clinicaltrials.gov/ct2/show/record/NCT03523351\n",
      "https://clinicaltrials.gov/ct2/show/record/NCT03440437\n",
      "******************************************************\n",
      "Similarity: 1.2797704447632712\n",
      "https://clinicaltrials.gov/ct2/show/record/NCT03651505\n",
      "https://clinicaltrials.gov/ct2/show/record/NCT03510455\n",
      "******************************************************\n",
      "Similarity: 0.0\n",
      "https://clinicaltrials.gov/ct2/show/record/NCT03606746\n",
      "https://clinicaltrials.gov/ct2/show/record/NCT03662542\n",
      "******************************************************\n",
      "Similarity: 5.445863395863396\n",
      "https://clinicaltrials.gov/ct2/show/record/NCT03529110\n",
      "https://clinicaltrials.gov/ct2/show/record/NCT03523585\n",
      "******************************************************\n",
      "Similarity: 4.0\n",
      "https://clinicaltrials.gov/ct2/show/record/NCT03463031\n",
      "https://clinicaltrials.gov/ct2/show/record/NCT03664882\n",
      "******************************************************\n",
      "Similarity: 3.4\n",
      "https://clinicaltrials.gov/ct2/show/record/NCT03404596\n",
      "https://clinicaltrials.gov/ct2/show/record/NCT03651869\n",
      "******************************************************\n",
      "Similarity: 3.9375\n",
      "https://clinicaltrials.gov/ct2/show/record/NCT03511898\n",
      "https://clinicaltrials.gov/ct2/show/record/NCT03666923\n",
      "******************************************************\n",
      "Similarity: 4.543737851615505\n",
      "https://clinicaltrials.gov/ct2/show/record/NCT03617913\n",
      "https://clinicaltrials.gov/ct2/show/record/NCT03513952\n",
      "******************************************************\n",
      "Similarity: 7.312820512820513\n",
      "https://clinicaltrials.gov/ct2/show/record/NCT03489941\n",
      "https://clinicaltrials.gov/ct2/show/record/NCT03479307\n",
      "******************************************************\n"
     ]
    }
   ],
   "source": [
    "topRandomRow(aggregate_2018, 2018, 10)"
   ]
  },
  {
   "cell_type": "markdown",
   "metadata": {},
   "source": [
    "### M1 Conditions over M1 Interventions"
   ]
  },
  {
   "cell_type": "code",
   "execution_count": 51,
   "metadata": {
    "ExecuteTime": {
     "end_time": "2018-11-19T14:04:41.031860Z",
     "start_time": "2018-11-19T14:04:40.993263Z"
    }
   },
   "outputs": [
    {
     "name": "stdout",
     "output_type": "stream",
     "text": [
      "Similarity: 0.0\n",
      "https://clinicaltrials.gov/ct2/show/record/NCT03523988\n",
      "https://clinicaltrials.gov/ct2/show/record/NCT03662542\n",
      "******************************************************\n",
      "Similarity: 1.0\n",
      "https://clinicaltrials.gov/ct2/show/record/NCT03639324\n",
      "https://clinicaltrials.gov/ct2/show/record/NCT03624036\n",
      "******************************************************\n",
      "Similarity: 0.0\n",
      "https://clinicaltrials.gov/ct2/show/record/NCT03656718\n",
      "https://clinicaltrials.gov/ct2/show/record/NCT03662516\n",
      "******************************************************\n",
      "Similarity: 1.0\n",
      "https://clinicaltrials.gov/ct2/show/record/NCT03619005\n",
      "https://clinicaltrials.gov/ct2/show/record/NCT03592121\n",
      "******************************************************\n",
      "Similarity: 1.0\n",
      "https://clinicaltrials.gov/ct2/show/record/NCT03636451\n",
      "https://clinicaltrials.gov/ct2/show/record/NCT03635905\n",
      "******************************************************\n",
      "Similarity: 1.0\n",
      "https://clinicaltrials.gov/ct2/show/record/NCT03539822\n",
      "https://clinicaltrials.gov/ct2/show/record/NCT03538028\n",
      "******************************************************\n",
      "Similarity: 1.0\n",
      "https://clinicaltrials.gov/ct2/show/record/NCT03435250\n",
      "https://clinicaltrials.gov/ct2/show/record/NCT03646123\n",
      "******************************************************\n",
      "Similarity: 1.0\n",
      "https://clinicaltrials.gov/ct2/show/record/NCT03433781\n",
      "https://clinicaltrials.gov/ct2/show/record/NCT03661307\n",
      "******************************************************\n",
      "Similarity: 1.0\n",
      "https://clinicaltrials.gov/ct2/show/record/NCT03429556\n",
      "https://clinicaltrials.gov/ct2/show/record/NCT03571737\n",
      "******************************************************\n",
      "Similarity: 1.0\n",
      "https://clinicaltrials.gov/ct2/show/record/NCT03462719\n",
      "https://clinicaltrials.gov/ct2/show/record/NCT03624036\n",
      "******************************************************\n"
     ]
    }
   ],
   "source": [
    "topRandomRow(m1_conditions_2018 - m1_interventions_2018, 2018, 10)"
   ]
  },
  {
   "cell_type": "markdown",
   "metadata": {},
   "source": [
    "### M1 Interventions over M1 Conditions"
   ]
  },
  {
   "cell_type": "code",
   "execution_count": 52,
   "metadata": {
    "ExecuteTime": {
     "end_time": "2018-11-19T14:04:49.849611Z",
     "start_time": "2018-11-19T14:04:49.807335Z"
    }
   },
   "outputs": [
    {
     "name": "stdout",
     "output_type": "stream",
     "text": [
      "Similarity: 0.0\n",
      "https://clinicaltrials.gov/ct2/show/record/NCT03449069\n",
      "https://clinicaltrials.gov/ct2/show/record/NCT03662542\n",
      "******************************************************\n",
      "Similarity: 1.0\n",
      "https://clinicaltrials.gov/ct2/show/record/NCT03425006\n",
      "https://clinicaltrials.gov/ct2/show/record/NCT03658772\n",
      "******************************************************\n",
      "Similarity: 1.0\n",
      "https://clinicaltrials.gov/ct2/show/record/NCT03546829\n",
      "https://clinicaltrials.gov/ct2/show/record/NCT03571100\n",
      "******************************************************\n",
      "Similarity: 1.0\n",
      "https://clinicaltrials.gov/ct2/show/record/NCT03408574\n",
      "https://clinicaltrials.gov/ct2/show/record/NCT03651869\n",
      "******************************************************\n",
      "Similarity: 1.0\n",
      "https://clinicaltrials.gov/ct2/show/record/NCT03404804\n",
      "https://clinicaltrials.gov/ct2/show/record/NCT03660488\n",
      "******************************************************\n",
      "Similarity: 0.0\n",
      "https://clinicaltrials.gov/ct2/show/record/NCT03652259\n",
      "https://clinicaltrials.gov/ct2/show/record/NCT03662542\n",
      "******************************************************\n",
      "Similarity: 1.0\n",
      "https://clinicaltrials.gov/ct2/show/record/NCT03637790\n",
      "https://clinicaltrials.gov/ct2/show/record/NCT03624959\n",
      "******************************************************\n",
      "Similarity: 0.0\n",
      "https://clinicaltrials.gov/ct2/show/record/NCT03642093\n",
      "https://clinicaltrials.gov/ct2/show/record/NCT03662542\n",
      "******************************************************\n",
      "Similarity: 1.0\n",
      "https://clinicaltrials.gov/ct2/show/record/NCT03650738\n",
      "https://clinicaltrials.gov/ct2/show/record/NCT03631199\n",
      "******************************************************\n",
      "Similarity: 0.0\n",
      "https://clinicaltrials.gov/ct2/show/record/NCT03591094\n",
      "https://clinicaltrials.gov/ct2/show/record/NCT03662542\n",
      "******************************************************\n"
     ]
    }
   ],
   "source": [
    "topRandomRow(m1_interventions_2018 - m1_conditions_2018, 2018, 10)"
   ]
  },
  {
   "cell_type": "markdown",
   "metadata": {},
   "source": [
    "### M2 Conditions over M1 Conditions"
   ]
  },
  {
   "cell_type": "code",
   "execution_count": 53,
   "metadata": {
    "ExecuteTime": {
     "end_time": "2018-11-19T14:04:52.374905Z",
     "start_time": "2018-11-19T14:04:52.305039Z"
    }
   },
   "outputs": [
    {
     "name": "stdout",
     "output_type": "stream",
     "text": [
      "Similarity: 1.0\n",
      "https://clinicaltrials.gov/ct2/show/record/NCT03674047\n",
      "https://clinicaltrials.gov/ct2/show/record/NCT03629249\n",
      "******************************************************\n",
      "Similarity: 1.0\n",
      "https://clinicaltrials.gov/ct2/show/record/NCT03521154\n",
      "https://clinicaltrials.gov/ct2/show/record/NCT03602079\n",
      "******************************************************\n",
      "Similarity: 1.0\n",
      "https://clinicaltrials.gov/ct2/show/record/NCT03433755\n",
      "https://clinicaltrials.gov/ct2/show/record/NCT03471143\n",
      "******************************************************\n",
      "Similarity: 0.5789473684210527\n",
      "https://clinicaltrials.gov/ct2/show/record/NCT03661320\n",
      "https://clinicaltrials.gov/ct2/show/record/NCT03538028\n",
      "******************************************************\n",
      "Similarity: 1.0\n",
      "https://clinicaltrials.gov/ct2/show/record/NCT03517085\n",
      "https://clinicaltrials.gov/ct2/show/record/NCT03471143\n",
      "******************************************************\n",
      "Similarity: 0.44559585492227977\n",
      "https://clinicaltrials.gov/ct2/show/record/NCT03600441\n",
      "https://clinicaltrials.gov/ct2/show/record/NCT03538028\n",
      "******************************************************\n",
      "Similarity: 0.6666666666666667\n",
      "https://clinicaltrials.gov/ct2/show/record/NCT03393520\n",
      "https://clinicaltrials.gov/ct2/show/record/NCT03658135\n",
      "******************************************************\n",
      "Similarity: 1.0\n",
      "https://clinicaltrials.gov/ct2/show/record/NCT03474263\n",
      "https://clinicaltrials.gov/ct2/show/record/NCT03658135\n",
      "******************************************************\n",
      "Similarity: 1.0\n",
      "https://clinicaltrials.gov/ct2/show/record/NCT03642028\n",
      "https://clinicaltrials.gov/ct2/show/record/NCT03658135\n",
      "******************************************************\n",
      "Similarity: 0.65\n",
      "https://clinicaltrials.gov/ct2/show/record/NCT03518086\n",
      "https://clinicaltrials.gov/ct2/show/record/NCT03602079\n",
      "******************************************************\n"
     ]
    }
   ],
   "source": [
    "topRandomRow(m2_conditions_2018 - m1_conditions_2018, 2018, 10)"
   ]
  },
  {
   "cell_type": "markdown",
   "metadata": {},
   "source": [
    "### M3 Conditions"
   ]
  },
  {
   "cell_type": "code",
   "execution_count": 88,
   "metadata": {
    "ExecuteTime": {
     "end_time": "2018-11-19T16:07:08.707339Z",
     "start_time": "2018-11-19T16:07:08.676302Z"
    }
   },
   "outputs": [
    {
     "name": "stdout",
     "output_type": "stream",
     "text": [
      "Similarity: 0.9090909090909091\n",
      "https://clinicaltrials.gov/ct2/show/record/NCT03612466\n",
      "https://clinicaltrials.gov/ct2/show/record/NCT03506802\n",
      "******************************************************\n",
      "Similarity: 0.0\n",
      "https://clinicaltrials.gov/ct2/show/record/NCT03653741\n",
      "https://clinicaltrials.gov/ct2/show/record/NCT03662542\n",
      "******************************************************\n",
      "Similarity: 0.875\n",
      "https://clinicaltrials.gov/ct2/show/record/NCT03515772\n",
      "https://clinicaltrials.gov/ct2/show/record/NCT03510884\n",
      "******************************************************\n",
      "Similarity: 0.5\n",
      "https://clinicaltrials.gov/ct2/show/record/NCT03464864\n",
      "https://clinicaltrials.gov/ct2/show/record/NCT03496623\n",
      "******************************************************\n",
      "Similarity: 0.9090909090909091\n",
      "https://clinicaltrials.gov/ct2/show/record/NCT03581734\n",
      "https://clinicaltrials.gov/ct2/show/record/NCT03606967\n",
      "******************************************************\n",
      "Similarity: 0.8333333333333334\n",
      "https://clinicaltrials.gov/ct2/show/record/NCT03601897\n",
      "https://clinicaltrials.gov/ct2/show/record/NCT03498521\n",
      "******************************************************\n",
      "Similarity: 0.0\n",
      "https://clinicaltrials.gov/ct2/show/record/NCT03508947\n",
      "https://clinicaltrials.gov/ct2/show/record/NCT03662542\n",
      "******************************************************\n",
      "Similarity: 0.625\n",
      "https://clinicaltrials.gov/ct2/show/record/NCT03656783\n",
      "https://clinicaltrials.gov/ct2/show/record/NCT03549312\n",
      "******************************************************\n",
      "Similarity: 0.75\n",
      "https://clinicaltrials.gov/ct2/show/record/NCT03542695\n",
      "https://clinicaltrials.gov/ct2/show/record/NCT03396315\n",
      "******************************************************\n",
      "Similarity: 0.75\n",
      "https://clinicaltrials.gov/ct2/show/record/NCT03574649\n",
      "https://clinicaltrials.gov/ct2/show/record/NCT03563157\n",
      "******************************************************\n"
     ]
    }
   ],
   "source": [
    "topRandomRow(m1_interventions_2018-m3_interventions_2018, 2018, 10)"
   ]
  },
  {
   "cell_type": "markdown",
   "metadata": {},
   "source": [
    "### M4 Conditions"
   ]
  },
  {
   "cell_type": "code",
   "execution_count": 69,
   "metadata": {
    "ExecuteTime": {
     "end_time": "2018-11-19T14:14:28.257809Z",
     "start_time": "2018-11-19T14:14:28.223439Z"
    }
   },
   "outputs": [
    {
     "name": "stdout",
     "output_type": "stream",
     "text": [
      "Similarity: 1.0\n",
      "https://clinicaltrials.gov/ct2/show/record/NCT03664544\n",
      "https://clinicaltrials.gov/ct2/show/record/NCT03660241\n",
      "******************************************************\n",
      "Similarity: 1.0\n",
      "https://clinicaltrials.gov/ct2/show/record/NCT03537274\n",
      "https://clinicaltrials.gov/ct2/show/record/NCT03487848\n",
      "******************************************************\n",
      "Similarity: 1.0\n",
      "https://clinicaltrials.gov/ct2/show/record/NCT03543189\n",
      "https://clinicaltrials.gov/ct2/show/record/NCT03641560\n",
      "******************************************************\n",
      "Similarity: 1.0\n",
      "https://clinicaltrials.gov/ct2/show/record/NCT03514017\n",
      "https://clinicaltrials.gov/ct2/show/record/NCT03624036\n",
      "******************************************************\n",
      "Similarity: 1.0\n",
      "https://clinicaltrials.gov/ct2/show/record/NCT03485222\n",
      "https://clinicaltrials.gov/ct2/show/record/NCT03626662\n",
      "******************************************************\n",
      "Similarity: 1.0\n",
      "https://clinicaltrials.gov/ct2/show/record/NCT03648372\n",
      "https://clinicaltrials.gov/ct2/show/record/NCT03581942\n",
      "******************************************************\n",
      "Similarity: 1.0\n",
      "https://clinicaltrials.gov/ct2/show/record/NCT03444038\n",
      "https://clinicaltrials.gov/ct2/show/record/NCT03651726\n",
      "******************************************************\n",
      "Similarity: 0.875\n",
      "https://clinicaltrials.gov/ct2/show/record/NCT03582124\n",
      "https://clinicaltrials.gov/ct2/show/record/NCT03598309\n",
      "******************************************************\n",
      "Similarity: 1.0\n",
      "https://clinicaltrials.gov/ct2/show/record/NCT03456804\n",
      "https://clinicaltrials.gov/ct2/show/record/NCT03581500\n",
      "******************************************************\n",
      "Similarity: 0.0\n",
      "https://clinicaltrials.gov/ct2/show/record/NCT03668847\n",
      "https://clinicaltrials.gov/ct2/show/record/NCT03662542\n",
      "******************************************************\n"
     ]
    }
   ],
   "source": [
    "topRandomRow(m4_conditions_2018, 2018, 10)"
   ]
  },
  {
   "cell_type": "markdown",
   "metadata": {},
   "source": [
    "### M3 Interventions"
   ]
  },
  {
   "cell_type": "code",
   "execution_count": 70,
   "metadata": {
    "ExecuteTime": {
     "end_time": "2018-11-19T14:17:20.740900Z",
     "start_time": "2018-11-19T14:17:20.703415Z"
    }
   },
   "outputs": [
    {
     "name": "stdout",
     "output_type": "stream",
     "text": [
      "Similarity: 0.2727272727272727\n",
      "https://clinicaltrials.gov/ct2/show/record/NCT03619785\n",
      "https://clinicaltrials.gov/ct2/show/record/NCT03584152\n",
      "******************************************************\n",
      "Similarity: 0.0\n",
      "https://clinicaltrials.gov/ct2/show/record/NCT03630770\n",
      "https://clinicaltrials.gov/ct2/show/record/NCT03662542\n",
      "******************************************************\n",
      "Similarity: 1.0\n",
      "https://clinicaltrials.gov/ct2/show/record/NCT03604419\n",
      "https://clinicaltrials.gov/ct2/show/record/NCT03655301\n",
      "******************************************************\n",
      "Similarity: 0.0\n",
      "https://clinicaltrials.gov/ct2/show/record/NCT03673020\n",
      "https://clinicaltrials.gov/ct2/show/record/NCT03662542\n",
      "******************************************************\n",
      "Similarity: 0.0\n",
      "https://clinicaltrials.gov/ct2/show/record/NCT03630627\n",
      "https://clinicaltrials.gov/ct2/show/record/NCT03662542\n",
      "******************************************************\n",
      "Similarity: 0.0\n",
      "https://clinicaltrials.gov/ct2/show/record/NCT03404817\n",
      "https://clinicaltrials.gov/ct2/show/record/NCT03662542\n",
      "******************************************************\n",
      "Similarity: 0.6\n",
      "https://clinicaltrials.gov/ct2/show/record/NCT03633331\n",
      "https://clinicaltrials.gov/ct2/show/record/NCT03531645\n",
      "******************************************************\n",
      "Similarity: 0.5\n",
      "https://clinicaltrials.gov/ct2/show/record/NCT03529149\n",
      "https://clinicaltrials.gov/ct2/show/record/NCT03472495\n",
      "******************************************************\n",
      "Similarity: 0.5\n",
      "https://clinicaltrials.gov/ct2/show/record/NCT03576612\n",
      "https://clinicaltrials.gov/ct2/show/record/NCT03425292\n",
      "******************************************************\n",
      "Similarity: 1.0\n",
      "https://clinicaltrials.gov/ct2/show/record/NCT03675022\n",
      "https://clinicaltrials.gov/ct2/show/record/NCT03662542\n",
      "******************************************************\n"
     ]
    }
   ],
   "source": [
    "topRandomRow(m3_interventions_2018, 2018, 10)"
   ]
  },
  {
   "cell_type": "markdown",
   "metadata": {},
   "source": [
    "### M4 Interventions"
   ]
  },
  {
   "cell_type": "code",
   "execution_count": 71,
   "metadata": {
    "ExecuteTime": {
     "end_time": "2018-11-19T14:17:25.436639Z",
     "start_time": "2018-11-19T14:17:25.407831Z"
    }
   },
   "outputs": [
    {
     "name": "stdout",
     "output_type": "stream",
     "text": [
      "Similarity: 1.0\n",
      "https://clinicaltrials.gov/ct2/show/record/NCT03644095\n",
      "https://clinicaltrials.gov/ct2/show/record/NCT03649750\n",
      "******************************************************\n",
      "Similarity: 1.0\n",
      "https://clinicaltrials.gov/ct2/show/record/NCT03559010\n",
      "https://clinicaltrials.gov/ct2/show/record/NCT03585712\n",
      "******************************************************\n",
      "Similarity: 1.0\n",
      "https://clinicaltrials.gov/ct2/show/record/NCT03425097\n",
      "https://clinicaltrials.gov/ct2/show/record/NCT03664882\n",
      "******************************************************\n",
      "Similarity: 0.0\n",
      "https://clinicaltrials.gov/ct2/show/record/NCT03602079\n",
      "https://clinicaltrials.gov/ct2/show/record/NCT03662542\n",
      "******************************************************\n",
      "Similarity: 0.0\n",
      "https://clinicaltrials.gov/ct2/show/record/NCT03441113\n",
      "https://clinicaltrials.gov/ct2/show/record/NCT03662542\n",
      "******************************************************\n",
      "Similarity: 0.0\n",
      "https://clinicaltrials.gov/ct2/show/record/NCT03526926\n",
      "https://clinicaltrials.gov/ct2/show/record/NCT03662542\n",
      "******************************************************\n",
      "Similarity: 0.7037037037037037\n",
      "https://clinicaltrials.gov/ct2/show/record/NCT03535298\n",
      "https://clinicaltrials.gov/ct2/show/record/NCT03399981\n",
      "******************************************************\n",
      "Similarity: 0.0\n",
      "https://clinicaltrials.gov/ct2/show/record/NCT03431610\n",
      "https://clinicaltrials.gov/ct2/show/record/NCT03662542\n",
      "******************************************************\n",
      "Similarity: 0.6666666666666666\n",
      "https://clinicaltrials.gov/ct2/show/record/NCT03487549\n",
      "https://clinicaltrials.gov/ct2/show/record/NCT03591874\n",
      "******************************************************\n",
      "Similarity: 0.5833333333333334\n",
      "https://clinicaltrials.gov/ct2/show/record/NCT03511625\n",
      "https://clinicaltrials.gov/ct2/show/record/NCT03656692\n",
      "******************************************************\n"
     ]
    }
   ],
   "source": [
    "topRandomRow(m4_interventions_2018, 2018, 10)"
   ]
  },
  {
   "cell_type": "code",
   "execution_count": 41,
   "metadata": {
    "ExecuteTime": {
     "end_time": "2018-11-19T14:00:08.366299Z",
     "start_time": "2018-11-19T14:00:05.553971Z"
    }
   },
   "outputs": [],
   "source": [
    "jaccard_prep = sim_jaccard_prep(browse_conditions, year_ids, 2018)"
   ]
  },
  {
   "cell_type": "code",
   "execution_count": 42,
   "metadata": {
    "ExecuteTime": {
     "end_time": "2018-11-19T14:00:10.936367Z",
     "start_time": "2018-11-19T14:00:10.922825Z"
    }
   },
   "outputs": [
    {
     "data": {
      "text/html": [
       "<div>\n",
       "<style>\n",
       "    .dataframe thead tr:only-child th {\n",
       "        text-align: right;\n",
       "    }\n",
       "\n",
       "    .dataframe thead th {\n",
       "        text-align: left;\n",
       "    }\n",
       "\n",
       "    .dataframe tbody tr th {\n",
       "        vertical-align: top;\n",
       "    }\n",
       "</style>\n",
       "<table border=\"1\" class=\"dataframe\">\n",
       "  <thead>\n",
       "    <tr style=\"text-align: right;\">\n",
       "      <th></th>\n",
       "      <th>nct_id_x</th>\n",
       "      <th>downcase_mesh_term_x</th>\n",
       "      <th>key</th>\n",
       "      <th>nct_id_y</th>\n",
       "      <th>downcase_mesh_term_y</th>\n",
       "    </tr>\n",
       "  </thead>\n",
       "  <tbody>\n",
       "    <tr>\n",
       "      <th>0</th>\n",
       "      <td>NCT03391765</td>\n",
       "      <td>{supranuclear palsy, progressive}</td>\n",
       "      <td>1</td>\n",
       "      <td>NCT03413319</td>\n",
       "      <td>{supranuclear palsy, progressive}</td>\n",
       "    </tr>\n",
       "    <tr>\n",
       "      <th>1</th>\n",
       "      <td>NCT03391765</td>\n",
       "      <td>{supranuclear palsy, progressive}</td>\n",
       "      <td>1</td>\n",
       "      <td>NCT03446807</td>\n",
       "      <td>{fatigue, parkinson disease, shy-drager syndro...</td>\n",
       "    </tr>\n",
       "    <tr>\n",
       "      <th>2</th>\n",
       "      <td>NCT03391765</td>\n",
       "      <td>{supranuclear palsy, progressive}</td>\n",
       "      <td>1</td>\n",
       "      <td>NCT03545789</td>\n",
       "      <td>{alzheimer disease, supranuclear palsy, progre...</td>\n",
       "    </tr>\n",
       "    <tr>\n",
       "      <th>3</th>\n",
       "      <td>NCT03391869</td>\n",
       "      <td>{lung neoplasms, carcinoma, non-small-cell lun...</td>\n",
       "      <td>1</td>\n",
       "      <td>NCT03392064</td>\n",
       "      <td>{lung neoplasms, small cell lung carcinoma}</td>\n",
       "    </tr>\n",
       "    <tr>\n",
       "      <th>4</th>\n",
       "      <td>NCT03391869</td>\n",
       "      <td>{lung neoplasms, carcinoma, non-small-cell lun...</td>\n",
       "      <td>1</td>\n",
       "      <td>NCT03392246</td>\n",
       "      <td>{lung neoplasms, carcinoma, non-small-cell lung}</td>\n",
       "    </tr>\n",
       "  </tbody>\n",
       "</table>\n",
       "</div>"
      ],
      "text/plain": [
       "      nct_id_x                               downcase_mesh_term_x  key  \\\n",
       "0  NCT03391765                  {supranuclear palsy, progressive}    1   \n",
       "1  NCT03391765                  {supranuclear palsy, progressive}    1   \n",
       "2  NCT03391765                  {supranuclear palsy, progressive}    1   \n",
       "3  NCT03391869  {lung neoplasms, carcinoma, non-small-cell lun...    1   \n",
       "4  NCT03391869  {lung neoplasms, carcinoma, non-small-cell lun...    1   \n",
       "\n",
       "      nct_id_y                               downcase_mesh_term_y  \n",
       "0  NCT03413319                  {supranuclear palsy, progressive}  \n",
       "1  NCT03446807  {fatigue, parkinson disease, shy-drager syndro...  \n",
       "2  NCT03545789  {alzheimer disease, supranuclear palsy, progre...  \n",
       "3  NCT03392064        {lung neoplasms, small cell lung carcinoma}  \n",
       "4  NCT03392246   {lung neoplasms, carcinoma, non-small-cell lung}  "
      ]
     },
     "execution_count": 42,
     "metadata": {},
     "output_type": "execute_result"
    }
   ],
   "source": [
    "# jaccard_prep[jaccard_prep.nct_id=='NCT03662542'].head()\n",
    "jaccard_prep.head()"
   ]
  },
  {
   "cell_type": "code",
   "execution_count": 124,
   "metadata": {
    "ExecuteTime": {
     "end_time": "2018-11-19T16:41:09.924753Z",
     "start_time": "2018-11-19T16:41:09.885999Z"
    }
   },
   "outputs": [
    {
     "name": "stdout",
     "output_type": "stream",
     "text": [
      "{'prostatic neoplasms', 'carcinoma', 'adenocarcinoma'}\n",
      "{'prostatic neoplasms', 'adenocarcinoma'}\n"
     ]
    }
   ],
   "source": [
    "index1 = jaccard_prep.nct_id_x=='NCT03456804'\n",
    "index2 = jaccard_prep.nct_id_y=='NCT03581500'\n",
    "\n",
    "print(jaccard_prep[index1 & index2]['downcase_mesh_term_x'].values[0])\n",
    "print(jaccard_prep[index1 & index2]['downcase_mesh_term_y'].values[0])"
   ]
  },
  {
   "cell_type": "markdown",
   "metadata": {},
   "source": [
    "## Find Model Weights from Manual Validation"
   ]
  },
  {
   "cell_type": "markdown",
   "metadata": {},
   "source": [
    "### Import validation scores"
   ]
  },
  {
   "cell_type": "code",
   "execution_count": 104,
   "metadata": {
    "ExecuteTime": {
     "end_time": "2018-11-19T16:35:10.855308Z",
     "start_time": "2018-11-19T16:35:10.844764Z"
    }
   },
   "outputs": [],
   "source": [
    "# Import manual validation\n",
    "manual_validation = pd.read_csv(\"manual validation - 2018 (ba).csv\", header=None)\n",
    "manual_validation_rev = manual_validation.copy()"
   ]
  },
  {
   "cell_type": "code",
   "execution_count": 105,
   "metadata": {
    "ExecuteTime": {
     "end_time": "2018-11-19T16:35:30.312668Z",
     "start_time": "2018-11-19T16:35:30.309110Z"
    }
   },
   "outputs": [],
   "source": [
    "manual_validation.columns = ['nct_id_x', 'nct_id_y', 'sim']\n",
    "manual_validation_rev.columns = ['nct_id_y', 'nct_id_x', 'sim']"
   ]
  },
  {
   "cell_type": "code",
   "execution_count": 126,
   "metadata": {
    "ExecuteTime": {
     "end_time": "2018-11-19T16:45:18.819396Z",
     "start_time": "2018-11-19T16:45:18.806263Z"
    }
   },
   "outputs": [
    {
     "data": {
      "text/html": [
       "<div>\n",
       "<style>\n",
       "    .dataframe thead tr:only-child th {\n",
       "        text-align: right;\n",
       "    }\n",
       "\n",
       "    .dataframe thead th {\n",
       "        text-align: left;\n",
       "    }\n",
       "\n",
       "    .dataframe tbody tr th {\n",
       "        vertical-align: top;\n",
       "    }\n",
       "</style>\n",
       "<table border=\"1\" class=\"dataframe\">\n",
       "  <thead>\n",
       "    <tr style=\"text-align: right;\">\n",
       "      <th></th>\n",
       "      <th>nct_id_x</th>\n",
       "      <th>nct_id_y</th>\n",
       "      <th>sim</th>\n",
       "    </tr>\n",
       "  </thead>\n",
       "  <tbody>\n",
       "    <tr>\n",
       "      <th>0</th>\n",
       "      <td>NCT03396276</td>\n",
       "      <td>NCT03662542</td>\n",
       "      <td>0.2</td>\n",
       "    </tr>\n",
       "    <tr>\n",
       "      <th>1</th>\n",
       "      <td>NCT03396315</td>\n",
       "      <td>NCT03542695</td>\n",
       "      <td>0.4</td>\n",
       "    </tr>\n",
       "    <tr>\n",
       "      <th>2</th>\n",
       "      <td>NCT03399981</td>\n",
       "      <td>NCT03535298</td>\n",
       "      <td>0.2</td>\n",
       "    </tr>\n",
       "    <tr>\n",
       "      <th>3</th>\n",
       "      <td>NCT03399981</td>\n",
       "      <td>NCT03662542</td>\n",
       "      <td>0.0</td>\n",
       "    </tr>\n",
       "    <tr>\n",
       "      <th>4</th>\n",
       "      <td>NCT03411122</td>\n",
       "      <td>NCT03662542</td>\n",
       "      <td>0.0</td>\n",
       "    </tr>\n",
       "  </tbody>\n",
       "</table>\n",
       "</div>"
      ],
      "text/plain": [
       "      nct_id_x     nct_id_y  sim\n",
       "0  NCT03396276  NCT03662542  0.2\n",
       "1  NCT03396315  NCT03542695  0.4\n",
       "2  NCT03399981  NCT03535298  0.2\n",
       "3  NCT03399981  NCT03662542  0.0\n",
       "4  NCT03411122  NCT03662542  0.0"
      ]
     },
     "execution_count": 126,
     "metadata": {},
     "output_type": "execute_result"
    }
   ],
   "source": [
    "# Stack reverse to get symmetric similarity scores\n",
    "manual_validation_concat = pd.concat([manual_validation,manual_validation_rev])\n",
    "manual_validation_avg = pd.DataFrame(manual_validation_concat.groupby(['nct_id_x','nct_id_y'])['sim'].mean()).reset_index()\n",
    "manual_validation_avg.head()"
   ]
  },
  {
   "cell_type": "markdown",
   "metadata": {},
   "source": [
    "### Generate validation matrices"
   ]
  },
  {
   "cell_type": "code",
   "execution_count": 224,
   "metadata": {
    "ExecuteTime": {
     "end_time": "2018-11-19T17:23:32.414310Z",
     "start_time": "2018-11-19T17:23:32.403791Z"
    }
   },
   "outputs": [],
   "source": [
    "def manualValidationMatrix(labels, index):\n",
    "    shape = (len(index),len(index))\n",
    "    validationMatrix = -np.ones(shape)\n",
    "    \n",
    "    for _, row in labels.iterrows():\n",
    "        try:\n",
    "            validationMatrix[index[row['nct_id_x']]][index[row['nct_id_y']]] = row['sim']\n",
    "        except:\n",
    "            None\n",
    "            \n",
    "    return validationMatrix"
   ]
  },
  {
   "cell_type": "code",
   "execution_count": 225,
   "metadata": {
    "ExecuteTime": {
     "end_time": "2018-11-19T17:23:33.544984Z",
     "start_time": "2018-11-19T17:23:33.298199Z"
    }
   },
   "outputs": [],
   "source": [
    "validationMatrix_2014 = manualValidationMatrix(manual_validation_avg, year_ids[2014])\n",
    "validationMatrix_2015 = manualValidationMatrix(manual_validation_avg, year_ids[2015])\n",
    "validationMatrix_2016 = manualValidationMatrix(manual_validation_avg, year_ids[2016])\n",
    "validationMatrix_2017 = manualValidationMatrix(manual_validation_avg, year_ids[2017])\n",
    "validationMatrix_2018 = manualValidationMatrix(manual_validation_avg, year_ids[2018])"
   ]
  },
  {
   "cell_type": "markdown",
   "metadata": {},
   "source": [
    "### Stack and ravel validation matrices"
   ]
  },
  {
   "cell_type": "code",
   "execution_count": 231,
   "metadata": {
    "ExecuteTime": {
     "end_time": "2018-11-19T17:33:53.863634Z",
     "start_time": "2018-11-19T17:33:53.528678Z"
    }
   },
   "outputs": [
    {
     "data": {
      "text/plain": [
       "array([0. , 0. , 0.2, 0. , 0. , 0. , 0.2, 0. , 0. , 0. , 0.8, 0.4, 0.2,\n",
       "       0.4, 0.4, 0. , 0.4, 0.4, 0.6, 0.8, 0.8, 0.8, 0.8, 0.8, 1. , 0.2,\n",
       "       0.6, 1. , 1. , 0. , 1. , 0.4, 0. , 0.8, 0. , 0.6, 0.2, 0.4, 0.6,\n",
       "       0.4, 0.4, 0.2, 0.2, 0.6, 0. , 0. , 0.2, 1. , 0. , 1. , 0.4, 0.8,\n",
       "       0.4, 0.6, 1. , 0.8, 0.6, 0.8, 0.6, 1. , 1. , 0. , 0.2, 1. , 0.4,\n",
       "       0.8, 0. , 0.8, 0.8, 1. , 0. , 0.6, 0.2, 0.4, 0.2, 1. , 1. , 0.2,\n",
       "       0.6, 1. , 0.4, 0.6, 0.4, 1. , 1. , 0.4, 0.8, 0.6, 0.4, 0.8, 0.4,\n",
       "       0. , 0.6, 0.6, 0. , 0. , 0.6, 0.2, 0.4, 0.6, 0. , 0.2, 0.4, 0.2,\n",
       "       0.8, 0. , 0.8, 0.6, 0. , 0. , 0.2, 0. , 0.2, 0.6, 0. , 0.2, 0.6,\n",
       "       0.8, 0.8, 0. , 0. , 0.6, 0. , 0.8])"
      ]
     },
     "execution_count": 231,
     "metadata": {},
     "output_type": "execute_result"
    }
   ],
   "source": [
    "validationMatrix_ravel = np.hstack([np.ravel(validationMatrix_2014),\n",
    "                                    np.ravel(validationMatrix_2015),\n",
    "                                    np.ravel(validationMatrix_2016),\n",
    "                                    np.ravel(validationMatrix_2017),\n",
    "                                    np.ravel(validationMatrix_2018)])\n",
    "\n",
    "validated_indices = np.where(validationMatrix_ravel > -1)\n",
    "validationMatrix_ravel[validated_indices]"
   ]
  },
  {
   "cell_type": "code",
   "execution_count": 246,
   "metadata": {
    "ExecuteTime": {
     "end_time": "2018-11-19T17:41:22.792435Z",
     "start_time": "2018-11-19T17:41:17.503087Z"
    }
   },
   "outputs": [],
   "source": [
    "def modelCovariatePrep(model, index_list):\n",
    "    for year in range(2014,2019):\n",
    "        if year == 2014:\n",
    "            model_ravel = np.ravel(eval(model+str(year)).todense())\n",
    "        else:\n",
    "            model_ravel = np.hstack([model_ravel,np.ravel(eval(model+str(year)).todense())])\n",
    "\n",
    "    return model_ravel, model_ravel[index_list]\n",
    "\n",
    "\n",
    "\n",
    "pred_m1_conditions,    X_m1_conditions    = modelCovariatePrep('m1_conditions_',validated_indices)\n",
    "pred_m1_interventions, X_m1_interventions = modelCovariatePrep('m1_interventions_',validated_indices)\n",
    "pred_m2_conditions,    X_m2_conditions    = modelCovariatePrep('m2_conditions_',validated_indices)\n",
    "pred_m2_interventions, X_m2_interventions = modelCovariatePrep('m2_interventions_',validated_indices)\n",
    "pred_m3_conditions,    X_m3_conditions    = modelCovariatePrep('m3_conditions_',validated_indices)\n",
    "pred_m3_interventions, X_m3_interventions = modelCovariatePrep('m3_interventions_',validated_indices)\n",
    "pred_m4_conditions,    X_m4_conditions    = modelCovariatePrep('m4_conditions_',validated_indices)\n",
    "pred_m4_interventions, X_m4_interventions = modelCovariatePrep('m4_interventions_',validated_indices)"
   ]
  },
  {
   "cell_type": "markdown",
   "metadata": {},
   "source": [
    "### Fit regression"
   ]
  },
  {
   "cell_type": "code",
   "execution_count": 258,
   "metadata": {
    "ExecuteTime": {
     "end_time": "2018-11-19T17:57:13.201737Z",
     "start_time": "2018-11-19T17:57:13.190224Z"
    }
   },
   "outputs": [
    {
     "data": {
      "text/plain": [
       "(124, 8)"
      ]
     },
     "execution_count": 258,
     "metadata": {},
     "output_type": "execute_result"
    }
   ],
   "source": [
    "from sklearn.linear_model import LinearRegression\n",
    "\n",
    "X = np.vstack([X_m1_conditions,\n",
    "               X_m1_interventions,\n",
    "               X_m2_conditions,\n",
    "               X_m2_interventions,\n",
    "               X_m3_conditions,\n",
    "               X_m3_interventions,\n",
    "               X_m4_conditions,\n",
    "               X_m4_interventions\n",
    "              ]).T\n",
    "\n",
    "y = validationMatrix_ravel[validated_indices]\n",
    "\n",
    "reg = LinearRegression(fit_intercept=False)\n",
    "reg.fit(X, y)"
   ]
  },
  {
   "cell_type": "markdown",
   "metadata": {},
   "source": [
    "### Finalize similarity matrices"
   ]
  },
  {
   "cell_type": "code",
   "execution_count": 277,
   "metadata": {
    "ExecuteTime": {
     "end_time": "2018-11-19T18:38:41.028068Z",
     "start_time": "2018-11-19T18:38:36.450228Z"
    }
   },
   "outputs": [],
   "source": [
    "X_pred = np.vstack([pred_m1_conditions,\n",
    "                    pred_m1_interventions,\n",
    "                    pred_m2_conditions,\n",
    "                    pred_m2_interventions,\n",
    "                    pred_m3_conditions,\n",
    "                    pred_m3_interventions,\n",
    "                    pred_m4_conditions,\n",
    "                    pred_m4_interventions\n",
    "                  ]).T"
   ]
  },
  {
   "cell_type": "code",
   "execution_count": 276,
   "metadata": {
    "ExecuteTime": {
     "end_time": "2018-11-19T18:37:41.124534Z",
     "start_time": "2018-11-19T18:37:40.244947Z"
    }
   },
   "outputs": [],
   "source": [
    "def makePredictions(reg, X, index):\n",
    "    y_pred = reg.predict(X)\n",
    "    \n",
    "    # Find position in ravelled y_pred where each years matrix starts\n",
    "    indices_2014 = [0,len(index[2014])**2]\n",
    "    indices_2015 = [indices_2014[1], indices_2014[1] + len(index[2015])**2]\n",
    "    indices_2016 = [indices_2015[1], indices_2015[1] + len(index[2016])**2]\n",
    "    indices_2017 = [indices_2016[1], indices_2016[1] + len(index[2017])**2]\n",
    "    indices_2018 = [indices_2017[1], indices_2017[1] + len(index[2018])**2]\n",
    "    \n",
    "    # Extract year portion of ravelled y_pred. Reshape and clip to [0,1]\n",
    "    y_pred_2014 = np.clip(np.reshape(y_pred[indices_2014[0]:indices_2014[1]],(len(index[2014]),len(index[2014]))),0,1)\n",
    "    y_pred_2015 = np.clip(np.reshape(y_pred[indices_2015[0]:indices_2015[1]],(len(index[2015]),len(index[2015]))),0,1)\n",
    "    y_pred_2016 = np.clip(np.reshape(y_pred[indices_2016[0]:indices_2016[1]],(len(index[2016]),len(index[2016]))),0,1)\n",
    "    y_pred_2017 = np.clip(np.reshape(y_pred[indices_2017[0]:indices_2017[1]],(len(index[2017]),len(index[2017]))),0,1)\n",
    "    y_pred_2018 = np.clip(np.reshape(y_pred[indices_2018[0]:indices_2018[1]],(len(index[2018]),len(index[2018]))),0,1)\n",
    "    \n",
    "    return y_pred_2014, y_pred_2015, y_pred_2016, y_pred_2017, y_pred_2018\n",
    "\n",
    "sim_2014, sim_2015, sim_2016, sim_2017, sim_2018 = makePredictions(reg, scaler, X_pred, year_ids)"
   ]
  },
  {
   "cell_type": "code",
   "execution_count": null,
   "metadata": {},
   "outputs": [],
   "source": []
  }
 ],
 "metadata": {
  "kernelspec": {
   "display_name": "Python 3",
   "language": "python",
   "name": "python3"
  },
  "language_info": {
   "codemirror_mode": {
    "name": "ipython",
    "version": 3
   },
   "file_extension": ".py",
   "mimetype": "text/x-python",
   "name": "python",
   "nbconvert_exporter": "python",
   "pygments_lexer": "ipython3",
   "version": "3.6.0"
  },
  "latex_envs": {
   "LaTeX_envs_menu_present": true,
   "autoclose": false,
   "autocomplete": true,
   "bibliofile": "biblio.bib",
   "cite_by": "apalike",
   "current_citInitial": 1,
   "eqLabelWithNumbers": true,
   "eqNumInitial": 1,
   "hotkeys": {
    "equation": "Ctrl-E",
    "itemize": "Ctrl-I"
   },
   "labels_anchors": false,
   "latex_user_defs": false,
   "report_style_numbering": false,
   "user_envs_cfg": false
  },
  "toc": {
   "base_numbering": 1,
   "nav_menu": {},
   "number_sections": true,
   "sideBar": true,
   "skip_h1_title": false,
   "title_cell": "Table of Contents",
   "title_sidebar": "Contents",
   "toc_cell": true,
   "toc_position": {},
   "toc_section_display": true,
   "toc_window_display": false
  }
 },
 "nbformat": 4,
 "nbformat_minor": 2
}
